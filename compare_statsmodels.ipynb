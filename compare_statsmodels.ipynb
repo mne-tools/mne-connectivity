{
 "cells": [
  {
   "cell_type": "code",
   "execution_count": 1,
   "id": "846105d5-39b5-45dc-9c58-f5126d42c90e",
   "metadata": {},
   "outputs": [],
   "source": [
    "import numpy as np\n",
    "import pandas\n",
    "import statsmodels.api as sm\n",
    "from statsmodels.tsa.api import VAR\n",
    "\n",
    "from mne_connectivity import vector_auto_regression\n",
    "\n",
    "import seaborn as sns\n",
    "import matplotlib.pyplot as plt\n",
    "\n",
    "%load_ext autoreload\n",
    "%autoreload 2"
   ]
  },
  {
   "cell_type": "markdown",
   "id": "6d51a586-a732-4845-bad1-4186514a57eb",
   "metadata": {},
   "source": [
    "# Generate Data"
   ]
  },
  {
   "cell_type": "code",
   "execution_count": 2,
   "id": "865592e5-edb3-4f67-bdb6-49564bb34fac",
   "metadata": {},
   "outputs": [],
   "source": [
    "rng = np.random.RandomState(0)"
   ]
  },
  {
   "cell_type": "code",
   "execution_count": 5,
   "id": "f15970bb-f119-49fa-b0cd-bbf90fa119b4",
   "metadata": {},
   "outputs": [],
   "source": [
    "mdata = sm.datasets.macrodata.load_pandas().data\n",
    "\n",
    "# prepare the dates index\n",
    "dates = mdata[['year', 'quarter']].astype(int).astype(str)\n",
    "\n",
    "quarterly = dates[\"year\"] + \"Q\" + dates[\"quarter\"]\n",
    "\n",
    "from statsmodels.tsa.base.datetools import dates_from_str\n",
    "\n",
    "quarterly = dates_from_str(quarterly)\n",
    "\n",
    "mdata = mdata[['realgdp','realcons','realinv']]\n",
    "\n",
    "mdata.index = pandas.DatetimeIndex(quarterly)\n",
    "\n",
    "data = np.log(mdata).diff().dropna()"
   ]
  },
  {
   "cell_type": "code",
   "execution_count": 6,
   "id": "a93e30c7-7a46-49cc-84ec-91768c9c0769",
   "metadata": {},
   "outputs": [
    {
     "name": "stdout",
     "output_type": "stream",
     "text": [
      "(202, 3)\n"
     ]
    }
   ],
   "source": [
    "print(data.shape)"
   ]
  },
  {
   "cell_type": "code",
   "execution_count": 7,
   "id": "a0d01a83-56fd-45ce-ad71-6656a02cf431",
   "metadata": {},
   "outputs": [
    {
     "name": "stdout",
     "output_type": "stream",
     "text": [
      "(202, 3)\n"
     ]
    }
   ],
   "source": [
    "print(data.to_numpy().shape)"
   ]
  },
  {
   "cell_type": "code",
   "execution_count": 9,
   "id": "e99f385e-cf3f-49a8-b257-91ff23c66f0f",
   "metadata": {},
   "outputs": [],
   "source": [
    "times = np.arange(202)"
   ]
  },
  {
   "cell_type": "markdown",
   "id": "eacf5bdc-6e18-4a40-9b0b-dc602d438bf6",
   "metadata": {},
   "source": [
    "# Order-1 Model Fits"
   ]
  },
  {
   "cell_type": "markdown",
   "id": "a1443200-fe3c-40a1-8e4b-1a16eb5cbc31",
   "metadata": {},
   "source": [
    "## Apply MNE-Conn models"
   ]
  },
  {
   "cell_type": "code",
   "execution_count": 10,
   "id": "4c731ae1-34c7-407c-960a-8e8741128228",
   "metadata": {},
   "outputs": [
    {
     "name": "stderr",
     "output_type": "stream",
     "text": [
      "100%|██████████| 1/1 [00:00<00:00, 93.47it/s]\n"
     ]
    }
   ],
   "source": [
    "conn = vector_auto_regression(data.to_numpy().T[np.newaxis, ...], times=times, n_jobs=-1, model_order=1)"
   ]
  },
  {
   "cell_type": "code",
   "execution_count": 11,
   "id": "b8a6c350-c2cc-4ff1-9e11-b0d58c758b0c",
   "metadata": {},
   "outputs": [
    {
     "name": "stdout",
     "output_type": "stream",
     "text": [
      "<EpochConnectivity | , nave : 1, nodes, n_estimated : 3, 9, ~9 kB>\n"
     ]
    }
   ],
   "source": [
    "print(conn)"
   ]
  },
  {
   "cell_type": "code",
   "execution_count": 12,
   "id": "a3490088-0942-48de-ae46-9c10d913d296",
   "metadata": {},
   "outputs": [
    {
     "data": {
      "text/plain": [
       "<AxesSubplot:>"
      ]
     },
     "execution_count": 12,
     "metadata": {},
     "output_type": "execute_result"
    },
    {
     "data": {
      "image/png": "[encoded data removed]",
      "text/plain": [
       "<Figure size 432x288 with 2 Axes>"
      ]
     },
     "metadata": {
      "needs_background": "light"
     },
     "output_type": "display_data"
    }
   ],
   "source": [
    "sns.heatmap(conn.get_data(output='dense').squeeze(), cmap='viridis')"
   ]
  },
  {
   "cell_type": "markdown",
   "id": "7d6299cb-ed9d-40f4-8a61-2ad09904c222",
   "metadata": {},
   "source": [
    "# Apply statsmodels VAR"
   ]
  },
  {
   "cell_type": "code",
   "execution_count": 13,
   "id": "72aab227-11f0-43c5-a86d-c65938f51213",
   "metadata": {},
   "outputs": [
    {
     "name": "stderr",
     "output_type": "stream",
     "text": [
      "/Users/adam2392/miniforge3/envs/mne/lib/python3.8/site-packages/statsmodels/tsa/base/tsa_model.py:524: ValueWarning: No frequency information was provided, so inferred frequency Q-DEC will be used.\n",
      "  warnings.warn('No frequency information was'\n"
     ]
    }
   ],
   "source": [
    "model = VAR(data)"
   ]
  },
  {
   "cell_type": "code",
   "execution_count": 14,
   "id": "7dc498b0-589c-4e57-8139-72d35f05bae8",
   "metadata": {},
   "outputs": [],
   "source": [
    "results = model.fit(1, trend='nc')"
   ]
  },
  {
   "cell_type": "code",
   "execution_count": 15,
   "id": "4f4efa7c-2892-4b51-941f-0ef04c2e21c8",
   "metadata": {},
   "outputs": [
    {
     "name": "stdout",
     "output_type": "stream",
     "text": [
      "(1, 3, 3)\n"
     ]
    },
    {
     "data": {
      "text/plain": [
       "<AxesSubplot:>"
      ]
     },
     "execution_count": 15,
     "metadata": {},
     "output_type": "execute_result"
    },
    {
     "data": {
      "image/png": "[encoded data removed]",
      "text/plain": [
       "<Figure size 432x288 with 2 Axes>"
      ]
     },
     "metadata": {
      "needs_background": "light"
     },
     "output_type": "display_data"
    }
   ],
   "source": [
    "coef = results.coefs\n",
    "print(coef.shape)\n",
    "\n",
    "sns.heatmap(coef.squeeze(), cmap='viridis')"
   ]
  },
  {
   "cell_type": "code",
   "execution_count": 16,
   "id": "c130d1d8-0b35-4085-9203-be9742aa243e",
   "metadata": {},
   "outputs": [
    {
     "data": {
      "text/plain": [
       "  Summary of Regression Results   \n",
       "==================================\n",
       "Model:                         VAR\n",
       "Method:                        OLS\n",
       "Date:           Tue, 10, Aug, 2021\n",
       "Time:                     23:42:15\n",
       "--------------------------------------------------------------------\n",
       "No. of Equations:         3.00000    BIC:                   -27.3684\n",
       "Nobs:                     201.000    HQIC:                  -27.4565\n",
       "Log likelihood:           1918.77    FPE:                1.12156e-12\n",
       "AIC:                     -27.5163    Det(Omega_mle):     1.07281e-12\n",
       "--------------------------------------------------------------------\n",
       "Results for equation realgdp\n",
       "==============================================================================\n",
       "                 coefficient       std. error           t-stat            prob\n",
       "------------------------------------------------------------------------------\n",
       "L1.realgdp         -0.111991         0.167977           -0.667           0.505\n",
       "L1.realcons         0.844184         0.132588            6.367           0.000\n",
       "L1.realinv          0.023873         0.024671            0.968           0.333\n",
       "==============================================================================\n",
       "\n",
       "Results for equation realcons\n",
       "==============================================================================\n",
       "                 coefficient       std. error           t-stat            prob\n",
       "------------------------------------------------------------------------------\n",
       "L1.realgdp          0.262935         0.158834            1.655           0.098\n",
       "L1.realcons         0.499672         0.125371            3.986           0.000\n",
       "L1.realinv         -0.017302         0.023329           -0.742           0.458\n",
       "==============================================================================\n",
       "\n",
       "Results for equation realinv\n",
       "==============================================================================\n",
       "                 coefficient       std. error           t-stat            prob\n",
       "------------------------------------------------------------------------------\n",
       "L1.realgdp         -3.219237         0.867547           -3.711           0.000\n",
       "L1.realcons         4.153603         0.684774            6.066           0.000\n",
       "L1.realinv          0.451438         0.127420            3.543           0.000\n",
       "==============================================================================\n",
       "\n",
       "Correlation matrix of residuals\n",
       "             realgdp  realcons   realinv\n",
       "realgdp     1.000000  0.629809  0.687085\n",
       "realcons    0.629809  1.000000  0.048906\n",
       "realinv     0.687085  0.048906  1.000000\n",
       "\n"
      ]
     },
     "execution_count": 16,
     "metadata": {},
     "output_type": "execute_result"
    }
   ],
   "source": [
    "results.summary()"
   ]
  },
  {
   "cell_type": "code",
   "execution_count": 17,
   "id": "fd8173ab-468f-46ba-b613-c53b50d57fdf",
   "metadata": {},
   "outputs": [
    {
     "name": "stdout",
     "output_type": "stream",
     "text": [
      "9.60115771017561e-15\n"
     ]
    }
   ],
   "source": [
    "print(np.linalg.norm(coef - conn.get_data(output='dense')))\n",
    "np.testing.assert_array_almost_equal(coef, conn.get_data(output='dense'))"
   ]
  },
  {
   "cell_type": "markdown",
   "id": "78e06bf3-ad70-4d6a-bed8-14502f9a9408",
   "metadata": {},
   "source": [
    "# Model Order 2 Fits"
   ]
  },
  {
   "cell_type": "code",
   "execution_count": 20,
   "id": "62a315f9-9f68-4767-8217-8c90e32b45e5",
   "metadata": {},
   "outputs": [],
   "source": [
    "model_order = 2"
   ]
  },
  {
   "cell_type": "code",
   "execution_count": 21,
   "id": "556a408c-df5a-4979-bcf0-cdfef4762f1e",
   "metadata": {},
   "outputs": [
    {
     "name": "stdout",
     "output_type": "stream",
     "text": [
      "(3, 6)\n"
     ]
    }
   ],
   "source": [
    "conn = vector_auto_regression(data.to_numpy().T[np.newaxis, ...], model='avg-epochs', \n",
    "                              times=times, n_jobs=-1, model_order=model_order)"
   ]
  },
  {
   "cell_type": "code",
   "execution_count": 22,
   "id": "a6cf0a44-5168-4b5e-bbd6-d05823bd6565",
   "metadata": {},
   "outputs": [
    {
     "name": "stdout",
     "output_type": "stream",
     "text": [
      "(1, 3, 202)\n"
     ]
    }
   ],
   "source": [
    "print(data.to_numpy().T[np.newaxis, ...].shape)"
   ]
  },
  {
   "cell_type": "code",
   "execution_count": 23,
   "id": "229df9bd-ffbb-4fa2-b9a5-53bf4047b1a2",
   "metadata": {},
   "outputs": [
    {
     "name": "stdout",
     "output_type": "stream",
     "text": [
      "<Connectivity | , nave : 1, nodes, n_estimated : 3, 18, ~9 kB>\n",
      "(3, 6)\n"
     ]
    }
   ],
   "source": [
    "print(conn)\n",
    "\n",
    "print(conn.get_data(output='dense').shape)"
   ]
  },
  {
   "cell_type": "code",
   "execution_count": 25,
   "id": "babbd45f-c4e6-482b-9d5a-a9a59ad1cd06",
   "metadata": {},
   "outputs": [],
   "source": [
    "results = model.fit(model_order, trend='nc')"
   ]
  },
  {
   "cell_type": "code",
   "execution_count": 26,
   "id": "84b89ac0-1323-4e15-94e5-24ce02e606ee",
   "metadata": {},
   "outputs": [
    {
     "data": {
      "image/png": "[encoded data removed]",
      "text/plain": [
       "<Figure size 432x288 with 2 Axes>"
      ]
     },
     "metadata": {
      "needs_background": "light"
     },
     "output_type": "display_data"
    },
    {
     "data": {
      "image/png": "[encoded data removed]",
      "text/plain": [
       "<Figure size 432x288 with 2 Axes>"
      ]
     },
     "metadata": {
      "needs_background": "light"
     },
     "output_type": "display_data"
    }
   ],
   "source": [
    "for idx in range(model_order):\n",
    "    plt.figure()\n",
    "    sns.heatmap(results.coefs[idx, ...])"
   ]
  },
  {
   "cell_type": "code",
   "execution_count": 30,
   "id": "95c52496-b216-40ec-9b1b-c4a88017d1f2",
   "metadata": {},
   "outputs": [
    {
     "name": "stdout",
     "output_type": "stream",
     "text": [
      "(18,)\n",
      "(18,)\n"
     ]
    }
   ],
   "source": [
    "print(results.coefs.flatten().shape)\n",
    "print(conn.get_data().shape)"
   ]
  },
  {
   "cell_type": "code",
   "execution_count": 32,
   "id": "a067c3a3-a1d2-496e-92c2-0fe09a05a220",
   "metadata": {},
   "outputs": [
    {
     "ename": "AssertionError",
     "evalue": "\nArrays are not almost equal to 6 decimals\n\nMismatched elements: 6 / 9 (66.7%)\nMax absolute difference: 4.62575709\nMax relative difference: 10.32676849\n x: array([[-0.212227,  0.690114,  0.0195  ],\n       [ 0.139829,  0.322623, -0.023314],\n       [-3.023011,  4.177819,  0.440236]])\n y: array([[-0.212227,  0.061163,  0.690114],\n       [ 0.139829,  0.066116,  0.322623],\n       [-3.023011, -0.447938,  4.177819]])",
     "output_type": "error",
     "traceback": [
      "\u001b[0;31m---------------------------------------------------------------------------\u001b[0m",
      "\u001b[0;31mAssertionError\u001b[0m                            Traceback (most recent call last)",
      "\u001b[0;32m<ipython-input-32-63fa5c8ca188>\u001b[0m in \u001b[0;36m<module>\u001b[0;34m\u001b[0m\n\u001b[1;32m      1\u001b[0m \u001b[0;32mfor\u001b[0m \u001b[0midx\u001b[0m \u001b[0;32min\u001b[0m \u001b[0mrange\u001b[0m\u001b[0;34m(\u001b[0m\u001b[0mmodel_order\u001b[0m\u001b[0;34m)\u001b[0m\u001b[0;34m:\u001b[0m\u001b[0;34m\u001b[0m\u001b[0;34m\u001b[0m\u001b[0m\n\u001b[0;32m----> 2\u001b[0;31m     \u001b[0mnp\u001b[0m\u001b[0;34m.\u001b[0m\u001b[0mtesting\u001b[0m\u001b[0;34m.\u001b[0m\u001b[0massert_array_almost_equal\u001b[0m\u001b[0;34m(\u001b[0m\u001b[0mresults\u001b[0m\u001b[0;34m.\u001b[0m\u001b[0mcoefs\u001b[0m\u001b[0;34m[\u001b[0m\u001b[0;34m-\u001b[0m\u001b[0midx\u001b[0m\u001b[0;34m,\u001b[0m \u001b[0;34m...\u001b[0m\u001b[0;34m]\u001b[0m\u001b[0;34m,\u001b[0m \u001b[0mconn\u001b[0m\u001b[0;34m.\u001b[0m\u001b[0mget_data\u001b[0m\u001b[0;34m(\u001b[0m\u001b[0moutput\u001b[0m\u001b[0;34m=\u001b[0m\u001b[0;34m'dense'\u001b[0m\u001b[0;34m)\u001b[0m\u001b[0;34m[\u001b[0m\u001b[0;34m:\u001b[0m\u001b[0;34m,\u001b[0m \u001b[0midx\u001b[0m\u001b[0;34m:\u001b[0m\u001b[0;36m3\u001b[0m\u001b[0;34m*\u001b[0m\u001b[0;34m(\u001b[0m\u001b[0midx\u001b[0m\u001b[0;34m+\u001b[0m\u001b[0;36m1\u001b[0m\u001b[0;34m)\u001b[0m\u001b[0;34m]\u001b[0m\u001b[0;34m)\u001b[0m\u001b[0;34m\u001b[0m\u001b[0;34m\u001b[0m\u001b[0m\n\u001b[0m",
      "    \u001b[0;31m[... skipping hidden 1 frame]\u001b[0m\n",
      "\u001b[0;32m~/miniforge3/envs/mne/lib/python3.8/site-packages/numpy/testing/_private/utils.py\u001b[0m in \u001b[0;36massert_array_compare\u001b[0;34m(comparison, x, y, err_msg, verbose, header, precision, equal_nan, equal_inf)\u001b[0m\n\u001b[1;32m    842\u001b[0m                                 \u001b[0mverbose\u001b[0m\u001b[0;34m=\u001b[0m\u001b[0mverbose\u001b[0m\u001b[0;34m,\u001b[0m \u001b[0mheader\u001b[0m\u001b[0;34m=\u001b[0m\u001b[0mheader\u001b[0m\u001b[0;34m,\u001b[0m\u001b[0;34m\u001b[0m\u001b[0;34m\u001b[0m\u001b[0m\n\u001b[1;32m    843\u001b[0m                                 names=('x', 'y'), precision=precision)\n\u001b[0;32m--> 844\u001b[0;31m             \u001b[0;32mraise\u001b[0m \u001b[0mAssertionError\u001b[0m\u001b[0;34m(\u001b[0m\u001b[0mmsg\u001b[0m\u001b[0;34m)\u001b[0m\u001b[0;34m\u001b[0m\u001b[0;34m\u001b[0m\u001b[0m\n\u001b[0m\u001b[1;32m    845\u001b[0m     \u001b[0;32mexcept\u001b[0m \u001b[0mValueError\u001b[0m\u001b[0;34m:\u001b[0m\u001b[0;34m\u001b[0m\u001b[0;34m\u001b[0m\u001b[0m\n\u001b[1;32m    846\u001b[0m         \u001b[0;32mimport\u001b[0m \u001b[0mtraceback\u001b[0m\u001b[0;34m\u001b[0m\u001b[0;34m\u001b[0m\u001b[0m\n",
      "\u001b[0;31mAssertionError\u001b[0m: \nArrays are not almost equal to 6 decimals\n\nMismatched elements: 6 / 9 (66.7%)\nMax absolute difference: 4.62575709\nMax relative difference: 10.32676849\n x: array([[-0.212227,  0.690114,  0.0195  ],\n       [ 0.139829,  0.322623, -0.023314],\n       [-3.023011,  4.177819,  0.440236]])\n y: array([[-0.212227,  0.061163,  0.690114],\n       [ 0.139829,  0.066116,  0.322623],\n       [-3.023011, -0.447938,  4.177819]])"
     ]
    }
   ],
   "source": [
    "for idx in range(model_order):\n",
    "    np.testing.assert_array_almost_equal(results.coefs[idx, ...], conn.get_data(output='dense')[:, idx:3*(idx+1)])"
   ]
  },
  {
   "cell_type": "code",
   "execution_count": null,
   "id": "144f37b6-40fc-4afd-82c3-f782a02cefbd",
   "metadata": {},
   "outputs": [],
   "source": []
  }
 ],
 "metadata": {
  "kernelspec": {
   "display_name": "mne",
   "language": "python",
   "name": "mne"
  },
  "language_info": {
   "codemirror_mode": {
    "name": "ipython",
    "version": 3
   },
   "file_extension": ".py",
   "mimetype": "text/x-python",
   "name": "python",
   "nbconvert_exporter": "python",
   "pygments_lexer": "ipython3",
   "version": "3.8.10"
  }
 },
 "nbformat": 4,
 "nbformat_minor": 5
}
