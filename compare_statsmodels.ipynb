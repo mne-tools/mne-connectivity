{
 "cells": [
  {
   "cell_type": "code",
   "execution_count": 30,
   "id": "846105d5-39b5-45dc-9c58-f5126d42c90e",
   "metadata": {},
   "outputs": [],
   "source": [
    "import numpy as np\n",
    "import pandas\n",
    "import statsmodels.api as sm\n",
    "from statsmodels.tsa.api import VAR\n",
    "\n",
    "from mne_connectivity import vector_auto_regression\n",
    "\n",
    "import seaborn as sns"
   ]
  },
  {
   "cell_type": "markdown",
   "id": "6d51a586-a732-4845-bad1-4186514a57eb",
   "metadata": {},
   "source": [
    "# Generate Data"
   ]
  },
  {
   "cell_type": "code",
   "execution_count": 21,
   "id": "865592e5-edb3-4f67-bdb6-49564bb34fac",
   "metadata": {},
   "outputs": [
    {
     "name": "stdout",
     "output_type": "stream",
     "text": [
      "(2, 4, 64)\n"
     ]
    }
   ],
   "source": [
    "rng = np.random.RandomState(0)\n",
    "n_epochs, n_signals, n_times = 2, 4, 64\n",
    "data = rng.randn(n_epochs, n_signals, n_times)\n",
    "times = np.arange(n_times)\n",
    "\n",
    "print(data.shape)"
   ]
  },
  {
   "cell_type": "code",
   "execution_count": 22,
   "id": "dc146557-65fd-4c25-a77e-1f2920d436f6",
   "metadata": {},
   "outputs": [],
   "source": [
    "# statsmodels only takes in data that is T x K,\n",
    "# where T is number of time points and K is the number of signals\n",
    "data = rng.randn(n_times, n_signals)"
   ]
  },
  {
   "cell_type": "code",
   "execution_count": 17,
   "id": "f15970bb-f119-49fa-b0cd-bbf90fa119b4",
   "metadata": {},
   "outputs": [],
   "source": [
    "mdata = sm.datasets.macrodata.load_pandas().data\n",
    "\n",
    "# prepare the dates index\n",
    "dates = mdata[['year', 'quarter']].astype(int).astype(str)\n",
    "\n",
    "quarterly = dates[\"year\"] + \"Q\" + dates[\"quarter\"]\n",
    "\n",
    "from statsmodels.tsa.base.datetools import dates_from_str\n",
    "\n",
    "quarterly = dates_from_str(quarterly)\n",
    "\n",
    "mdata = mdata[['realgdp','realcons','realinv']]\n",
    "\n",
    "mdata.index = pandas.DatetimeIndex(quarterly)\n",
    "\n",
    "data = np.log(mdata).diff().dropna()"
   ]
  },
  {
   "cell_type": "code",
   "execution_count": 25,
   "id": "a93e30c7-7a46-49cc-84ec-91768c9c0769",
   "metadata": {},
   "outputs": [
    {
     "name": "stdout",
     "output_type": "stream",
     "text": [
      "(64, 4)\n",
      "\n"
     ]
    }
   ],
   "source": [
    "print(data.shape)\n",
    "print()"
   ]
  },
  {
   "cell_type": "markdown",
   "id": "a1443200-fe3c-40a1-8e4b-1a16eb5cbc31",
   "metadata": {},
   "source": [
    "# Apply MNE-Conn models"
   ]
  },
  {
   "cell_type": "code",
   "execution_count": 6,
   "id": "4c731ae1-34c7-407c-960a-8e8741128228",
   "metadata": {},
   "outputs": [
    {
     "name": "stderr",
     "output_type": "stream",
     "text": [
      "100%|██████████| 2/2 [00:00<00:00, 137.71it/s]\n"
     ]
    }
   ],
   "source": [
    "conn = vector_auto_regression(data, times=times, n_jobs=-1)\n"
   ]
  },
  {
   "cell_type": "code",
   "execution_count": 10,
   "id": "b8a6c350-c2cc-4ff1-9e11-b0d58c758b0c",
   "metadata": {},
   "outputs": [
    {
     "name": "stdout",
     "output_type": "stream",
     "text": [
      "<EpochConnectivity | , nave : 2, nodes, n_estimated : 4, 16, ~4 kB>\n"
     ]
    }
   ],
   "source": [
    "print(conn)"
   ]
  },
  {
   "cell_type": "markdown",
   "id": "7d6299cb-ed9d-40f4-8a61-2ad09904c222",
   "metadata": {},
   "source": [
    "# Apply statsmodels VAR"
   ]
  },
  {
   "cell_type": "code",
   "execution_count": 23,
   "id": "72aab227-11f0-43c5-a86d-c65938f51213",
   "metadata": {},
   "outputs": [],
   "source": [
    "model = VAR(data)"
   ]
  },
  {
   "cell_type": "code",
   "execution_count": 24,
   "id": "7dc498b0-589c-4e57-8139-72d35f05bae8",
   "metadata": {},
   "outputs": [],
   "source": [
    "results = model.fit(1)"
   ]
  },
  {
   "cell_type": "code",
   "execution_count": 28,
   "id": "4f4efa7c-2892-4b51-941f-0ef04c2e21c8",
   "metadata": {},
   "outputs": [
    {
     "name": "stdout",
     "output_type": "stream",
     "text": [
      "(1, 4, 4)\n"
     ]
    }
   ],
   "source": [
    "coef = results.coefs\n",
    "print(coef.shape)\n",
    "\n",
    "sns.heatmap(coef.squeeze(), cmap='viridis')"
   ]
  },
  {
   "cell_type": "code",
   "execution_count": 27,
   "id": "c130d1d8-0b35-4085-9203-be9742aa243e",
   "metadata": {},
   "outputs": [
    {
     "data": {
      "text/plain": [
       "  Summary of Regression Results   \n",
       "==================================\n",
       "Model:                         VAR\n",
       "Method:                        OLS\n",
       "Date:           Wed, 04, Aug, 2021\n",
       "Time:                     17:10:53\n",
       "--------------------------------------------------------------------\n",
       "No. of Equations:         4.00000    BIC:                   0.761652\n",
       "Nobs:                     63.0000    HQIC:                  0.348881\n",
       "Log likelihood:          -340.133    FPE:                    1.08614\n",
       "AIC:                    0.0812921    Det(Omega_mle):        0.800226\n",
       "--------------------------------------------------------------------\n",
       "Results for equation y1\n",
       "========================================================================\n",
       "           coefficient       std. error           t-stat            prob\n",
       "------------------------------------------------------------------------\n",
       "const        -0.410343         0.126429           -3.246           0.001\n",
       "L1.y1        -0.150704         0.125845           -1.198           0.231\n",
       "L1.y2         0.080613         0.111708            0.722           0.471\n",
       "L1.y3        -0.107395         0.129651           -0.828           0.407\n",
       "L1.y4        -0.255913         0.107488           -2.381           0.017\n",
       "========================================================================\n",
       "\n",
       "Results for equation y2\n",
       "========================================================================\n",
       "           coefficient       std. error           t-stat            prob\n",
       "------------------------------------------------------------------------\n",
       "const        -0.334451         0.142667           -2.344           0.019\n",
       "L1.y1        -0.225099         0.142009           -1.585           0.113\n",
       "L1.y2        -0.120867         0.126055           -0.959           0.338\n",
       "L1.y3         0.087710         0.146303            0.600           0.549\n",
       "L1.y4        -0.049061         0.121294           -0.404           0.686\n",
       "========================================================================\n",
       "\n",
       "Results for equation y3\n",
       "========================================================================\n",
       "           coefficient       std. error           t-stat            prob\n",
       "------------------------------------------------------------------------\n",
       "const         0.099881         0.128056            0.780           0.435\n",
       "L1.y1         0.053564         0.127465            0.420           0.674\n",
       "L1.y2         0.011379         0.113145            0.101           0.920\n",
       "L1.y3         0.024109         0.131319            0.184           0.854\n",
       "L1.y4        -0.134190         0.108871           -1.233           0.218\n",
       "========================================================================\n",
       "\n",
       "Results for equation y4\n",
       "========================================================================\n",
       "           coefficient       std. error           t-stat            prob\n",
       "------------------------------------------------------------------------\n",
       "const        -0.103065         0.150599           -0.684           0.494\n",
       "L1.y1         0.108055         0.149905            0.721           0.471\n",
       "L1.y2        -0.259060         0.133064           -1.947           0.052\n",
       "L1.y3        -0.030733         0.154438           -0.199           0.842\n",
       "L1.y4        -0.161056         0.128038           -1.258           0.208\n",
       "========================================================================\n",
       "\n",
       "Correlation matrix of residuals\n",
       "            y1        y2        y3        y4\n",
       "y1    1.000000  0.099055  0.021086 -0.060186\n",
       "y2    0.099055  1.000000 -0.028027 -0.052874\n",
       "y3    0.021086 -0.028027  1.000000 -0.232869\n",
       "y4   -0.060186 -0.052874 -0.232869  1.000000\n",
       "\n"
      ]
     },
     "execution_count": 27,
     "metadata": {},
     "output_type": "execute_result"
    }
   ],
   "source": [
    "results.summary()"
   ]
  },
  {
   "cell_type": "code",
   "execution_count": null,
   "id": "33247822-5145-4a03-a384-c71f6804164e",
   "metadata": {},
   "outputs": [],
   "source": []
  }
 ],
 "metadata": {
  "kernelspec": {
   "display_name": "mne",
   "language": "python",
   "name": "mne"
  },
  "language_info": {
   "codemirror_mode": {
    "name": "ipython",
    "version": 3
   },
   "file_extension": ".py",
   "mimetype": "text/x-python",
   "name": "python",
   "nbconvert_exporter": "python",
   "pygments_lexer": "ipython3",
   "version": "3.8.10"
  }
 },
 "nbformat": 4,
 "nbformat_minor": 5
}
