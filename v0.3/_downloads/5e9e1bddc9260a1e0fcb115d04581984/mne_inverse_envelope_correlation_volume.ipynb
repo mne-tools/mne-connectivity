{
  "cells": [
    {
      "cell_type": "code",
      "execution_count": null,
      "metadata": {
        "collapsed": false
      },
      "outputs": [],
      "source": [
        "%matplotlib inline"
      ]
    },
    {
      "cell_type": "markdown",
      "metadata": {},
      "source": [
        "\n# Compute envelope correlations in volume source space\n\nCompute envelope correlations of orthogonalized activity\n:footcite:`HippEtAl2012,KhanEtAl2018` in source space using resting state\nCTF data in a volume source space.\n"
      ]
    },
    {
      "cell_type": "code",
      "execution_count": null,
      "metadata": {
        "collapsed": false
      },
      "outputs": [],
      "source": [
        "# Authors: Eric Larson <larson.eric.d@gmail.com>\n#          Sheraz Khan <sheraz@khansheraz.com>\n#          Denis Engemann <denis.engemann@gmail.com>\n#\n# License: BSD (3-clause)\n\nimport os.path as op\n\nimport mne\nimport mne_connectivity\nfrom mne.beamformer import make_lcmv, apply_lcmv_epochs\nfrom mne.preprocessing import compute_proj_ecg, compute_proj_eog\nfrom mne_connectivity import envelope_correlation\n\ndata_path = mne.datasets.brainstorm.bst_resting.data_path()\nsubjects_dir = op.join(data_path, 'subjects')\nsubject = 'bst_resting'\ntrans = op.join(data_path, 'MEG', 'bst_resting', 'bst_resting-trans.fif')\nbem = op.join(subjects_dir, subject, 'bem', subject + '-5120-bem-sol.fif')\nraw_fname = op.join(data_path, 'MEG', 'bst_resting',\n                    'subj002_spontaneous_20111102_01_AUX.ds')\ncrop_to = 60."
      ]
    },
    {
      "cell_type": "markdown",
      "metadata": {},
      "source": [
        "Here we do some things in the name of speed, such as crop (which will\nhurt SNR) and downsample. Then we compute SSP projectors and apply them.\n\n"
      ]
    },
    {
      "cell_type": "code",
      "execution_count": null,
      "metadata": {
        "collapsed": false
      },
      "outputs": [],
      "source": [
        "raw = mne.io.read_raw_ctf(raw_fname, verbose='error')\nraw.crop(0, crop_to).pick_types(meg=True, eeg=False).load_data().resample(80)\nraw.apply_gradient_compensation(3)\nprojs_ecg, _ = compute_proj_ecg(raw, n_grad=1, n_mag=2)\nprojs_eog, _ = compute_proj_eog(raw, n_grad=1, n_mag=2, ch_name='MLT31-4407')\nraw.add_proj(projs_ecg + projs_eog)\nraw.apply_proj()\ncov = mne.compute_raw_covariance(raw)  # compute before band-pass of interest"
      ]
    },
    {
      "cell_type": "markdown",
      "metadata": {},
      "source": [
        "Now we band-pass filter our data and create epochs.\n\n"
      ]
    },
    {
      "cell_type": "code",
      "execution_count": null,
      "metadata": {
        "collapsed": false
      },
      "outputs": [],
      "source": [
        "raw.filter(14, 30)\nevents = mne.make_fixed_length_events(raw, duration=5.)\nepochs = mne.Epochs(raw, events=events, tmin=0, tmax=5.,\n                    baseline=None, reject=dict(mag=8e-13), preload=True)\ndata_cov = mne.compute_covariance(epochs)\ndel raw, projs_ecg, projs_eog"
      ]
    },
    {
      "cell_type": "markdown",
      "metadata": {},
      "source": [
        "## Compute the forward and inverse\n\n"
      ]
    },
    {
      "cell_type": "code",
      "execution_count": null,
      "metadata": {
        "collapsed": false
      },
      "outputs": [],
      "source": [
        "# This source space is really far too coarse, but we do this for speed\n# considerations here\npos = 15.  # 1.5 cm is very broad, done here for speed!\nsrc = mne.setup_volume_source_space('bst_resting', pos, bem=bem,\n                                    subjects_dir=subjects_dir, verbose=True)\nfwd = mne.make_forward_solution(epochs.info, trans, src, bem)\nfilters = make_lcmv(epochs.info, fwd, data_cov, 0.05, cov,\n                    pick_ori='max-power', weight_norm='nai')\ndel fwd, data_cov, cov"
      ]
    },
    {
      "cell_type": "markdown",
      "metadata": {},
      "source": [
        "## Compute label time series and do envelope correlation\n\n"
      ]
    },
    {
      "cell_type": "code",
      "execution_count": null,
      "metadata": {
        "collapsed": false
      },
      "outputs": [],
      "source": [
        "epochs.apply_hilbert()  # faster to do in sensor space\nstcs = apply_lcmv_epochs(epochs, filters, return_generator=True)\ncorr = envelope_correlation(stcs, verbose=True)\ndel stcs, epochs, filters\n\n# average over epochs\ncorr = corr.combine()"
      ]
    },
    {
      "cell_type": "markdown",
      "metadata": {},
      "source": [
        "## Compute the degree and plot it\n\n"
      ]
    },
    {
      "cell_type": "code",
      "execution_count": null,
      "metadata": {
        "collapsed": false
      },
      "outputs": [],
      "source": [
        "degree = mne_connectivity.degree(corr, 0.15)\nstc = mne.VolSourceEstimate(degree, [src[0]['vertno']], 0, 1, 'bst_resting')\nbrain = stc.plot(\n    src, clim=dict(kind='percent', lims=[75, 85, 95]), colormap='gnuplot',\n    subjects_dir=subjects_dir, mode='glass_brain')"
      ]
    },
    {
      "cell_type": "markdown",
      "metadata": {},
      "source": [
        "## References\n.. footbibliography::\n\n"
      ]
    }
  ],
  "metadata": {
    "kernelspec": {
      "display_name": "Python 3",
      "language": "python",
      "name": "python3"
    },
    "language_info": {
      "codemirror_mode": {
        "name": "ipython",
        "version": 3
      },
      "file_extension": ".py",
      "mimetype": "text/x-python",
      "name": "python",
      "nbconvert_exporter": "python",
      "pygments_lexer": "ipython3",
      "version": "3.9.12"
    }
  },
  "nbformat": 4,
  "nbformat_minor": 0
}