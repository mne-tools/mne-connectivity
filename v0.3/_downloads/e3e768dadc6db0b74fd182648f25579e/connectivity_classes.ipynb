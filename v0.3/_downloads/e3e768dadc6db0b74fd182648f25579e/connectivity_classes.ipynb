{
  "cells": [
    {
      "cell_type": "code",
      "execution_count": null,
      "metadata": {
        "collapsed": false
      },
      "outputs": [],
      "source": [
        "%matplotlib inline"
      ]
    },
    {
      "cell_type": "markdown",
      "metadata": {},
      "source": [
        "\n\n# Using the connectivity classes\n\nCompute different connectivity measures and then demonstrate\nthe utility of the class.\n\nHere we compute the Phase Lag Index (PLI) between all gradiometers and showcase\nhow we can interact with the connectivity class.\n"
      ]
    },
    {
      "cell_type": "code",
      "execution_count": null,
      "metadata": {
        "collapsed": false
      },
      "outputs": [],
      "source": [
        "# Authors: Adam Li <adam2392@gmail.com>\n#\n# License: BSD (3-clause)\n\nimport numpy as np\n\nimport mne\nfrom mne_connectivity import spectral_connectivity_epochs\nfrom mne.datasets import sample"
      ]
    },
    {
      "cell_type": "markdown",
      "metadata": {},
      "source": [
        "Set parameters\n\n"
      ]
    },
    {
      "cell_type": "code",
      "execution_count": null,
      "metadata": {
        "collapsed": false
      },
      "outputs": [],
      "source": [
        "data_path = sample.data_path()\nraw_fname = data_path + '/MEG/sample/sample_audvis_filt-0-40_raw.fif'\nevent_fname = data_path + '/MEG/sample/sample_audvis_filt-0-40_raw-eve.fif'\n\n# Setup for reading the raw data\nraw = mne.io.read_raw_fif(raw_fname)\nevents = mne.read_events(event_fname)\n\n# Add a bad channel\nraw.info['bads'] += ['MEG 2443']\n\n# Pick MEG gradiometers\npicks = mne.pick_types(raw.info, meg='grad', eeg=False, stim=False, eog=True,\n                       exclude='bads')\n\n# Create epochs for the visual condition\nevent_id, tmin, tmax = 3, -0.2, 1.5  # need a long enough epoch for 5 cycles\nepochs = mne.Epochs(raw, events, event_id, tmin, tmax, picks=picks,\n                    baseline=(None, 0), reject=dict(grad=4000e-13, eog=150e-6))\n\n# Compute connectivity for the alpha band that contains the evoked response\n# (4-9 Hz). We exclude the baseline period:\nfmin, fmax = 4., 9.\ncwt_freqs = np.linspace(fmin, fmax, 5)\nsfreq = raw.info['sfreq']  # the sampling frequency\ntmin = 0.0  # exclude the baseline period\nepochs.load_data().pick_types(meg='grad')  # just keep MEG and no EOG now\ncon = spectral_connectivity_epochs(\n    epochs, method='pli', mode='cwt_morlet', sfreq=sfreq, fmin=fmin, fmax=fmax,\n    faverage=False, tmin=tmin, cwt_freqs=cwt_freqs, mt_adaptive=False,\n    n_jobs=1)"
      ]
    },
    {
      "cell_type": "markdown",
      "metadata": {},
      "source": [
        "Now, we can look at different functionalities of the connectivity\nclass returned by :func:`mne_connectivity.spectral_connectivity_epochs`. The\nfollowing are some basic attributes of connectivity classes.\n\n"
      ]
    },
    {
      "cell_type": "code",
      "execution_count": null,
      "metadata": {
        "collapsed": false
      },
      "outputs": [],
      "source": [
        "# the dimensions of the data corresponding to each axis\nprint(con.dims)\n\n# the coordinates for each axis of the data\nprint(con.coords)\n\n# the number of nodes matches the number of electrodes used to compute the\n# spectral measure\nprint(con.n_nodes)\n\n# the names of each node correspond to the electrode names\nprint(con.names)"
      ]
    },
    {
      "cell_type": "markdown",
      "metadata": {},
      "source": [
        "The underlying connectivity measure can be stored in two ways: i) raveled\nand ii) dense. Raveled storage will be a 1D column flattened array, similar\nto what one might expect when using `numpy.ravel`. However, if you ask for\nthe dense data, then the shape will show the N by N connectivity.\nIn general, you might prefer the raveled version if you specify a subset of\nindices (e.g. some subset of sources) for the computation\nof a bivariate connectivity measure or if you have a symmetric measure\n(e.g. coherence). The 'dense' output on the other hand provides an actual\nsquare matrix, which can be used for post-hoc analysis that expects a matrix\nshape.\n\n"
      ]
    },
    {
      "cell_type": "code",
      "execution_count": null,
      "metadata": {
        "collapsed": false
      },
      "outputs": [],
      "source": [
        "# the underlying data is stored \"raveled\", and the connectivity measure is\n# flattened into one dimension\nprint(con.shape)\n\n# the 'dense' output will show the connectivity measure's N x N axis\nprint(con.get_data(output='dense').shape)"
      ]
    },
    {
      "cell_type": "markdown",
      "metadata": {},
      "source": [
        "The underlying data is stored as an xarray, so we have access\nto DataArray attributes. Each connectivity measure function automatically\nstores relevant metadata. For example, the method used in this example\nis the phase-lag index ('pli').\n\n"
      ]
    },
    {
      "cell_type": "code",
      "execution_count": null,
      "metadata": {
        "collapsed": false
      },
      "outputs": [],
      "source": [
        "print(con.attrs.keys())\nprint(con.attrs.get('method'))\n\n# You can also store additional metadata relevant to your experiment, which can\n# easily be done, because ``attrs`` is just a dictionary.\ncon.attrs['experimenter'] = 'mne'\nprint(con.attrs.keys())"
      ]
    },
    {
      "cell_type": "markdown",
      "metadata": {},
      "source": [
        "Other properties of the connectivity class, special to\nthe spectro-temporal connectivity class.\n\n<div class=\"alert alert-info\"><h4>Note</h4><p>Not all connectivity classes will have these properties.</p></div>\n\n"
      ]
    },
    {
      "cell_type": "code",
      "execution_count": null,
      "metadata": {
        "collapsed": false
      },
      "outputs": [],
      "source": [
        "# a frequency axis shows the different frequencies used in estimating\n# the spectral measure\nprint(con.freqs)\n\n# a time axis shows the different time points because the spectral\n# measure is time-resolved\nprint(con.times)"
      ]
    }
  ],
  "metadata": {
    "kernelspec": {
      "display_name": "Python 3",
      "language": "python",
      "name": "python3"
    },
    "language_info": {
      "codemirror_mode": {
        "name": "ipython",
        "version": 3
      },
      "file_extension": ".py",
      "mimetype": "text/x-python",
      "name": "python",
      "nbconvert_exporter": "python",
      "pygments_lexer": "ipython3",
      "version": "3.9.12"
    }
  },
  "nbformat": 4,
  "nbformat_minor": 0
}