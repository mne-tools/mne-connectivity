{
  "cells": [
    {
      "cell_type": "markdown",
      "metadata": {},
      "source": [
        "\n# Comparing spectral connectivity computed over time or over trials\n\nThis example demonstrates the difference between spectral connectivity\ncomputed over time or over trials.\n\nA brief background on the difference between the two conditions is provided,\nfollowed by examples on simulated data and real EEG data.\n"
      ]
    },
    {
      "cell_type": "markdown",
      "metadata": {},
      "source": [
        "## Background\n\nSpectral connectivity is a method for inferring the relationship between\nchannels decomposed at different frequencies of interest. The channels\ncould be M/EEG sensors or brain regions estimated with source localization.\n\nThere are multiple different spectral connectivity measures, e.g. coherence,\nimaginary part of coherence, phase locking value, and envelope correlations.\nAdditionally, there are also multiple methods to estimate the frequency\ncontent, e.g. Fourier transforms, Morlet wavelets and multitapers.\n\nIn this example, we focus on the two functions, which both computes\nconnectivity from epoched data :class:`mne.Epochs`:\n:func:`mne_connectivity.spectral_connectivity_epochs` and\n:func:`mne_connectivity.spectral_connectivity_time`.\n\nBoth functions contain the options to choose the connectivity measurements\nof interest and the method to decompose the frequency content.\nThe crucial difference between when to use which function lies on\nthe experimental setup and type of tasks.\n\nIf the data is obtained for repeated trials of a time-locked event,\ne.g. [ERP](erp_tut_) data, then\n:func:`mne_connectivity.spectral_connectivity_epochs`\nis most likely the corresponding function to utilize.\n\n\nIf the data is obtained from resting-state or free-moving tasks,\ne.g. a mirror-game paradigm :footcite:`Zimmermann2022`, then\n:func:`mne_connectivity.spectral_connectivity_time` might be better suited.\n\n**Assumptions and Interpretations**\n\nThe way connectivity is computed for the two functions are slightly\ndifferent, thus their interpretations and the hypotheses being tested are\nalso different.\n\nConnectivity over trials, as computed by\n:func:`mne_connectivity.spectral_connectivity_epochs` assume epochs have\nbeen created around each trial and the function estimates the connectivity\nat each timepoint over all the repeated trials for the same event.\nThis gives a high temporal resolution, which is often desired for ERP\nanalysis where you are interested in when an effect occurs.\nHowever, this approach is not feasible for single-trial data and will\nresult in errorful values when computed on one epoch.\n\nOn the other hand, if you are interested in determining connectivity over\ntime for single-trials or from experiments that do not involve exactly\nrepeated trials, then :func:`mne_connectivity.spectral_connectivity_time`\nshould be employed. This function also takes data in the form of\n:class:`mne.Epochs`, but it may consist of a single epoch.\nIf there are multiple epochs, the connectivity over time is computed for\nepoch separately, with the option to average over epochs.\n\nTo better illustrate the differences and usages for the two functions,\nwe will employ them on two simulated cases and also analyze a real\nvisual task dataset.\n\n"
      ]
    },
    {
      "cell_type": "code",
      "execution_count": null,
      "metadata": {
        "collapsed": false
      },
      "outputs": [],
      "source": [
        "# Author: Qianliang Li <glia@dtu.dk>\n#\n# License: BSD (3-clause)\n\nimport matplotlib.pyplot as plt\nimport mne\nimport numpy as np\nfrom mne.datasets import sample\n\nfrom mne_connectivity import spectral_connectivity_epochs, spectral_connectivity_time\nfrom mne_connectivity.viz import plot_sensors_connectivity\n\nrng = np.random.default_rng(1234)  # set seed for reproducibility\n\nprint(__doc__)"
      ]
    },
    {
      "cell_type": "markdown",
      "metadata": {},
      "source": [
        "## Simulated examples\n**Case 1: Repetitions of the same trial.**\n\nLet's generate some simulated data in the format of :class:`mne.EpochsArray`.\nIn this case, we will use random data for 3 channels over 5 epochs, but\nall the epochs are just exact replicates of the first epoch. This simulates\nwhen data is collected over an event of interest where we **assume** the\nconnectivity structure is the same over each event.\n\n"
      ]
    },
    {
      "cell_type": "code",
      "execution_count": null,
      "metadata": {
        "collapsed": false
      },
      "outputs": [],
      "source": [
        "n_epochs = 5  # number of simulated epochs\nn_channels = 3  # number of channels\nn_times = 2000  # number of sample points\nsfreq = 250  # Set sampling freq\ndata = rng.random((n_epochs, n_channels, n_times))  # generate random data\n\n# In case 1, we overwrite all epochs with the data from the first epoch\nfor i in range(n_epochs):\n    data[i] = data[0]\n\nch_names = [\"C3\", \"Cz\", \"C4\"]  # three random channel names\ninfo = mne.create_info(ch_names, sfreq, ch_types=\"eeg\")  # create info object\ndata_epoch = mne.EpochsArray(data, info)  # create EpochsArray\n\ndata_epoch.plot(scalings=0.75)  # Visualize the data"
      ]
    },
    {
      "cell_type": "markdown",
      "metadata": {},
      "source": [
        "First we compute connectivity over trials.\n\n"
      ]
    },
    {
      "cell_type": "code",
      "execution_count": null,
      "metadata": {
        "collapsed": false
      },
      "outputs": [],
      "source": [
        "# Freq bands of interest\nFreq_Bands = {\"theta\": [4.0, 8.0], \"alpha\": [8.0, 13.0], \"beta\": [13.0, 30.0]}\nn_freq_bands = len(Freq_Bands)\nmin_freq = np.min(list(Freq_Bands.values()))\nmax_freq = np.max(list(Freq_Bands.values()))\n\n# Provide the freq points\nfreqs = np.linspace(min_freq, max_freq, int((max_freq - min_freq) * 4 + 1))\n\n# The dictionary with frequencies are converted to tuples for the function\nfmin = tuple([list(Freq_Bands.values())[f][0] for f in range(len(Freq_Bands))])\nfmax = tuple([list(Freq_Bands.values())[f][1] for f in range(len(Freq_Bands))])\n\n# We will try two different connectivity measurements as an example\nconnectivity_methods = [\"coh\", \"plv\"]\nn_con_methods = len(connectivity_methods)\n\n# Pre-allocatate memory for the connectivity matrices\ncon_epochs_array = np.zeros(\n    (n_con_methods, n_channels, n_channels, n_freq_bands, n_times)\n)\ncon_epochs_array[con_epochs_array == 0] = np.nan  # nan matrix\n\n# Compute connectivity over trials\ncon_epochs = spectral_connectivity_epochs(\n    data_epoch,\n    method=connectivity_methods,\n    sfreq=sfreq,\n    mode=\"cwt_morlet\",\n    cwt_freqs=freqs,\n    fmin=fmin,\n    fmax=fmax,\n    faverage=True,\n)\n\n# Get data as connectivity matrices\nfor c in range(n_con_methods):\n    con_epochs_array[c] = con_epochs[c].get_data(output=\"dense\")"
      ]
    },
    {
      "cell_type": "markdown",
      "metadata": {},
      "source": [
        "As previously mentioned, connectivity over trials can give connectivity\nfor each timepoint, here in the form of\n:class:`mne_connectivity.SpectroTemporalConnectivity`.\nHowever, in this example we are not interested in the timing, so we will\naverage over all timepoints. Notice that only ``mode=\"cwt_morlet\"`` will\nreturn an instance of :class:`mne_connectivity.SpectroTemporalConnectivity`\nand ``mode=\"fourier\"`` or ``mode=\"multitaper\"`` returns an instance of\n:class:`mne_connectivity.SpectralConnectivity`, which does not have\nsingle timepoint resolution.\n\n"
      ]
    },
    {
      "cell_type": "code",
      "execution_count": null,
      "metadata": {
        "collapsed": false
      },
      "outputs": [],
      "source": [
        "con_epochs_array = np.mean(con_epochs_array, axis=4)  # average over timepoints\n\n# In this example, we will just show alpha\nfoi = list(Freq_Bands.keys()).index(\"alpha\")  # frequency of interest\n\n\n# Define function for plotting con matrices\ndef plot_con_matrix(con_data, n_con_methods):\n    \"\"\"Visualize the connectivity matrix.\"\"\"\n    fig, ax = plt.subplots(1, n_con_methods, figsize=(6 * n_con_methods, 6))\n    for c in range(n_con_methods):\n        # Plot with imshow\n        con_plot = ax[c].imshow(con_data[c, :, :, foi], cmap=\"binary\", vmin=0, vmax=1)\n        # Set title\n        ax[c].set_title(connectivity_methods[c])\n        # Add colorbar\n        fig.colorbar(con_plot, ax=ax[c], shrink=0.7, label=\"Connectivity\")\n        # Fix labels\n        ax[c].set_xticks(range(len(ch_names)))\n        ax[c].set_xticklabels(ch_names)\n        ax[c].set_yticks(range(len(ch_names)))\n        ax[c].set_yticklabels(ch_names)\n        print(\n            f\"Connectivity method: {connectivity_methods[c]}\\n\"\n            + f\"{con_data[c,:,:,foi]}\"\n        )\n    return fig\n\n\nplot_con_matrix(con_epochs_array, n_con_methods)"
      ]
    },
    {
      "cell_type": "markdown",
      "metadata": {},
      "source": [
        "We see that when using repeated trials without any noise, the phase coupling\nbetween the three electrodes over trials are exactly 1.\n\nWe will now compute connectivity over time.\n\n"
      ]
    },
    {
      "cell_type": "code",
      "execution_count": null,
      "metadata": {
        "collapsed": false
      },
      "outputs": [],
      "source": [
        "# Pre-allocatate memory for the connectivity matrices\ncon_time_array = np.zeros(\n    (n_con_methods, n_epochs, n_channels, n_channels, n_freq_bands)\n)\ncon_time_array[con_time_array == 0] = np.nan  # nan matrix\n\n# Compute connectivity over time\ncon_time = spectral_connectivity_time(\n    data_epoch,\n    freqs,\n    method=connectivity_methods,\n    sfreq=sfreq,\n    mode=\"cwt_morlet\",\n    fmin=fmin,\n    fmax=fmax,\n    faverage=True,\n)\n\n# Get data as connectivity matrices\nfor c in range(n_con_methods):\n    con_time_array[c] = con_time[c].get_data(output=\"dense\")"
      ]
    },
    {
      "cell_type": "markdown",
      "metadata": {},
      "source": [
        "Notice that the connectivity over time function by default gives connectivity\nfor each epoch. We will average over epochs to show similar matrices as\nbefore, but it could also be done in the function itself by setting\n``average=True``.\n\n"
      ]
    },
    {
      "cell_type": "code",
      "execution_count": null,
      "metadata": {
        "collapsed": false
      },
      "outputs": [],
      "source": [
        "con_time_array = np.mean(con_time_array, axis=1)  # average over epochs\nfoi = list(Freq_Bands.keys()).index(\"alpha\")  # frequency of interest\n\nplot_con_matrix(con_time_array, n_con_methods)"
      ]
    },
    {
      "cell_type": "markdown",
      "metadata": {},
      "source": [
        "We see that the connectivity over time are not 1, since the signals were\nrandomly generated and therefore the phase differences between channels\nare also random over time.\n\n"
      ]
    },
    {
      "cell_type": "markdown",
      "metadata": {},
      "source": [
        "**Case 2: 10 Hz sinus waves with different phases.**\n\nIn this case, we will generate 10 Hz sinus waves with different phases\nfor each epoch and each channel. In this case we would expect the\nconnectivity over time between channels to be 1, but not the connectivity\nover trials.\n\n"
      ]
    },
    {
      "cell_type": "code",
      "execution_count": null,
      "metadata": {
        "collapsed": false
      },
      "outputs": [],
      "source": [
        "for i in range(n_epochs):  # ensure each epoch are different\n    for c in range(n_channels):  # and each channel are also different\n        wave_freq = 10  # freq of the sinus wave\n        epoch_len = n_times / sfreq\n        phase = rng.random(1) * 10  # Introduce random phase for each channel\n        # Generate sinus wave\n        x = np.linspace(\n            -wave_freq * epoch_len * np.pi + phase,\n            wave_freq * epoch_len * np.pi + phase,\n            n_times,\n        )\n        data[i, c] = np.squeeze(np.sin(x))  # overwrite to data\n\ndata_epoch = mne.EpochsArray(data, info)  # create EpochsArray\n\n# Visualize one epoch to see the phase differences\ndata_epoch.plot(scalings=1, n_epochs=1)"
      ]
    },
    {
      "cell_type": "markdown",
      "metadata": {},
      "source": [
        "First we compute connectivity over trials.\n\n"
      ]
    },
    {
      "cell_type": "code",
      "execution_count": null,
      "metadata": {
        "collapsed": false
      },
      "outputs": [],
      "source": [
        "# Pre-allocatate memory for the connectivity matrices\ncon_epochs_array = np.zeros(\n    (n_con_methods, n_channels, n_channels, n_freq_bands, n_times)\n)\ncon_epochs_array[con_epochs_array == 0] = np.nan  # nan matrix\n\n# Compute connecitivty over trials\ncon_epochs = spectral_connectivity_epochs(\n    data_epoch,\n    method=connectivity_methods,\n    sfreq=sfreq,\n    mode=\"cwt_morlet\",\n    cwt_freqs=freqs,\n    fmin=fmin,\n    fmax=fmax,\n    faverage=True,\n)\n\n# Get data as connectivity matrices\nfor c in range(n_con_methods):\n    con_epochs_array[c] = con_epochs[c].get_data(output=\"dense\")\n\ncon_epochs_array = np.mean(con_epochs_array, axis=4)  # average over timepoints\n\nfoi = list(Freq_Bands.keys()).index(\"alpha\")  # frequency of interest\n\nplot_con_matrix(con_epochs_array, n_con_methods)"
      ]
    },
    {
      "cell_type": "markdown",
      "metadata": {},
      "source": [
        "We see that connectivity over trials are not 1, since the phase differences\nbetween two channels are not the same over trials.\n\nWe will now compute connectivity over time.\n\n"
      ]
    },
    {
      "cell_type": "code",
      "execution_count": null,
      "metadata": {
        "collapsed": false
      },
      "outputs": [],
      "source": [
        "# Pre-allocatate memory for the connectivity matrices\ncon_time_array = np.zeros(\n    (n_con_methods, n_epochs, n_channels, n_channels, n_freq_bands)\n)\ncon_time_array[con_time_array == 0] = np.nan  # nan matrix\n\ncon_time = spectral_connectivity_time(\n    data_epoch,\n    freqs,\n    method=connectivity_methods,\n    sfreq=sfreq,\n    fmin=fmin,\n    fmax=fmax,\n    faverage=True,\n)\n\n# Get data as connectivity matrices\nfor c in range(n_con_methods):\n    con_time_array[c] = con_time[c].get_data(output=\"dense\")\n\ncon_time_array = np.mean(con_time_array, axis=1)  # average over epochs\nfoi = list(Freq_Bands.keys()).index(\"alpha\")  # frequency of interest\n\nplot_con_matrix(con_time_array, n_con_methods)"
      ]
    },
    {
      "cell_type": "markdown",
      "metadata": {},
      "source": [
        "We see that for case 2, the connectivity over time is approximately 1,\nsince the phase differences over time between two channels are synchronized.\n\n"
      ]
    },
    {
      "cell_type": "markdown",
      "metadata": {},
      "source": [
        "## Real data demonstration\nTo finish this example, we will compute connectivity for a sample EEG data.\n\n"
      ]
    },
    {
      "cell_type": "code",
      "execution_count": null,
      "metadata": {
        "collapsed": false
      },
      "outputs": [],
      "source": [
        "data_path = sample.data_path()\nraw_fname = data_path / \"MEG/sample/sample_audvis_filt-0-40_raw.fif\"\nevent_fname = data_path / \"MEG/sample/sample_audvis_filt-0-40_raw-eve.fif\"\nraw = mne.io.read_raw_fif(raw_fname)\nevents = mne.read_events(event_fname)\n\n# Select only the EEG\npicks = mne.pick_types(\n    raw.info, meg=False, eeg=True, stim=False, eog=False, exclude=\"bads\"\n)\n\n# Create epochs for left visual field stimulus\nevent_id, tmin, tmax = 3, -0.3, 1.6\nepochs = mne.Epochs(raw, events, event_id, tmin, tmax, picks=picks, baseline=(None, 0))\nepochs.load_data()  # load the data"
      ]
    },
    {
      "cell_type": "markdown",
      "metadata": {},
      "source": [
        "The sample data consist of repeated trials with a visual stimuli,\nthus we use :func:`mne_connectivity.spectral_connectivity_epochs`\nto compute connectivity over trials.\n\nVisual tasks are known for evoking event related P1 and N1 responses,\nwhich occurs around 100 and 170 ms after stimuli presentation in\nposterior sites. Additionally, increased theta and alpha phase locking\nhave also been observed during the time window of P1 and\nN1 :footcite:`KlimeschEtAl2004`. Here, we will therefore analyze phase\nconnectivity in the theta band around P1\n\n"
      ]
    },
    {
      "cell_type": "code",
      "execution_count": null,
      "metadata": {
        "collapsed": false
      },
      "outputs": [],
      "source": [
        "sfreq = epochs.info[\"sfreq\"]  # the sampling frequency\ntmin = 0.0  # exclude the baseline period for connectivity estimation\nFreq_Bands = {\"theta\": [4.0, 8.0]}  # frequency of interest\nn_freq_bands = len(Freq_Bands)\nmin_freq = np.min(list(Freq_Bands.values()))\nmax_freq = np.max(list(Freq_Bands.values()))\n\n# Prepare the freq points\nfreqs = np.linspace(min_freq, max_freq, int((max_freq - min_freq) * 4 + 1))\n\nfmin = tuple([list(Freq_Bands.values())[f][0] for f in range(len(Freq_Bands))])\nfmax = tuple([list(Freq_Bands.values())[f][1] for f in range(len(Freq_Bands))])\n\n# We specify the connectivity measurements\nconnectivity_methods = [\"wpli\"]\nn_con_methods = len(connectivity_methods)\n\n# Compute connectivity over trials\ncon_epochs = spectral_connectivity_epochs(\n    epochs,\n    method=connectivity_methods,\n    sfreq=sfreq,\n    mode=\"cwt_morlet\",\n    cwt_freqs=freqs,\n    fmin=fmin,\n    fmax=fmax,\n    faverage=True,\n    tmin=tmin,\n    cwt_n_cycles=4,\n)"
      ]
    },
    {
      "cell_type": "markdown",
      "metadata": {},
      "source": [
        "Notice we have shortened the wavelets to 4 cycles since we only have 1.6s\nepochs and are looking at theta activity. This might make the connectivity\nmeasurements more sensitive to noise.\n\n"
      ]
    },
    {
      "cell_type": "code",
      "execution_count": null,
      "metadata": {
        "collapsed": false
      },
      "outputs": [],
      "source": [
        "# Plot the global connectivity over time\nn_channels = epochs.info[\"nchan\"]  # get number of channels\ntimes = epochs.times[epochs.times >= tmin]  # get the timepoints\nn_connections = (n_channels * n_channels - n_channels) / 2\n\n# Get global avg connectivity over all connections\ncon_epochs_raveled_array = con_epochs.get_data(output=\"raveled\")\nglobal_con_epochs = np.sum(con_epochs_raveled_array, axis=0) / n_connections\n\n# Since there is only one freq band, we choose the first dimension\nglobal_con_epochs = global_con_epochs[0]\n\nfig = plt.figure()\nplt.plot(times, global_con_epochs)\nplt.xlabel(\"Time (s)\")\nplt.ylabel(\"Global theta wPLI over trials\")\n\n# Get the timepoint with highest global connectivity right after stimulus\nt_con_max = np.argmax(global_con_epochs[times <= 0.5])\nprint(f\"Global theta wPLI peaks {times[t_con_max]:.3f}s after stimulus\")"
      ]
    },
    {
      "cell_type": "markdown",
      "metadata": {},
      "source": [
        "We see that around the timing of the P1 evoked response, there is high theta\nphase coupling on a global scale. To investigate in more details the\nindividual channels, we visualize the connectivity matrix at the\ntimepoint with most global theta connectivity after stimulus presentation\nand plot the sensor connectivity of the 20 highest connections\n\n"
      ]
    },
    {
      "cell_type": "code",
      "execution_count": null,
      "metadata": {
        "collapsed": false
      },
      "outputs": [],
      "source": [
        "# Plot the connectivity matrix at the timepoint with highest global wPLI\ncon_epochs_matrix = con_epochs.get_data(output=\"dense\")[:, :, 0, t_con_max]\n\nfig = plt.figure()\nim = plt.imshow(con_epochs_matrix)\nfig.colorbar(im, label=\"Connectivity\")\nplt.ylabel(\"Channels\")\nplt.xlabel(\"Channels\")\nplt.show()\n\n# Visualize top 20 connections in 3D\nplot_sensors_connectivity(epochs.info, con_epochs_matrix)"
      ]
    },
    {
      "cell_type": "markdown",
      "metadata": {},
      "source": [
        "## Conclusions\nIn this example we have looked at the differences between connectivity over\ntime and connectivity over trials and demonstrated the corresponding\nfunctions implemented in ``mne_connectivity`` on simulated data.\n\nBoth functions serve their specific roles, and it's important to use the\ncorrect function for the corresponding task to interpret the analysis.\n\nWe also briefly analyzed a visual task EEG sample, using\n:func:`mne_connectivity.spectral_connectivity_epochs` where we found that\nthere was high global theta connectivity around the timepoint of the P1\nevoked response. Further analysis revealed the highest connections\nat this timepoint were between occipital and frontal areas.\n\n"
      ]
    },
    {
      "cell_type": "markdown",
      "metadata": {},
      "source": [
        "\n## References\n.. footbibliography::\n\n"
      ]
    }
  ],
  "metadata": {
    "kernelspec": {
      "display_name": "Python 3",
      "language": "python",
      "name": "python3"
    },
    "language_info": {
      "codemirror_mode": {
        "name": "ipython",
        "version": 3
      },
      "file_extension": ".py",
      "mimetype": "text/x-python",
      "name": "python",
      "nbconvert_exporter": "python",
      "pygments_lexer": "ipython3",
      "version": "3.10.12"
    }
  },
  "nbformat": 4,
  "nbformat_minor": 0
}