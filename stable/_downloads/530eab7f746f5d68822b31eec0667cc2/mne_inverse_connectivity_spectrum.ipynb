{
  "cells": [
    {
      "cell_type": "markdown",
      "metadata": {},
      "source": [
        "\n# Compute full spectrum source space connectivity between labels\n\nThe connectivity is computed between 4 labels across the spectrum\nbetween 7.5 Hz and 40 Hz.\n"
      ]
    },
    {
      "cell_type": "code",
      "execution_count": null,
      "metadata": {
        "collapsed": false
      },
      "outputs": [],
      "source": [
        "# Authors: Alexandre Gramfort <alexandre.gramfort@inria.fr>\n#\n# License: BSD (3-clause)\n\nimport matplotlib.pyplot as plt\nimport mne\nfrom mne.datasets import sample\nfrom mne.minimum_norm import apply_inverse_epochs, read_inverse_operator\n\nfrom mne_connectivity import spectral_connectivity_epochs\n\nprint(__doc__)\n\ndata_path = sample.data_path()\nsubjects_dir = data_path / \"subjects\"\nfname_inv = data_path / \"MEG/sample/sample_audvis-meg-oct-6-meg-inv.fif\"\nfname_raw = data_path / \"MEG/sample/sample_audvis_filt-0-40_raw.fif\"\nfname_event = data_path / \"MEG/sample/sample_audvis_filt-0-40_raw-eve.fif\"\n\n# Load data\ninverse_operator = read_inverse_operator(fname_inv)\nraw = mne.io.read_raw_fif(fname_raw)\nevents = mne.read_events(fname_event)\n\n# Add a bad channel\nraw.info[\"bads\"] += [\"MEG 2443\"]\n\n# Pick MEG channels\npicks = mne.pick_types(\n    raw.info, meg=True, eeg=False, stim=False, eog=True, exclude=\"bads\"\n)\n\n# Define epochs for left-auditory condition\nevent_id, tmin, tmax = 1, -0.2, 0.5\nepochs = mne.Epochs(\n    raw,\n    events,\n    event_id,\n    tmin,\n    tmax,\n    picks=picks,\n    baseline=(None, 0),\n    reject=dict(mag=4e-12, grad=4000e-13, eog=150e-6),\n)\n\n# Compute inverse solution and for each epoch. By using \"return_generator=True\"\n# stcs will be a generator object instead of a list.\nsnr = 1.0  # use lower SNR for single epochs\nlambda2 = 1.0 / snr**2\nmethod = \"dSPM\"  # use dSPM method (could also be MNE or sLORETA)\nstcs = apply_inverse_epochs(\n    epochs, inverse_operator, lambda2, method, pick_ori=\"normal\", return_generator=True\n)\n\n# Read some labels\nnames = [\"Aud-lh\", \"Aud-rh\", \"Vis-lh\", \"Vis-rh\"]\nlabels = [\n    mne.read_label(data_path / f\"MEG/sample/labels/{name}.label\") for name in names\n]\n\n# Average the source estimates within each label using sign-flips to reduce\n# signal cancellations, also here we return a generator\nsrc = inverse_operator[\"src\"]\nlabel_ts = mne.extract_label_time_course(\n    stcs, labels, src, mode=\"mean_flip\", return_generator=True\n)\n\nfmin, fmax = 7.5, 40.0\nsfreq = raw.info[\"sfreq\"]  # the sampling frequency\n\ncon = spectral_connectivity_epochs(\n    label_ts,\n    method=\"wpli2_debiased\",\n    mode=\"multitaper\",\n    sfreq=sfreq,\n    fmin=fmin,\n    fmax=fmax,\n    mt_adaptive=True,\n    n_jobs=1,\n)\nfreqs = con.freqs\n\nn_rows, n_cols = con.get_data(output=\"dense\").shape[:2]\nfig, axes = plt.subplots(n_rows, n_cols, sharex=True, sharey=True)\nfor i in range(n_rows):\n    for j in range(i + 1):\n        if i == j:\n            axes[i, j].set_axis_off()\n            continue\n\n        axes[i, j].plot(freqs, con.get_data(output=\"dense\")[i, j, :])\n        axes[j, i].plot(freqs, con.get_data(output=\"dense\")[i, j, :])\n\n        if j == 0:\n            axes[i, j].set_ylabel(names[i])\n            axes[0, i].set_title(names[i])\n        if i == (n_rows - 1):\n            axes[i, j].set_xlabel(names[j])\n        axes[i, j].set(xlim=[fmin, fmax], ylim=[-0.2, 1])\n        axes[j, i].set(xlim=[fmin, fmax], ylim=[-0.2, 1])\n\n        # Show band limits\n        for f in [8, 12, 18, 35]:\n            axes[i, j].axvline(f, color=\"k\")\n            axes[j, i].axvline(f, color=\"k\")\nplt.tight_layout()\nplt.show()"
      ]
    }
  ],
  "metadata": {
    "kernelspec": {
      "display_name": "Python 3",
      "language": "python",
      "name": "python3"
    },
    "language_info": {
      "codemirror_mode": {
        "name": "ipython",
        "version": 3
      },
      "file_extension": ".py",
      "mimetype": "text/x-python",
      "name": "python",
      "nbconvert_exporter": "python",
      "pygments_lexer": "ipython3",
      "version": "3.10.12"
    }
  },
  "nbformat": 4,
  "nbformat_minor": 0
}