{
  "cells": [
    {
      "cell_type": "markdown",
      "metadata": {},
      "source": [
        "\n# Compute multivariate coherency/coherence\n\nThis example demonstrates how canonical coherency (CaCoh)\n:footcite:`VidaurreEtAl2019` - a multivariate method based on coherency - can\nbe used to compute connectivity between whole sets of sensors, alongside\nspatial patterns of the connectivity.\n"
      ]
    },
    {
      "cell_type": "code",
      "execution_count": null,
      "metadata": {
        "collapsed": false
      },
      "outputs": [],
      "source": [
        "# Authors: Thomas S. Binns <t.s.binns@outlook.com>\n#          Mohammad Orabe <orabe.mhd@gmail.com>\n# License: BSD (3-clause)\n# sphinx_gallery_thumbnail_number = 3"
      ]
    },
    {
      "cell_type": "code",
      "execution_count": null,
      "metadata": {
        "collapsed": false
      },
      "outputs": [],
      "source": [
        "import numpy as np\nfrom matplotlib import pyplot as plt\n\nfrom mne_connectivity import (\n    make_signals_in_freq_bands,\n    seed_target_indices,\n    spectral_connectivity_epochs,\n)"
      ]
    },
    {
      "cell_type": "markdown",
      "metadata": {},
      "source": [
        "## Background\n\nMultivariate forms of signal analysis allow you to simultaneously consider\nthe activity of multiple signals. In the case of connectivity, the\ninteraction between multiple sensors can be analysed at once, producing a\nsingle connectivity spectrum. This approach brings not only practical\nbenefits (e.g. easier interpretability of results from the dimensionality\nreduction), but can also offer methodological improvements (e.g. enhanced\nsignal-to-noise ratio).\n\nA popular bivariate measure of connectivity is coherency/coherence, which\nlooks at the correlation between two signals in the frequency domain.\nHowever, in cases where interactions between multiple signals are of\ninterest, computing connectivity between all possible combinations of signals\nleads to a very large number of results which is difficult to interpret. A\ncommon approach is to average results across these connections, however this\nrisks reducing the signal-to-noise ratio of results and burying interactions\nthat are present between only a small number of channels.\n\nCanonical coherency (CaCoh) is a multivariate form of coherency that uses\neigendecomposition-derived spatial filters to extract the underlying\ncomponents of connectivity in a frequency-resolved manner\n:footcite:`VidaurreEtAl2019`. This approach goes beyond simply aggregating\ninformation across all possible combinations of signals.\n\nIt is similar to multivariate methods based on the imaginary part of\ncoherency (MIC & MIM :footcite:`EwaldEtAl2012`; see :doc:`mic_mim` and\n:doc:`compare_coherency_methods`).\n\n"
      ]
    },
    {
      "cell_type": "markdown",
      "metadata": {},
      "source": [
        "## Data Simulation\n\nTo demonstrate the CaCoh method, we will use some simulated data consisting\nof two sets of interactions between signals in a given frequency range:\n\n- 5 seeds and 3 targets interacting in the 10-12 Hz frequency range.\n- 5 seeds and 3 targets interacting in the 23-25 Hz frequency range.\n\nWe can consider the seeds and targets to be signals of different modalities,\ne.g. cortical EEG signals and subcortical LFP signals, cortical EEG signals\nand muscular EMG signals, etc.... We use the\n:func:`~mne_connectivity.make_signals_in_freq_bands` function to simulate\nthese signals.\n\n"
      ]
    },
    {
      "cell_type": "code",
      "execution_count": null,
      "metadata": {
        "collapsed": false
      },
      "outputs": [],
      "source": [
        "# Generate simulated data\ndata_10_12 = make_signals_in_freq_bands(\n    n_seeds=5,\n    n_targets=3,\n    freq_band=(10, 12),  # 10-12 Hz interaction\n    rng_seed=42,\n)\n\ndata_23_25 = make_signals_in_freq_bands(\n    n_seeds=5,\n    n_targets=3,\n    freq_band=(23, 25),  # 23-25 Hz interaction\n    rng_seed=44,\n)\n\n# Combine data into a single object\ndata = data_10_12.add_channels([data_23_25])"
      ]
    },
    {
      "cell_type": "markdown",
      "metadata": {},
      "source": [
        "## Computing CaCoh\n\nHaving simulated the signals, we can create the indices for computing\nconnectivity between all seeds and all targets in a single multivariate\nconnection (see :doc:`handling_ragged_arrays` for more information), after\nwhich we compute connectivity.\n\nFor CaCoh, a set of spatial filters are found that will maximise the\nestimated connectivity between the seed and target signals. These maximising\nfilters correspond to the eigenvectors with the largest eigenvalue, derived\nfrom an eigendecomposition of information from the cross-spectral density\n(Eq. 8 of :footcite:`VidaurreEtAl2019`):\n\n$\\textrm{CaCoh}=\\Large{\\frac{\\boldsymbol{a}^T\\boldsymbol{D}(\\Phi)\n\\boldsymbol{b}}{\\sqrt{\\boldsymbol{a}^T\\boldsymbol{a}\\boldsymbol{b}^T\n\\boldsymbol{b}}}}$\n\nwhere: $\\boldsymbol{D}(\\Phi)$ is the cross-spectral density between\nseeds and targets transformed for a given phase angle $\\Phi$; and\n$\\boldsymbol{a}$ and $\\boldsymbol{b}$ are eigenvectors for the\nseeds and targets, such that $\\boldsymbol{a}^T\\boldsymbol{D}(\\Phi)\n\\boldsymbol{b}$ maximises coherency between the seeds and targets. All\nelements are frequency-dependent, however this is omitted for readability.\n\nCaCoh is complex-valued in the range $[-1, 1]$ where the sign reflects\nthe phase angle of the interaction (like for coherency). Taking the absolute\nvalue is akin to taking the coherence, which is the magnitude of the\ninteraction regardless of phase angle.\n\n"
      ]
    },
    {
      "cell_type": "code",
      "execution_count": null,
      "metadata": {
        "collapsed": false
      },
      "outputs": [],
      "source": [
        "# Generate connectivity indices\nseeds = [0, 1, 2, 3, 4, 8, 9, 10, 11, 12]\ntargets = [5, 6, 7, 13, 14, 15]\nmultivar_indices = ([seeds], [targets])\n\n# Compute CaCoh\ncacoh = spectral_connectivity_epochs(\n    data, method=\"cacoh\", indices=multivar_indices, sfreq=100, fmin=3, fmax=35\n)\nprint(f\"Results shape: {cacoh.get_data().shape} (connections x frequencies)\")\n\n# Get absolute CaCoh\ncacoh_abs = np.abs(cacoh.get_data())[0]"
      ]
    },
    {
      "cell_type": "markdown",
      "metadata": {},
      "source": [
        "As you can see below, using CaCoh we have summarised the most relevant\nconnectivity information from our 10 seed channels and 6 target channels as a\nsingle spectrum of connectivity values. This lower-dimensional representation\nof signal interactions is much more interpretable when analysing connectivity\nin complex systems such as the brain.\n\n"
      ]
    },
    {
      "cell_type": "code",
      "execution_count": null,
      "metadata": {
        "collapsed": false
      },
      "outputs": [],
      "source": [
        "# Plot CaCoh\nfig, axis = plt.subplots(1, 1)\naxis.plot(cacoh.freqs, cacoh_abs, linewidth=2)\naxis.set_xlabel(\"Frequency (Hz)\")\naxis.set_ylabel(\"Connectivity (A.U.)\")\nfig.suptitle(\"CaCoh\")"
      ]
    },
    {
      "cell_type": "markdown",
      "metadata": {},
      "source": [
        "Note that we plot the absolute values of the results (coherence) rather than\nthe complex values (coherency). The absolute value of connectivity will\ngenerally be of most interest. However, information such as the phase of\ninteraction can only be extracted from the complex-valued results, e.g. with\nthe :func:`numpy.angle` function.\n\n"
      ]
    },
    {
      "cell_type": "code",
      "execution_count": null,
      "metadata": {
        "collapsed": false
      },
      "outputs": [],
      "source": [
        "# Plot phase of connectivity\nfig, axis = plt.subplots(1, 1)\naxis.plot(cacoh.freqs, np.angle(cacoh.get_data()[0]), linewidth=2)\naxis.set_xlabel(\"Frequency (Hz)\")\naxis.set_ylabel(\"Phase of connectivity (radians)\")\nfig.suptitle(\"CaCoh\")"
      ]
    },
    {
      "cell_type": "markdown",
      "metadata": {},
      "source": [
        "## CaCoh versus coherence\n\nTo further demonstrate the signal-to-noise ratio benefits of CaCoh, below we\ncompute connectivity between each seed and target using bivariate coherence.\nWith our 10 seeds and 6 targets, this gives us a total of 60 unique\nconnections which is very difficult to interpret without aggregating some\ninformation. A common approach is to simply average across these connections,\nwhich we do below.\n\n"
      ]
    },
    {
      "cell_type": "code",
      "execution_count": null,
      "metadata": {
        "collapsed": false
      },
      "outputs": [],
      "source": [
        "# Define bivariate connectivity indices\nbivar_indices = seed_target_indices(seeds, targets)\n\n# Compute bivariate coherence\ncoh = spectral_connectivity_epochs(\n    data, method=\"coh\", indices=bivar_indices, sfreq=100, fmin=3, fmax=35\n)\nprint(f\"Original results shape: {coh.get_data().shape} (connections x frequencies)\")\n\n# Average results across connections\ncoh_mean = np.mean(coh.get_data(), axis=0)\nprint(f\"Averaged results shape: {coh_mean.shape} (connections x frequencies)\")"
      ]
    },
    {
      "cell_type": "markdown",
      "metadata": {},
      "source": [
        "Plotting the bivariate and multivariate results together, we can see that\ncoherence still captures the interactions at 10-12 Hz and 23-25 Hz, however\nthe scale of the connectivity is much smaller. This reflects the fact that\nCaCoh is able to capture the relevant components of interactions between\nmultiple signals, regardless of whether they are present in all channels.\n\n"
      ]
    },
    {
      "cell_type": "code",
      "execution_count": null,
      "metadata": {
        "collapsed": false
      },
      "outputs": [],
      "source": [
        "# Plot CaCoh & Coh\nfig, axis = plt.subplots(1, 1)\naxis.plot(cacoh.freqs, cacoh_abs - np.min(cacoh_abs), linewidth=2, label=\"CaCoh\")\naxis.plot(coh.freqs, coh_mean - np.min(coh_mean), linewidth=2, label=\"Coh\")\naxis.set_xlabel(\"Frequency (Hz)\")\naxis.set_ylabel(\"Baseline-corrected connectivity (A.U.)\")\naxis.legend()\nfig.suptitle(\"CaCoh vs. coherence\")"
      ]
    },
    {
      "cell_type": "markdown",
      "metadata": {},
      "source": [
        "The ability of multivariate connectivity methods to capture the underlying\ncomponents of connectivity is extremely useful when dealing with data from\na large number of channels, with inter-channel interactions at distinct\nfrequencies, a problem explored in more detail in the :doc:`mic_mim` example.\n\n"
      ]
    },
    {
      "cell_type": "markdown",
      "metadata": {},
      "source": [
        "## Extracting spatial information from CaCoh\n\nWhilst a lower-dimensional representation of connectivity information is\nuseful, we lose information about which channels are involved in the\nconnectivity. Thankfully, this information can be recovered by constructing\nspatial patterns of connectivity from the spatial filters\n:footcite:`HaufeEtAl2014`.\n\nThe spatial patterns are stored under ``attrs['patterns']`` of the\nconnectivity class, with one value per frequency for each channel in the\nseeds and targets. The patterns can be positive- and negative-valued. Sign\ndifferences of the patterns can be used to visualise the orientation of\nunderlying dipole sources, whereas their absolute value reflects the strength\nof a channel's contribution to the connectivity component. The spatial\npatterns are **not** bound between $[-1, 1]$.\n\nAveraging across the patterns in the 10-12 Hz and 23-25 Hz ranges, we can see\nhow it is possible to identify which channels are contributing to\nconnectivity at different frequencies.\n\n"
      ]
    },
    {
      "cell_type": "code",
      "execution_count": null,
      "metadata": {
        "collapsed": false
      },
      "outputs": [],
      "source": [
        "freqs = cacoh.freqs\nfbands = ((10, 12), ((23, 25)))\n\nfig, axes = plt.subplots(1, 2)\n\n# patterns have shape [seeds/targets x cons x channels x freqs (x times)]\npatterns = np.abs(np.array(cacoh.attrs[\"patterns\"]))\nseed_pattern = patterns[0, :, : len(seeds)]\ntarget_pattern = patterns[1, :, : len(targets)]\n\nvmin = np.nanmin(patterns)\nvmax = np.nanmax(patterns)\n\nfor axis, fband in zip(axes, fbands):\n    # average across frequencies\n    seed_pattern_fband = np.mean(\n        seed_pattern[0, :, freqs.index(fband[0]) : freqs.index(fband[1]) + 1], axis=1\n    )\n    target_pattern_fband = np.mean(\n        target_pattern[0, :, freqs.index(fband[0]) : freqs.index(fband[1]) + 1], axis=1\n    )\n\n    # combine into a single array\n    pattern_fband = np.concatenate((seed_pattern_fband, target_pattern_fband), axis=0)\n\n    # plot the pattern\n    mesh = axis.pcolormesh(\n        np.flip(np.expand_dims(pattern_fband, 1)), vmin=vmin, vmax=vmax\n    )\n    axis.set_yticks([1.5, 4.5, 8.5, 13.5])\n    axis.set_xticks([0.5])\n    axis.set_xticklabels([f\"{fband[0]}-{fband[1]}\"])\n\n# Label axes\nfig.suptitle(\"Spatial patterns\")\naxes[0].set_yticklabels(\n    [\n        \"Targets\\n(23-25 Hz)\",\n        \"Targets\\n(10-12 Hz)\",\n        \"Seeds\\n(23-25 Hz)\",\n        \"Seeds\\n(10-12 Hz)\",\n    ],\n    rotation=45,\n    va=\"center\",\n)\naxes[0].set_ylabel(\"Channels\")\naxes[1].get_yaxis().set_visible(False)\nfig.text(0.47, 0.02, \"Frequency band (Hz)\", ha=\"center\")\n\n# Set colourbar\nfig.subplots_adjust(right=0.8)\ncbar_axis = fig.add_axes([0.85, 0.15, 0.02, 0.7])\nfig.colorbar(mesh, cax=cbar_axis)\ncbar_axis.set_ylabel(\"Contribution to connectivity (A.U.)\")\ncbar_axis.set_yticks([vmin, vmax])\ncbar_axis.set_yticklabels([\"Low\", \"High\"])\n\nplt.show()"
      ]
    },
    {
      "cell_type": "markdown",
      "metadata": {},
      "source": [
        "For an example on interpreting spatial filters with real data, see the\n:doc:`mic_mim` example.\n\n"
      ]
    },
    {
      "cell_type": "markdown",
      "metadata": {},
      "source": [
        "## Handling high-dimensional data\n\nAn important issue to consider when using these multivariate methods is\noverfitting, which risks biasing connectivity estimates to maximise noise in\nthe data. This risk can be reduced by performing a preliminary dimensionality\nreduction prior to estimating the connectivity with a singular value\ndecomposition (Eq. 15 of :footcite:`VidaurreEtAl2019`). The degree of this\ndimensionality reduction can be specified using the ``rank`` argument, which\nby default will not perform any dimensionality reduction (assuming your data\nis full rank; see below if not). Choosing an expected rank of the data\nrequires *a priori* knowledge about the number of components you expect to\nobserve in the data.\n\nWhen comparing CaCoh scores across recordings, **it is highly recommended\nto estimate connectivity from the same number of channels (or equally from\nthe same degree of rank subspace projection)** to avoid biases in\nconnectivity estimates. Bias can be avoided by specifying a consistent rank\nsubspace to project to using the ``rank`` argument, standardising your\nconnectivity estimates regardless of changes in e.g. the number of channels\nacross recordings. Note that this does not refer to the number of seeds and\ntargets *within* a connection being identical, rather to the number of seeds\nand targets *across* connections.\n\nHere, we project our seed and target data to only the first 2 components of\nour rank subspace. Results show that the general spectral pattern of\nconnectivity is retained in the rank subspace-projected data, suggesting that\na fair degree of redundant connectivity information is contained in the\nexcluded components of the seed and target data.\n\nWe also assert that the spatial patterns of MIC are returned in the original\nsensor space despite this rank subspace projection, being reconstructed using\nthe products of the singular value decomposition (Eqs. 46 & 47 of\n:footcite:`EwaldEtAl2012`).\n\n"
      ]
    },
    {
      "cell_type": "code",
      "execution_count": null,
      "metadata": {
        "collapsed": false
      },
      "outputs": [],
      "source": [
        "# Compute CaCoh following rank subspace projection\ncacoh_red = spectral_connectivity_epochs(\n    data,\n    method=\"cacoh\",\n    indices=multivar_indices,\n    sfreq=100,\n    fmin=3,\n    fmax=35,\n    rank=([2], [2]),\n)\n\n# compare standard and rank subspace-projected CaCoh\nfig, axis = plt.subplots(1, 1)\naxis.plot(cacoh.freqs, np.abs(cacoh.get_data()[0]), linewidth=2, label=\"standard CaCoh\")\naxis.plot(\n    cacoh_red.freqs,\n    np.abs(cacoh_red.get_data()[0]),\n    linewidth=2,\n    label=\"rank subspace (2) CaCoh\",\n)\naxis.set_xlabel(\"Frequency (Hz)\")\naxis.set_ylabel(\"Connectivity (A.U.)\")\naxis.legend(loc=\"lower right\")\nfig.suptitle(\"CaCoh\")\n\n# no. channels equal with and without projecting to rank subspace for patterns\nassert patterns[0, 0].shape[0] == np.array(cacoh_red.attrs[\"patterns\"])[0, 0].shape[0]\nassert patterns[1, 0].shape[0] == np.array(cacoh_red.attrs[\"patterns\"])[1, 0].shape[0]"
      ]
    },
    {
      "cell_type": "markdown",
      "metadata": {},
      "source": [
        "See :doc:`mic_mim` for an example of applying the rank subspace\nprojection to real data with a large number of channels.\n\nIn the case that your data is not full rank and ``rank`` is left as ``None``,\nan automatic rank computation is performed and an appropriate degree of\ndimensionality reduction will be enforced. The rank of the data is determined\nby computing the singular values of the data and finding those within a\nfactor of $1e^{-6}$ relative to the largest singular value.\n\nWhilst unlikely, there may be scenarios in which this threshold is too\nlenient. In these cases, you should inspect the singular values of your data\nto identify an appropriate degree of dimensionality reduction to perform,\nwhich you can then specify manually using the ``rank`` argument. The code\nbelow shows one possible approach for finding an appropriate rank of\nclose-to-singular data with a more conservative threshold.\n\n"
      ]
    },
    {
      "cell_type": "code",
      "execution_count": null,
      "metadata": {
        "collapsed": false
      },
      "outputs": [],
      "source": [
        "# gets the singular values of the data across epochs\ns = np.linalg.svd(data, compute_uv=False).min(axis=0)\n# finds how many singular values are 'close' to the largest singular value\nrank = np.count_nonzero(s >= s[0] * 1e-4)  # 1e-4 is the 'closeness' criteria, which is\n# a hyper-parameter"
      ]
    },
    {
      "cell_type": "markdown",
      "metadata": {},
      "source": [
        "## Limitations\n\nMultivariate methods offer many benefits in the form of dimensionality\nreduction and signal-to-noise ratio improvements. However, no method is\nperfect. When we simulated the data, we mentioned how we considered the seeds\nand targets to be signals of different modalities. This is an important\nfactor in whether CaCoh should be used over methods based solely on the\nimaginary part of coherency such as MIC and MIM.\n\nIn short, if you want to examine connectivity between signals from the same\nmodality or from different modalities using a shared reference, you should\nconsider using another method instead of CaCoh. Rather, methods based on the\nimaginary part of coherency such as MIC and MIM should be used to avoid\nspurious connectivity estimates stemming from e.g. volume conduction\nartefacts.\n\nOn the other hand, if you want to examine connectivity between signals from\ndifferent modalities using different references, CaCoh is a more appropriate\nmethod than MIC/MIM. This is because volume conduction artefacts are of less\nconcern, and CaCoh does not risk biasing connectivity estimates towards\ninteractions with particular phase lags like MIC/MIM.\n\nThese scenarios are described in more detail in the\n:doc:`compare_coherency_methods` example.\n\n"
      ]
    },
    {
      "cell_type": "markdown",
      "metadata": {},
      "source": [
        "## References\n.. footbibliography::\n\n"
      ]
    }
  ],
  "metadata": {
    "kernelspec": {
      "display_name": "Python 3",
      "language": "python",
      "name": "python3"
    },
    "language_info": {
      "codemirror_mode": {
        "name": "ipython",
        "version": 3
      },
      "file_extension": ".py",
      "mimetype": "text/x-python",
      "name": "python",
      "nbconvert_exporter": "python",
      "pygments_lexer": "ipython3",
      "version": "3.10.12"
    }
  },
  "nbformat": 4,
  "nbformat_minor": 0
}