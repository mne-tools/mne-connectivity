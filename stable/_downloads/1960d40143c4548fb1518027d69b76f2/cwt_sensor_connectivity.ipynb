{
  "cells": [
    {
      "cell_type": "markdown",
      "metadata": {},
      "source": [
        "\n# Compute seed-based time-frequency connectivity in sensor space\n\nComputes the connectivity between a seed-gradiometer close to the visual cortex\nand all other gradiometers. The connectivity is computed in the time-frequency\ndomain using Morlet wavelets and the debiased squared weighted phase lag index\n:footcite:`VinckEtAl2011` is used as connectivity metric.\n"
      ]
    },
    {
      "cell_type": "code",
      "execution_count": null,
      "metadata": {
        "collapsed": false
      },
      "outputs": [],
      "source": [
        "# Author: Martin Luessi <mluessi@nmr.mgh.harvard.edu>\n#\n# License: BSD (3-clause)\n\nimport os.path as op\n\nimport mne\nimport numpy as np\nfrom mne import io\nfrom mne.datasets import sample\nfrom mne.time_frequency import AverageTFRArray\n\nfrom mne_connectivity import seed_target_indices, spectral_connectivity_epochs\n\nprint(__doc__)"
      ]
    },
    {
      "cell_type": "markdown",
      "metadata": {},
      "source": [
        "Set parameters\n\n"
      ]
    },
    {
      "cell_type": "code",
      "execution_count": null,
      "metadata": {
        "collapsed": false
      },
      "outputs": [],
      "source": [
        "data_path = sample.data_path()\nraw_fname = op.join(data_path, \"MEG\", \"sample\", \"sample_audvis_filt-0-40_raw.fif\")\nevent_fname = op.join(data_path, \"MEG\", \"sample\", \"sample_audvis_filt-0-40_raw-eve.fif\")\n\n# Setup for reading the raw data\nraw = io.read_raw_fif(raw_fname)\nevents = mne.read_events(event_fname)\n\n# Add a bad channel\nraw.info[\"bads\"] += [\"MEG 2443\"]\n\n# Pick MEG gradiometers\npicks = mne.pick_types(\n    raw.info, meg=\"grad\", eeg=False, stim=False, eog=True, exclude=\"bads\"\n)\n\n# Create epochs for left-visual condition\nevent_id, tmin, tmax = 3, -0.2, 0.5\nepochs = mne.Epochs(\n    raw,\n    events,\n    event_id,\n    tmin,\n    tmax,\n    picks=picks,\n    baseline=(None, 0),\n    reject=dict(grad=4000e-13, eog=150e-6),\n    preload=True,\n)\n\n# Use 'MEG 2343' as seed\nseed_ch = \"MEG 2343\"\npicks_ch_names = [raw.ch_names[i] for i in picks]\n\n# Create seed-target indices for connectivity computation\nseed = picks_ch_names.index(seed_ch)\ntargets = np.arange(len(picks))\nindices = seed_target_indices(seed, targets)\n\n# Define wavelet frequencies and number of cycles\ncwt_freqs = np.arange(7, 30, 2)\ncwt_n_cycles = cwt_freqs / 7.0\n\n# Run the connectivity analysis using 2 parallel jobs\nsfreq = raw.info[\"sfreq\"]  # the sampling frequency\ncon = spectral_connectivity_epochs(\n    epochs,\n    indices=indices,\n    method=\"wpli2_debiased\",\n    mode=\"cwt_morlet\",\n    sfreq=sfreq,\n    cwt_freqs=cwt_freqs,\n    cwt_n_cycles=cwt_n_cycles,\n    n_jobs=1,\n)\ntimes = con.times\nfreqs = con.freqs\n\n# Mark the seed channel with a value of 1.0, so we can see it in the plot\ncon.get_data()[np.where(indices[1] == seed)] = 1.0\n\n# Show topography of connectivity from seed\ntitle = \"WPLI2 - Visual - Seed %s\" % seed_ch\n\nlayout = mne.find_layout(epochs.info, \"meg\")  # use full layout\n\n# Note that users of mne < 1.7 should use the `AverageTFR` class\ntfr = AverageTFRArray(epochs.info, con.get_data(), times, freqs, nave=len(epochs))\ntfr.plot_topo(fig_facecolor=\"w\", font_color=\"k\", border=\"k\")"
      ]
    },
    {
      "cell_type": "markdown",
      "metadata": {},
      "source": [
        "## References\n.. footbibliography::\n\n"
      ]
    }
  ],
  "metadata": {
    "kernelspec": {
      "display_name": "Python 3",
      "language": "python",
      "name": "python3"
    },
    "language_info": {
      "codemirror_mode": {
        "name": "ipython",
        "version": 3
      },
      "file_extension": ".py",
      "mimetype": "text/x-python",
      "name": "python",
      "nbconvert_exporter": "python",
      "pygments_lexer": "ipython3",
      "version": "3.10.12"
    }
  },
  "nbformat": 4,
  "nbformat_minor": 0
}