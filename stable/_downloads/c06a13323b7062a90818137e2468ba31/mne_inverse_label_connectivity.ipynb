{
  "cells": [
    {
      "cell_type": "code",
      "execution_count": null,
      "metadata": {
        "collapsed": false
      },
      "outputs": [],
      "source": [
        "%matplotlib inline"
      ]
    },
    {
      "cell_type": "markdown",
      "metadata": {},
      "source": [
        "\n# Compute source space connectivity and visualize it using a circular graph\n\nThis example computes the all-to-all connectivity between 68 regions in\nsource space based on dSPM inverse solutions and a FreeSurfer cortical\nparcellation. The connectivity is visualized using a circular graph which\nis ordered based on the locations of the regions in the axial plane.\n"
      ]
    },
    {
      "cell_type": "code",
      "execution_count": null,
      "metadata": {
        "collapsed": false
      },
      "outputs": [],
      "source": [
        "# Authors: Martin Luessi <mluessi@nmr.mgh.harvard.edu>\n#          Alexandre Gramfort <alexandre.gramfort@inria.fr>\n#          Nicolas P. Rougier (graph code borrowed from his matplotlib gallery)\n#\n# License: BSD (3-clause)\n\nimport numpy as np\nimport matplotlib.pyplot as plt\n\nimport mne\nfrom mne.datasets import sample\nfrom mne.minimum_norm import apply_inverse_epochs, read_inverse_operator\nfrom mne.viz import circular_layout\nfrom mne_connectivity import spectral_connectivity_epochs\nfrom mne_connectivity.viz import plot_connectivity_circle\n\nprint(__doc__)"
      ]
    },
    {
      "cell_type": "markdown",
      "metadata": {},
      "source": [
        "## Load our data\n\nFirst we'll load the data we'll use in connectivity estimation. We'll use\nthe sample MEG data provided with MNE.\n\n"
      ]
    },
    {
      "cell_type": "code",
      "execution_count": null,
      "metadata": {
        "collapsed": false
      },
      "outputs": [],
      "source": [
        "data_path = sample.data_path()\nsubjects_dir = data_path / 'subjects'\nfname_inv = data_path / 'MEG/sample/sample_audvis-meg-oct-6-meg-inv.fif'\nfname_raw = data_path / 'MEG/sample/sample_audvis_filt-0-40_raw.fif'\nfname_event = data_path / 'MEG/sample/sample_audvis_filt-0-40_raw-eve.fif'\n\n# Load data\ninverse_operator = read_inverse_operator(fname_inv)\nraw = mne.io.read_raw_fif(fname_raw)\nevents = mne.read_events(fname_event)\n\n# Add a bad channel\nraw.info['bads'] += ['MEG 2443']\n\n# Pick MEG channels\npicks = mne.pick_types(raw.info, meg=True, eeg=False, stim=False, eog=True,\n                       exclude='bads')\n\n# Define epochs for left-auditory condition\nevent_id, tmin, tmax = 1, -0.2, 0.5\nepochs = mne.Epochs(raw, events, event_id, tmin, tmax, picks=picks,\n                    baseline=(None, 0), reject=dict(mag=4e-12, grad=4000e-13,\n                                                    eog=150e-6))"
      ]
    },
    {
      "cell_type": "markdown",
      "metadata": {},
      "source": [
        "## Compute inverse solutions and their connectivity\n\nNext, we need to compute the inverse solution for this data. This will return\nthe sources / source activity that we'll use in computing connectivity. We'll\ncompute the connectivity in the alpha band of these sources. We can specify\nparticular frequencies to include in the connectivity with the ``fmin`` and\n``fmax`` flags. Notice from the status messages how mne-python:\n\n1. reads an epoch from the raw file\n2. applies SSP and baseline correction\n3. computes the inverse to obtain a source estimate\n4. averages the source estimate to obtain a time series for each label\n5. includes the label time series in the connectivity computation\n6. moves to the next epoch.\n\nThis behaviour is because we are using generators. Since we only need to\noperate on the data one epoch at a time, using a generator allows us to\ncompute connectivity in a computationally efficient manner where the amount\nof memory (RAM) needed is independent from the number of epochs.\n\n"
      ]
    },
    {
      "cell_type": "code",
      "execution_count": null,
      "metadata": {
        "collapsed": false
      },
      "outputs": [],
      "source": [
        "# Compute inverse solution and for each epoch. By using \"return_generator=True\"\n# stcs will be a generator object instead of a list.\nsnr = 1.0  # use lower SNR for single epochs\nlambda2 = 1.0 / snr ** 2\nmethod = \"dSPM\"  # use dSPM method (could also be MNE or sLORETA)\nstcs = apply_inverse_epochs(epochs, inverse_operator, lambda2, method,\n                            pick_ori=\"normal\", return_generator=True)\n\n# Get labels for FreeSurfer 'aparc' cortical parcellation with 34 labels/hemi\nlabels = mne.read_labels_from_annot('sample', parc='aparc',\n                                    subjects_dir=subjects_dir)\nlabel_colors = [label.color for label in labels]\n\n# Average the source estimates within each label using sign-flips to reduce\n# signal cancellations, also here we return a generator\nsrc = inverse_operator['src']\nlabel_ts = mne.extract_label_time_course(\n    stcs, labels, src, mode='mean_flip', return_generator=True)\n\nfmin = 8.\nfmax = 13.\nsfreq = raw.info['sfreq']  # the sampling frequency\ncon_methods = ['pli', 'wpli2_debiased', 'ciplv']\ncon = spectral_connectivity_epochs(\n    label_ts, method=con_methods, mode='multitaper', sfreq=sfreq, fmin=fmin,\n    fmax=fmax, faverage=True, mt_adaptive=True, n_jobs=1)\n\n# con is a 3D array, get the connectivity for the first (and only) freq. band\n# for each method\ncon_res = dict()\nfor method, c in zip(con_methods, con):\n    con_res[method] = c.get_data(output='dense')[:, :, 0]"
      ]
    },
    {
      "cell_type": "markdown",
      "metadata": {},
      "source": [
        "## Make a connectivity plot\n\nNow, we visualize this connectivity using a circular graph layout.\n\n"
      ]
    },
    {
      "cell_type": "code",
      "execution_count": null,
      "metadata": {
        "collapsed": false
      },
      "outputs": [],
      "source": [
        "# First, we reorder the labels based on their location in the left hemi\nlabel_names = [label.name for label in labels]\n\nlh_labels = [name for name in label_names if name.endswith('lh')]\n\n# Get the y-location of the label\nlabel_ypos = list()\nfor name in lh_labels:\n    idx = label_names.index(name)\n    ypos = np.mean(labels[idx].pos[:, 1])\n    label_ypos.append(ypos)\n\n# Reorder the labels based on their location\nlh_labels = [label for (yp, label) in sorted(zip(label_ypos, lh_labels))]\n\n# For the right hemi\nrh_labels = [label[:-2] + 'rh' for label in lh_labels]\n\n# Save the plot order and create a circular layout\nnode_order = list()\nnode_order.extend(lh_labels[::-1])  # reverse the order\nnode_order.extend(rh_labels)\n\nnode_angles = circular_layout(label_names, node_order, start_pos=90,\n                              group_boundaries=[0, len(label_names) / 2])\n\n# Plot the graph using node colors from the FreeSurfer parcellation. We only\n# show the 300 strongest connections.\nfig, ax = plt.subplots(figsize=(8, 8), facecolor='black',\n                       subplot_kw=dict(polar=True))\nplot_connectivity_circle(con_res['pli'], label_names, n_lines=300,\n                         node_angles=node_angles, node_colors=label_colors,\n                         title='All-to-All Connectivity left-Auditory '\n                               'Condition (PLI)', ax=ax)\nfig.tight_layout()"
      ]
    },
    {
      "cell_type": "markdown",
      "metadata": {},
      "source": [
        "## Make multiple connectivity plots in the same figure\n\nWe can also assign these connectivity plots to axes in a figure. Below we'll\nshow the connectivity plot using two different connectivity methods.\n\n"
      ]
    },
    {
      "cell_type": "code",
      "execution_count": null,
      "metadata": {
        "collapsed": false
      },
      "outputs": [],
      "source": [
        "fig, axes = plt.subplots(1, 3, figsize=(8, 4), facecolor='black',\n                         subplot_kw=dict(polar=True))\nno_names = [''] * len(label_names)\nfor ax, method in zip(axes, con_methods):\n    plot_connectivity_circle(con_res[method], no_names, n_lines=300,\n                             node_angles=node_angles, node_colors=label_colors,\n                             title=method, padding=0, fontsize_colorbar=6,\n                             ax=ax)"
      ]
    },
    {
      "cell_type": "markdown",
      "metadata": {},
      "source": [
        "## Save the figure (optional)\n\nBy default matplotlib does not save using the facecolor, even though this was\nset when the figure was generated. If not set via savefig, the labels, title,\nand legend will be cut off from the output png file.\n\n.. code-block:: python\n\n    import os.path as op\n    fname_fig = op.join(data_path, 'MEG', 'sample',\n                        'plot_inverse_connect.png')\n    fig.savefig(fname_fig, facecolor=fig.get_facecolor())\n\n"
      ]
    }
  ],
  "metadata": {
    "kernelspec": {
      "display_name": "Python 3",
      "language": "python",
      "name": "python3"
    },
    "language_info": {
      "codemirror_mode": {
        "name": "ipython",
        "version": 3
      },
      "file_extension": ".py",
      "mimetype": "text/x-python",
      "name": "python",
      "nbconvert_exporter": "python",
      "pygments_lexer": "ipython3",
      "version": "3.8.13"
    }
  },
  "nbformat": 4,
  "nbformat_minor": 0
}