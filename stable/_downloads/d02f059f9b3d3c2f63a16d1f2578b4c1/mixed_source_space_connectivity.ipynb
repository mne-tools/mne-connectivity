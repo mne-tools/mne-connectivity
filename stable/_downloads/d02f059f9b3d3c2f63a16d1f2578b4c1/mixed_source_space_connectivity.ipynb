{
  "cells": [
    {
      "cell_type": "markdown",
      "metadata": {},
      "source": [
        "\n# Compute mixed source space connectivity and visualize it using a circular graph\n\nThis example computes the all-to-all connectivity between 75 regions in a\nmixed source space based on dSPM inverse solutions and a FreeSurfer cortical\nparcellation. The connectivity is visualized using a circular graph which\nis ordered based on the locations of the regions in the axial plane.\n"
      ]
    },
    {
      "cell_type": "code",
      "execution_count": null,
      "metadata": {
        "collapsed": false
      },
      "outputs": [],
      "source": [
        "# Author: Annalisa Pascarella <a.pascarella@iac.cnr.it>\n#\n# License: BSD (3-clause)\n\nimport os.path as op\n\nimport matplotlib.pyplot as plt\nimport mne\nimport numpy as np\nfrom mne import make_forward_solution, setup_source_space, setup_volume_source_space\nfrom mne.datasets import sample\nfrom mne.io import read_raw_fif\nfrom mne.minimum_norm import apply_inverse_epochs, make_inverse_operator\nfrom mne.viz import circular_layout\n\nfrom mne_connectivity import spectral_connectivity_epochs\nfrom mne_connectivity.viz import plot_connectivity_circle\n\n# Set directories\ndata_path = sample.data_path()\nsubject = \"sample\"\ndata_dir = op.join(data_path, \"MEG\", subject)\nsubjects_dir = op.join(data_path, \"subjects\")\nbem_dir = op.join(subjects_dir, subject, \"bem\")\n\n# Set file names\nfname_aseg = op.join(subjects_dir, subject, \"mri\", \"aseg.mgz\")\n\nfname_model = op.join(bem_dir, \"%s-5120-bem.fif\" % subject)\nfname_bem = op.join(bem_dir, \"%s-5120-bem-sol.fif\" % subject)\n\nfname_raw = op.join(data_dir, \"sample_audvis_filt-0-40_raw.fif\")\nfname_trans = op.join(data_dir, \"sample_audvis_raw-trans.fif\")\nfname_cov = op.join(data_dir, \"ernoise-cov.fif\")\nfname_event = op.join(data_dir, \"sample_audvis_filt-0-40_raw-eve.fif\")\n\n# List of sub structures we are interested in. We select only the\n# sub structures we want to include in the source space\nlabels_vol = [\n    \"Left-Amygdala\",\n    \"Left-Thalamus-Proper\",\n    \"Left-Cerebellum-Cortex\",\n    \"Brain-Stem\",\n    \"Right-Amygdala\",\n    \"Right-Thalamus-Proper\",\n    \"Right-Cerebellum-Cortex\",\n]\n\n# Setup a surface-based source space, oct5 is not very dense (just used\n# to speed up this example; we recommend oct6 in actual analyses)\nsrc = setup_source_space(\n    subject, subjects_dir=subjects_dir, spacing=\"oct5\", add_dist=False\n)\n\n# Setup a volume source space\n# set pos=10.0 for speed, not very accurate; we recommend something smaller\n# like 5.0 in actual analyses:\nvol_src = setup_volume_source_space(\n    subject,\n    mri=fname_aseg,\n    pos=10.0,\n    bem=fname_model,\n    add_interpolator=False,  # just for speed, usually use True\n    volume_label=labels_vol,\n    subjects_dir=subjects_dir,\n)\n# Generate the mixed source space\nsrc += vol_src\n\n# Load data\nraw = read_raw_fif(fname_raw)\nraw.pick_types(meg=True, eeg=False, eog=True, stim=True).load_data()\nevents = mne.find_events(raw)\nnoise_cov = mne.read_cov(fname_cov)\n\n# compute the fwd matrix\nfwd = make_forward_solution(\n    raw.info, fname_trans, src, fname_bem, mindist=5.0\n)  # ignore sources<=5mm from innerskull\ndel src\n\n# Define epochs for left-auditory condition\nevent_id, tmin, tmax = 1, -0.2, 0.5\nreject = dict(mag=4e-12, grad=4000e-13, eog=150e-6)\nepochs = mne.Epochs(raw, events, event_id, tmin, tmax, reject=reject, preload=False)\ndel raw\n\n# Compute inverse solution and for each epoch\nsnr = 1.0  # use smaller SNR for raw data\ninv_method = \"dSPM\"\nparc = \"aparc\"  # the parcellation to use, e.g., 'aparc' 'aparc.a2009s'\n\nlambda2 = 1.0 / snr**2\n\n# Compute inverse operator\ninverse_operator = make_inverse_operator(\n    epochs.info, fwd, noise_cov, depth=None, fixed=False\n)\ndel fwd\n\nstcs = apply_inverse_epochs(\n    epochs, inverse_operator, lambda2, inv_method, pick_ori=None, return_generator=True\n)\n\n# Get labels for FreeSurfer 'aparc' cortical parcellation with 34 labels/hemi\nlabels_parc = mne.read_labels_from_annot(subject, parc=parc, subjects_dir=subjects_dir)\n\n# Average the source estimates within each label of the cortical parcellation\n# and each sub-structure contained in the source space.\n# When mode = 'mean_flip', this option is used only for the cortical labels.\nsrc = inverse_operator[\"src\"]\nlabel_ts = mne.extract_label_time_course(\n    stcs, labels_parc, src, mode=\"mean_flip\", allow_empty=True, return_generator=True\n)\n\n# We compute the connectivity in the alpha band and plot it using a circular\n# graph layout\nfmin = 8.0\nfmax = 13.0\nsfreq = epochs.info[\"sfreq\"]  # the sampling frequency\ncon = spectral_connectivity_epochs(\n    label_ts,\n    method=\"pli\",\n    mode=\"multitaper\",\n    sfreq=sfreq,\n    fmin=fmin,\n    fmax=fmax,\n    faverage=True,\n    mt_adaptive=True,\n    n_jobs=1,\n)\n\n# We create a list of Label containing also the sub structures\nlabels_aseg = mne.get_volume_labels_from_src(src, subject, subjects_dir)\nlabels = labels_parc + labels_aseg\n\n# read colors\nnode_colors = [label.color for label in labels]\n\n# We reorder the labels based on their location in the left hemi\nlabel_names = [label.name for label in labels]\nlh_labels = [name for name in label_names if name.endswith(\"lh\")]\nrh_labels = [name for name in label_names if name.endswith(\"rh\")]\n\n# Get the y-location of the label\nlabel_ypos_lh = list()\nfor name in lh_labels:\n    idx = label_names.index(name)\n    ypos = np.mean(labels[idx].pos[:, 1])\n    label_ypos_lh.append(ypos)\ntry:\n    idx = label_names.index(\"Brain-Stem\")\nexcept ValueError:\n    pass\nelse:\n    ypos = np.mean(labels[idx].pos[:, 1])\n    lh_labels.append(\"Brain-Stem\")\n    label_ypos_lh.append(ypos)\n\n\n# Reorder the labels based on their location\nlh_labels = [label for (yp, label) in sorted(zip(label_ypos_lh, lh_labels))]\n\n# For the right hemi\nrh_labels = [\n    label[:-2] + \"rh\"\n    for label in lh_labels\n    if label != \"Brain-Stem\" and label[:-2] + \"rh\" in rh_labels\n]\n\n# Save the plot order\nnode_order = lh_labels[::-1] + rh_labels\n\nnode_angles = circular_layout(\n    label_names, node_order, start_pos=90, group_boundaries=[0, len(label_names) // 2]\n)\n\n\n# Plot the graph using node colors from the FreeSurfer parcellation. We only\n# show the 300 strongest connections.\nconmat = con.get_data(output=\"dense\")[:, :, 0]\nfig, ax = plt.subplots(figsize=(8, 8), facecolor=\"black\", subplot_kw=dict(polar=True))\nplot_connectivity_circle(\n    conmat,\n    label_names,\n    n_lines=300,\n    node_angles=node_angles,\n    node_colors=node_colors,\n    title=\"All-to-All Connectivity left-Auditory \" \"Condition (PLI)\",\n    ax=ax,\n)\nfig.tight_layout()"
      ]
    },
    {
      "cell_type": "markdown",
      "metadata": {},
      "source": [
        "## Save the figure (optional)\n\nBy default matplotlib does not save using the facecolor, even though this was\nset when the figure was generated. If not set via savefig, the labels, title,\nand legend will be cut off from the output png file.\n\n```python\nfname_fig = op.join(data_path, 'MEG', 'sample', 'plot_mixed_connect.png')\nfig.savefig(fname_fig, facecolor=fig.get_facecolor())\n```\n"
      ]
    }
  ],
  "metadata": {
    "kernelspec": {
      "display_name": "Python 3",
      "language": "python",
      "name": "python3"
    },
    "language_info": {
      "codemirror_mode": {
        "name": "ipython",
        "version": 3
      },
      "file_extension": ".py",
      "mimetype": "text/x-python",
      "name": "python",
      "nbconvert_exporter": "python",
      "pygments_lexer": "ipython3",
      "version": "3.10.12"
    }
  },
  "nbformat": 4,
  "nbformat_minor": 0
}