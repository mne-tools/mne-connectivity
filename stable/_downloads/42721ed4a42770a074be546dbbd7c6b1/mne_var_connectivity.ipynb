{
  "cells": [
    {
      "cell_type": "markdown",
      "metadata": {},
      "source": [
        "\n\n# Compute vector autoregressive model (linear system)\n\nCompute a VAR (linear system) model from time-series\nactivity :footcite:`li_linear_2017` using a\ncontinuous iEEG recording.\n\nIn this example, we will demonstrate how to compute\na VAR model with different statistical assumptions.\n"
      ]
    },
    {
      "cell_type": "code",
      "execution_count": null,
      "metadata": {
        "collapsed": false
      },
      "outputs": [],
      "source": [
        "# Authors: Adam Li <adam2392@gmail.com>\n#\n# License: BSD (3-clause)\nimport matplotlib.pyplot as plt\nimport mne\nimport numpy as np\nfrom mne import make_fixed_length_epochs\nfrom mne_bids import BIDSPath, read_raw_bids\n\nfrom mne_connectivity import vector_auto_regression"
      ]
    },
    {
      "cell_type": "markdown",
      "metadata": {},
      "source": [
        "## Load the data\nHere, we first download an ECoG dataset that was recorded from a patient with\nepilepsy. To facilitate loading the data, we use [mne-bids](https://mne.tools/mne-bids/).\n\nThen, we will do some basic filtering and preprocessing using MNE-Python.\n\n"
      ]
    },
    {
      "cell_type": "code",
      "execution_count": null,
      "metadata": {
        "collapsed": false
      },
      "outputs": [],
      "source": [
        "# paths to mne datasets - sample ECoG\nbids_root = mne.datasets.epilepsy_ecog.data_path()\n\n# first define the BIDS path\nbids_path = BIDSPath(\n    root=bids_root,\n    subject=\"pt1\",\n    session=\"presurgery\",\n    task=\"ictal\",\n    datatype=\"ieeg\",\n    extension=\"vhdr\",\n)\n\n# Then we'll use it to load in the sample dataset. Here we use a format (iEEG)\n# that is only available in MNE-BIDS 0.7+, so it will emit a warning on\n# versions <= 0.6\nraw = read_raw_bids(bids_path=bids_path, verbose=False)\n\nline_freq = raw.info[\"line_freq\"]\nprint(f\"Data has a power line frequency at {line_freq}.\")\n\n# Pick only the ECoG channels, removing the ECG channels\nraw.pick_types(ecog=True)\n\n# Load the data\nraw.load_data()\n\n# Then we remove line frequency interference\nraw.notch_filter(line_freq)\n\n# drop bad channels\nraw.drop_channels(raw.info[\"bads\"])"
      ]
    },
    {
      "cell_type": "markdown",
      "metadata": {},
      "source": [
        "## Crop the data for this example\n\nWe find the onset time of the seizure and remove all data after that time.\nIn this example, we are only interested in analyzing the interictal\n(non-seizure) data period.\n\nOne might be interested in analyzing the seizure period also, which we\nleave as an exercise for our readers!\n\n"
      ]
    },
    {
      "cell_type": "code",
      "execution_count": null,
      "metadata": {
        "collapsed": false
      },
      "outputs": [],
      "source": [
        "# Find the annotated events\nevents, event_id = mne.events_from_annotations(raw)\n\n# get sample at which seizure starts\nonset_id = event_id[\"onset\"]\nonset_idx = np.argwhere(events[:, 2] == onset_id)\nonset_sample = events[onset_idx, 0].squeeze()\nonset_sec = onset_sample / raw.info[\"sfreq\"]\n\n# remove all data after the seizure onset\nraw = raw.crop(tmin=0, tmax=onset_sec, include_tmax=False)"
      ]
    },
    {
      "cell_type": "markdown",
      "metadata": {},
      "source": [
        "## Create Windows of Data (Epochs) Using MNE-Python\nWe have a continuous iEEG snapshot that is about 60 seconds long\n(after cropping). We would like to estimate a VAR model over a sliding window\nof 500 milliseconds with a 250 millisecond step size.\n\nWe can use `mne.make_fixed_length_epochs` to create an Epochs data structure\nrepresenting this sliding window.\n\n"
      ]
    },
    {
      "cell_type": "code",
      "execution_count": null,
      "metadata": {
        "collapsed": false
      },
      "outputs": [],
      "source": [
        "epochs = make_fixed_length_epochs(raw=raw, duration=0.5, overlap=0.25)\ntimes = epochs.times\nch_names = epochs.ch_names\n\nprint(epochs)\nprint(epochs.times)\nprint(epochs.event_id)\nprint(epochs.events)"
      ]
    },
    {
      "cell_type": "markdown",
      "metadata": {},
      "source": [
        "## Compute the VAR model for all windows\nNow, we are ready to compute our VAR model. We will compute a VAR model for\neach Epoch and return an EpochConnectivity data structure. Each Epoch here\nrepresents a separate VAR model. Taken together, these represent a\ntime-varying linear system.\n\n"
      ]
    },
    {
      "cell_type": "code",
      "execution_count": null,
      "metadata": {
        "collapsed": false
      },
      "outputs": [],
      "source": [
        "conn = vector_auto_regression(data=epochs.get_data(), times=times, names=ch_names)\n\n# this returns a connectivity structure over time\nprint(conn)"
      ]
    },
    {
      "cell_type": "markdown",
      "metadata": {},
      "source": [
        "## Evaluate the VAR model fit\nWe can now evaluate the model fit by computing the residuals of the model and\nvisualizing them. In addition, we can evaluate the covariance of the\nresiduals. This will compute an independent VAR model for each epoch (window)\nof data.\n\n"
      ]
    },
    {
      "cell_type": "code",
      "execution_count": null,
      "metadata": {
        "collapsed": false
      },
      "outputs": [],
      "source": [
        "predicted_data = conn.predict(epochs.get_data())\n\n# compute residuals\nresiduals = epochs.get_data() - predicted_data\n\n# visualize the residuals\nfig, ax = plt.subplots()\nax.plot(residuals.flatten(), \"*\")\nax.set(title=\"Residuals of fitted VAR model\", ylabel=\"Magnitude\")\n\n# compute the covariance of the residuals\nmodel_order = conn.attrs.get(\"model_order\")\nt = residuals.shape[0]\nsampled_residuals = np.concatenate(\n    np.split(residuals[:, :, model_order:], t, 0), axis=2\n).squeeze(0)\nrescov = np.cov(sampled_residuals)\n\n# Next, we visualize the covariance of residuals.\n# Here we will see that because we use ordinary\n# least-squares as an estimation method, the residuals\n# should come with low covariances.\nfig, ax = plt.subplots()\ncax = fig.add_axes([0.27, 0.8, 0.5, 0.05])\nim = ax.imshow(rescov, cmap=\"viridis\", aspect=\"equal\", interpolation=\"none\")\nfig.colorbar(im, cax=cax, orientation=\"horizontal\")"
      ]
    },
    {
      "cell_type": "markdown",
      "metadata": {},
      "source": [
        "## Compute one VAR model using all epochs\nBy setting ``model='dynamic'``, we instead treat each Epoch as a sample of\nthe same VAR model and thus we only estimate one VAR model. One might do this\nwhen one suspects the data is stationary and one VAR model represents all\nepochs.\n\n"
      ]
    },
    {
      "cell_type": "code",
      "execution_count": null,
      "metadata": {
        "collapsed": false
      },
      "outputs": [],
      "source": [
        "conn = vector_auto_regression(\n    data=epochs.get_data(), times=times, names=ch_names, model=\"avg-epochs\"\n)\n\n# this returns a connectivity structure over time\nprint(conn)"
      ]
    },
    {
      "cell_type": "markdown",
      "metadata": {},
      "source": [
        "## Evaluate model fit again\nWe can now evaluate the model fit again as done earlier. This model fit will\nof course have higher residuals than before as we are only fitting 1 VAR\nmodel to all the epochs.\n\n"
      ]
    },
    {
      "cell_type": "code",
      "execution_count": null,
      "metadata": {
        "collapsed": false
      },
      "outputs": [],
      "source": [
        "first_epoch = epochs.get_data()[0, ...]\npredicted_data = conn.predict(first_epoch)\n\n# compute residuals\nresiduals = epochs.get_data() - predicted_data\n\n# visualize the residuals\nfig, ax = plt.subplots()\nax.plot(residuals.flatten(), \"*\")\nax.set(title=\"Residuals of fitted VAR model\", ylabel=\"Magnitude\")\n\n# compute the covariance of the residuals\nmodel_order = conn.attrs.get(\"model_order\")\nt = residuals.shape[0]\nsampled_residuals = np.concatenate(\n    np.split(residuals[:, :, model_order:], t, 0), axis=2\n).squeeze(0)\nrescov = np.cov(sampled_residuals)\n\n# Next, we visualize the covariance of residuals as before.\n# Here we will see a similar trend with the covariances as\n# with the covariances for time-varying VAR model.\nfig, ax = plt.subplots()\ncax = fig.add_axes([0.27, 0.8, 0.5, 0.05])\nim = ax.imshow(rescov, cmap=\"viridis\", aspect=\"equal\", interpolation=\"none\")\nfig.colorbar(im, cax=cax, orientation=\"horizontal\")"
      ]
    }
  ],
  "metadata": {
    "kernelspec": {
      "display_name": "Python 3",
      "language": "python",
      "name": "python3"
    },
    "language_info": {
      "codemirror_mode": {
        "name": "ipython",
        "version": 3
      },
      "file_extension": ".py",
      "mimetype": "text/x-python",
      "name": "python",
      "nbconvert_exporter": "python",
      "pygments_lexer": "ipython3",
      "version": "3.10.12"
    }
  },
  "nbformat": 4,
  "nbformat_minor": 0
}