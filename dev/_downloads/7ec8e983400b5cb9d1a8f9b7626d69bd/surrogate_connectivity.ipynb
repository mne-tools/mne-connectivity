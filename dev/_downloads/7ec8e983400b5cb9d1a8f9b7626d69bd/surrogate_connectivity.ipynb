{
  "cells": [
    {
      "cell_type": "markdown",
      "metadata": {},
      "source": [
        "\n# Determine the significance of connectivity estimates against baseline connectivity\n\nThis example demonstrates how surrogate data can be generated to assess whether\nconnectivity estimates are significantly greater than baseline.\n"
      ]
    },
    {
      "cell_type": "code",
      "execution_count": null,
      "metadata": {
        "collapsed": false
      },
      "outputs": [],
      "source": [
        "# Author: Thomas S. Binns <t.s.binns@outlook.com>\n# License: BSD (3-clause)\n# sphinx_gallery_thumbnail_number = 3"
      ]
    },
    {
      "cell_type": "code",
      "execution_count": null,
      "metadata": {
        "collapsed": false
      },
      "outputs": [],
      "source": [
        "import matplotlib.pyplot as plt\nimport mne\nimport numpy as np\nfrom mne.datasets import somato\n\nfrom mne_connectivity import make_surrogate_data, spectral_connectivity_epochs"
      ]
    },
    {
      "cell_type": "markdown",
      "metadata": {},
      "source": [
        "## Background\n\nWhen performing connectivity analyses, we often want to know whether the results we\nobserve reflect genuine interactions between signals. We can assess this by performing\nstatistical tests between our connectivity estimates and a 'baseline' level of\nconnectivity. However, due to factors such as background noise and sample\nsize-dependent biases (see e.g. :footcite:`VinckEtAl2010`), it is often not\nappropriate to treat 0 as this baseline. Therefore, we need a way to estimate the\nbaseline level of connectivity.\n\nOne approach is to manipulate the original data in such a way that the covariance\nstructure is destroyed, creating surrogate data. Connectivity estimates from the\noriginal and surrogate data can then be compared to determine whether the original\ndata contains significant interactions.\n\nSuch surrogate data can be easily generated in MNE using the\n:func:`~mne_connectivity.make_surrogate_data` function, which shuffles epoched data\nindependently across channels :footcite:`PellegriniEtAl2023` (see the Notes section of\nthe function for more information). In this example, we will demonstrate how surrogate\ndata can be created, and how you can use this to assess the statistical significance\nof your connectivity estimates.\n\n"
      ]
    },
    {
      "cell_type": "markdown",
      "metadata": {},
      "source": [
        "## Loading the data\n\nWe start by loading from the `somato-dataset` dataset, MEG data showing\nevent-related activity in response to somatosensory stimuli. We construct epochs\naround these events in the time window [-1.5, 1.0] seconds.\n\n"
      ]
    },
    {
      "cell_type": "code",
      "execution_count": null,
      "metadata": {
        "collapsed": false
      },
      "outputs": [],
      "source": [
        "# Load data\ndata_path = somato.data_path()\nraw_fname = data_path / \"sub-01\" / \"meg\" / \"sub-01_task-somato_meg.fif\"\nraw = mne.io.read_raw_fif(raw_fname)\nevents = mne.find_events(raw, stim_channel=\"STI 014\")\n\n# Pre-processing\nraw.pick(\"grad\").load_data()  # focus on gradiometers\nraw.filter(1, 35)\nraw, events = raw.resample(sfreq=100, events=events)  # reduce compute time\n\n# Construct epochs around events\nepochs = mne.Epochs(\n    raw, events, event_id=1, tmin=-1.5, tmax=1.0, baseline=(-0.5, 0), preload=True\n)\nepochs = epochs[:30]  # select a subset of epochs to speed up computation"
      ]
    },
    {
      "cell_type": "markdown",
      "metadata": {},
      "source": [
        "## Assessing connectivity in non-evoked data\n\nWe will first demonstrate how connectivity can be assessed from non-evoked data. In\nthis example, we use data from the pre-trial period of [-1.5, -0.5] seconds. We\ncompute Fourier coefficients of the data using the :meth:`~mne.Epochs.compute_psd`\nmethod with ``output=\"complex\"`` (note that this requires ``mne >= 1.8``).\n\nNext, we pass these coefficients to\n:func:`~mne_connectivity.spectral_connectivity_epochs` to compute connectivity using\nthe imaginary part of coherency (``imcoh``). Our indices specify that connectivity\nshould be computed between all pairs of channels.\n\n"
      ]
    },
    {
      "cell_type": "code",
      "execution_count": null,
      "metadata": {
        "collapsed": false
      },
      "outputs": [],
      "source": [
        "# Compute Fourier coefficients for pre-trial data\nfmin, fmax = 3, 23\npretrial_coeffs = epochs.compute_psd(\n    fmin=fmin, fmax=fmax, tmin=None, tmax=-0.5, output=\"complex\"\n)\nfreqs = pretrial_coeffs.freqs\n\n# Compute connectivity for pre-trial data\nindices = np.tril_indices(epochs.info[\"nchan\"], k=-1)  # all-to-all connectivity\npretrial_con = spectral_connectivity_epochs(\n    pretrial_coeffs, method=\"imcoh\", indices=indices\n)"
      ]
    },
    {
      "cell_type": "markdown",
      "metadata": {},
      "source": [
        "Next, we generate the surrogate data by passing the Fourier coefficients into the\n:func:`~mne_connectivity.make_surrogate_data` function. To get a reliable estimate of\nthe baseline connectivity, we perform this shuffling procedure\n$\\text{n}_{\\text{shuffle}}$ times, producing $\\text{n}_{\\text{shuffle}}$\nsurrogate datasets. We can then iterate over these shuffles and compute the\nconnectivity for each one.\n\n"
      ]
    },
    {
      "cell_type": "code",
      "execution_count": null,
      "metadata": {
        "collapsed": false
      },
      "outputs": [],
      "source": [
        "# Generate surrogate data\nn_shuffles = 100  # recommended is >= 1,000; limited here to reduce compute time\npretrial_surrogates = make_surrogate_data(\n    pretrial_coeffs, n_shuffles=n_shuffles, rng_seed=42\n)\n\n# Compute connectivity for surrogate data\nsurrogate_con = []\nfor shuffle_i, surrogate in enumerate(pretrial_surrogates, 1):\n    print(f\"Computing connectivity for shuffle {shuffle_i} of {n_shuffles}\")\n    surrogate_con.append(\n        spectral_connectivity_epochs(\n            surrogate, method=\"imcoh\", indices=indices, verbose=False\n        )\n    )"
      ]
    },
    {
      "cell_type": "markdown",
      "metadata": {},
      "source": [
        "We can plot the all-to-all connectivity of the pre-trial data against the surrogate\ndata, averaged over all shuffles. This shows a strong degree of coupling in the alpha\nband (~8-12 Hz), with weaker coupling in the lower range of the beta band (~13-20 Hz).\nA simple visual inspection shows that connectivity in the alpha and beta bands are\nabove the baseline level of connectivity estimated from the surrogate data. However,\nwe need to confirm this statistically.\n\n"
      ]
    },
    {
      "cell_type": "code",
      "execution_count": null,
      "metadata": {
        "collapsed": false
      },
      "outputs": [],
      "source": [
        "# Plot pre-trial vs. surrogate connectivity\nfig, ax = plt.subplots(1, 1)\nax.plot(\n    freqs,\n    np.abs([surrogate.get_data() for surrogate in surrogate_con]).mean(axis=(0, 1)),\n    linestyle=\"--\",\n    label=\"Surrogate\",\n)\nax.plot(freqs, np.abs(pretrial_con.get_data()).mean(axis=0), label=\"Original\")\nax.set_xlabel(\"Frequency (Hz)\")\nax.set_ylabel(\"Connectivity (A.U.)\")\nax.set_title(\"All-to-all connectivity | Pre-trial \")\nax.legend()"
      ]
    },
    {
      "cell_type": "markdown",
      "metadata": {},
      "source": [
        "Assessing the statistical significance of our connectivity estimates can be done with\nthe following simple procedure :footcite:`PellegriniEtAl2023`\n\n$p=\\LARGE{\\frac{\\Sigma_{s=1}^Sc_s}{S}}$ ,\n\n$c_s=\\{1\\text{ if }\\text{Con}\\leq\\text{Con}_{\\text{s}}\\text{ },\\text{ }0\n\\text{ if otherwise }$ ,\n\nwhere: $p$ is our p-value; $s$ is a given shuffle iteration of $S$\ntotal shuffles; and $c$ is a binary indicator of whether the true connectivity,\n$\\text{Con}$, is greater than the surrogate connectivity,\n$\\text{Con}_{\\text{s}}$, for a given shuffle.\n\nNote that for connectivity methods which produce negative scores (e.g., imaginary part\nof coherency, time-reversed Granger causality, etc...), you should take the absolute\nvalues before testing. Similar adjustments should be made for methods that produce\nscores centred around non-zero values (e.g., 0.5 for directed phase lag index).\n\nBelow, we determine the statistical significance of connectivity in the lower beta\nband. We simplify this by averaging over all connections and corresponding frequency\nbins. We could of course also test the significance of each connection, each frequency\nbin, or other frequency bands such as the alpha band. Naturally, any tests involving\nmultiple connections, frequencies, and/or times should be corrected for multiple\ncomparisons.\n\nThe test confirms our visual inspection, showing that connectivity in the lower beta\nband is significantly above the baseline level of connectivity at an alpha of 0.05,\nwhich we can take as evidence of genuine interactions in this frequency band.\n\n"
      ]
    },
    {
      "cell_type": "code",
      "execution_count": null,
      "metadata": {
        "collapsed": false
      },
      "outputs": [],
      "source": [
        "# Find indices of lower beta frequencies\nbeta_freqs = np.where((freqs >= 13) & (freqs <= 20))[0]\n\n# Compute lower beta connectivity for pre-trial data (average connections and freqs)\nbeta_con_pretrial = np.abs(pretrial_con.get_data()[:, beta_freqs]).mean(axis=(0, 1))\n\n# Compute lower beta connectivity for surrogate data (average connections and freqs)\nbeta_con_surrogate = np.abs(\n    [surrogate.get_data()[:, beta_freqs] for surrogate in surrogate_con]\n).mean(axis=(1, 2))\n\n# Compute p-value for pre-trial lower beta coupling\np_val = np.sum(beta_con_pretrial <= beta_con_surrogate) / n_shuffles\nprint(f\"P = {p_val:.2f}\")"
      ]
    },
    {
      "cell_type": "markdown",
      "metadata": {},
      "source": [
        "## Assessing connectivity in evoked data\n\nWhen generating surrogate data, it is important to distinguish non-evoked data (e.g.,\nresting-state, pre/inter-trial data) from evoked data (where a stimulus is presented\nor an action performed at a set time during each epoch). Critically, evoked data\ncontains a temporal structure that is consistent across epochs, and thus shuffling\nepochs across channels will fail to adequately disrupt the covariance structure.\n\nAny connectivity estimates will therefore overestimate the baseline connectivity in\nyour data, increasing the likelihood of type II errors (see the Notes section of\n:func:`~mne_connectivity.make_surrogate_data` for more information, and see the\nsection `inappropriate-surrogate-data` for a demonstration).\n\n**In cases where you want to assess connectivity in evoked data, you can use\nsurrogates generated from non-evoked data (of the same subject).** Here we do just\nthat, comparing connectivity estimates from the pre-trial surrogates to the evoked,\npost-stimulus response ([0, 1] second).\n\nAgain, there is pronounced alpha coupling (stronger than in the pre-trial data) and\nweaker beta coupling, both of which appear to be above the baseline level of\nconnectivity.\n\n"
      ]
    },
    {
      "cell_type": "code",
      "execution_count": null,
      "metadata": {
        "collapsed": false
      },
      "outputs": [],
      "source": [
        "# Compute Fourier coefficients for post-stimulus data\npoststim_coeffs = epochs.compute_psd(\n    fmin=fmin, fmax=fmax, tmin=0, tmax=None, output=\"complex\"\n)\n\n# Compute connectivity for post-stimulus data\npoststim_con = spectral_connectivity_epochs(\n    poststim_coeffs, method=\"imcoh\", indices=indices\n)\n\n# Plot post-stimulus vs. (pre-trial) surrogate connectivity\nfig, ax = plt.subplots(1, 1)\nax.plot(\n    freqs,\n    np.abs([surrogate.get_data() for surrogate in surrogate_con]).mean(axis=(0, 1)),\n    linestyle=\"--\",\n    label=\"Surrogate\",\n)\nax.plot(freqs, np.abs(poststim_con.get_data()).mean(axis=0), label=\"Original\")\nax.set_xlabel(\"Frequency (Hz)\")\nax.set_ylabel(\"Connectivity (A.U.)\")\nax.set_title(\"All-to-all connectivity | Post-stimulus\")\nax.legend()"
      ]
    },
    {
      "cell_type": "markdown",
      "metadata": {},
      "source": [
        "This is also confirmed by statistical testing, with connectivity in the lower beta\nband being significantly above the baseline level of connectivity. Thus, using\nsurrogate connectivity estimates from non-evoked data provides a reliable baseline for\nassessing connectivity in evoked data.\n\n"
      ]
    },
    {
      "cell_type": "code",
      "execution_count": null,
      "metadata": {
        "collapsed": false
      },
      "outputs": [],
      "source": [
        "# Compute lower beta connectivity for post-stimulus data (average connections and freqs)\nbeta_con_poststim = np.abs(poststim_con.get_data()[:, beta_freqs]).mean(axis=(0, 1))\n\n# Compute p-value for post-stimulus lower beta coupling\np_val = np.sum(beta_con_poststim <= beta_con_surrogate) / n_shuffles\nprint(f\"P = {p_val:.2f}\")"
      ]
    },
    {
      "cell_type": "markdown",
      "metadata": {},
      "source": [
        "\n## Generating surrogate connectivity from inappropriate data\nWe discussed above how surrogates generated from evoked data risk overestimating the\ndegree of baseline connectivity. We demonstrate this below by generating surrogates\nfrom the post-stimulus data.\n\n"
      ]
    },
    {
      "cell_type": "code",
      "execution_count": null,
      "metadata": {
        "collapsed": false
      },
      "outputs": [],
      "source": [
        "# Generate surrogates from evoked data\npoststim_surrogates = make_surrogate_data(\n    poststim_coeffs, n_shuffles=n_shuffles, rng_seed=44\n)\n\n# Compute connectivity for evoked surrogate data\nbad_surrogate_con = []\nfor shuffle_i, surrogate in enumerate(poststim_surrogates, 1):\n    print(f\"Computing connectivity for shuffle {shuffle_i} of {n_shuffles}\")\n    bad_surrogate_con.append(\n        spectral_connectivity_epochs(\n            surrogate, method=\"imcoh\", indices=indices, verbose=False\n        )\n    )"
      ]
    },
    {
      "cell_type": "markdown",
      "metadata": {},
      "source": [
        "Plotting the post-stimulus connectivity against the estimates from the non-evoked and\nevoked surrogate data, we see that the evoked surrogate data greatly overestimates the\nbaseline connectivity in the alpha band.\n\nAlthough in this case the alpha connectivity was still far above the baseline from the\nevoked surrogates, this will not always be the case, and you can see how this risks\nfalse negative assessments that connectivity is not significantly different from\nbaseline.\n\n"
      ]
    },
    {
      "cell_type": "code",
      "execution_count": null,
      "metadata": {
        "collapsed": false
      },
      "outputs": [],
      "source": [
        "# Plot post-stimulus vs. evoked and non-evoked surrogate connectivity\nfig, ax = plt.subplots(1, 1)\nax.plot(\n    freqs,\n    np.abs([surrogate.get_data() for surrogate in surrogate_con]).mean(axis=(0, 1)),\n    linestyle=\"--\",\n    label=\"Surrogate (pre-stimulus)\",\n)\nax.plot(\n    freqs,\n    np.abs([surrogate.get_data() for surrogate in bad_surrogate_con]).mean(axis=(0, 1)),\n    color=\"C3\",\n    linestyle=\"--\",\n    label=\"Surrogate (post-stimulus)\",\n)\nax.plot(\n    freqs, np.abs(poststim_con.get_data()).mean(axis=0), color=\"C1\", label=\"Original\"\n)\nax.set_xlabel(\"Frequency (Hz)\")\nax.set_ylabel(\"Connectivity (A.U.)\")\nax.set_title(\"All-to-all connectivity | Post-stimulus\")\nax.legend()"
      ]
    },
    {
      "cell_type": "markdown",
      "metadata": {},
      "source": [
        "## Assessing connectivity on a group-level\n\nWhile our focus here has been on assessing the significance of connectivity on a\nsingle recording-level, we may also want to determine whether group-level connectivity\nestimates are significantly different from baseline. For this, we can generate\nsurrogates and estimate connectivity alongside the original signals for each piece of\ndata.\n\nThere are multiple ways to assess the statistical significance. For example, we can\ncompute p-values for each piece of data using the approach above and combine them for\nthe nested data (e.g., across recordings, subjects, etc...) using Stouffer's method\n:footcite:`DowdingHaufe2018`.\n\nAlternatively, we could take the average of the surrogate connectivity estimates\nacross all shuffles for each piece of data and compare them to the original\nconnectivity estimates in a paired test. The :mod:`scipy.stats` and :mod:`mne.stats`\nmodules have many such tools for testing this, e.g., :func:`scipy.stats.ttest_1samp`,\n:func:`mne.stats.permutation_t_test`, etc...\n\nAltogether, surrogate connectivity estimates are a powerful tool for assessing the\nsignificance of connectivity estimates, both on a single recording- and group-level.\n\n"
      ]
    },
    {
      "cell_type": "markdown",
      "metadata": {},
      "source": [
        "## References\n.. footbibliography::\n\n"
      ]
    }
  ],
  "metadata": {
    "kernelspec": {
      "display_name": "Python 3",
      "language": "python",
      "name": "python3"
    },
    "language_info": {
      "codemirror_mode": {
        "name": "ipython",
        "version": 3
      },
      "file_extension": ".py",
      "mimetype": "text/x-python",
      "name": "python",
      "nbconvert_exporter": "python",
      "pygments_lexer": "ipython3",
      "version": "3.12.3"
    }
  },
  "nbformat": 4,
  "nbformat_minor": 0
}