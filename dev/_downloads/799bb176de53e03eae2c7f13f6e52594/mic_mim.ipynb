{
  "cells": [
    {
      "cell_type": "markdown",
      "metadata": {},
      "source": [
        "\n# Compute multivariate measures of the imaginary part of coherency\n\nThis example demonstrates how multivariate methods based on the imaginary part\nof coherency :footcite:`EwaldEtAl2012` can be used to compute connectivity\nbetween whole sets of sensors, and how spatial patterns of this connectivity\ncan be interpreted.\n\nThe methods in question are: the maximised imaginary part of coherency (MIC);\nand the multivariate interaction measure (MIM; as well as its extension, the\nglobal interaction measure, GIM).\n"
      ]
    },
    {
      "cell_type": "code",
      "execution_count": null,
      "metadata": {
        "collapsed": false
      },
      "outputs": [],
      "source": [
        "# Author: Thomas S. Binns <t.s.binns@outlook.com>\n# License: BSD (3-clause)"
      ]
    },
    {
      "cell_type": "code",
      "execution_count": null,
      "metadata": {
        "collapsed": false
      },
      "outputs": [],
      "source": [
        "import numpy as np\nfrom matplotlib import pyplot as plt\nfrom matplotlib import patheffects as pe\n\nimport mne\nfrom mne import EvokedArray, make_fixed_length_epochs\nfrom mne.datasets.fieldtrip_cmc import data_path\nfrom mne_connectivity import seed_target_indices, spectral_connectivity_epochs"
      ]
    },
    {
      "cell_type": "markdown",
      "metadata": {},
      "source": [
        "## Background\n\nMultivariate forms of signal analysis allow you to simultaneously consider\nthe activity of multiple signals. In the case of connectivity, the\ninteraction between multiple sensors can be analysed at once, producing a\nsingle connectivity spectrum. This approach brings not only practical\nbenefits (e.g. easier interpretability of results from the dimensionality\nreduction), but can also offer methodological improvements (e.g. enhanced\nsignal-to-noise ratio and reduced bias).\n\nA popular bivariate measure of connectivity is the imaginary part of\ncoherency, which looks at the correlation between two signals in the\nfrequency domain and is immune to spurious connectivity arising from volume\nconduction artefacts :footcite:`NolteEtAl2004`. However, depending on the\ndegree of source mixing, this measure is susceptible to biased estimates of\nconnectivity based on the spatial proximity of sensors\n:footcite:`EwaldEtAl2012`.\n\nTo overcome this limitation, spatial filters can be used to estimate\nconnectivity free from this source mixing-dependent bias, which additionally\nincreases the signal-to-noise ratio and allows signals to be analysed in a\nmultivariate manner :footcite:`EwaldEtAl2012`. This approach leads to the\nfollowing methods: the maximised imaginary part of coherency (MIC); and the\nmultivariate interaction measure (MIM).\n\nWe start by loading some example MEG data and dividing it into\ntwo-second-long epochs.\n\n"
      ]
    },
    {
      "cell_type": "code",
      "execution_count": null,
      "metadata": {
        "collapsed": false
      },
      "outputs": [],
      "source": [
        "raw = mne.io.read_raw_ctf(data_path() / 'SubjectCMC.ds')\nraw.pick('mag')\nraw.crop(50., 110.).load_data()\nraw.notch_filter(50)\nraw.resample(100)\n\nepochs = make_fixed_length_epochs(raw, duration=2.0).load_data()"
      ]
    },
    {
      "cell_type": "markdown",
      "metadata": {},
      "source": [
        "We will focus on connectivity between sensors over the left and right\nhemispheres, with 75 sensors in the left hemisphere designated as seeds, and\n75 sensors in the right hemisphere designated as targets.\n\n"
      ]
    },
    {
      "cell_type": "code",
      "execution_count": null,
      "metadata": {
        "collapsed": false
      },
      "outputs": [],
      "source": [
        "# left hemisphere sensors\nseeds = [idx for idx, ch_info in enumerate(epochs.info['chs']) if\n         ch_info['loc'][0] < 0]\n# right hemisphere sensors\ntargets = [idx for idx, ch_info in enumerate(epochs.info['chs']) if\n           ch_info['loc'][0] > 0]\n\n# XXX: Currently ragged indices are not supported, so we only consider a single\n# list of indices with an equal number of seeds and targets\nmin_n_chs = min(len(seeds), len(targets))\nseeds = seeds[:min_n_chs]\ntargets = targets[:min_n_chs]\n\nmultivar_indices = (np.array(seeds), np.array(targets))\n\nseed_names = [epochs.info['ch_names'][idx] for idx in seeds]\ntarget_names = [epochs.info['ch_names'][idx] for idx in targets]\n\n# multivariate imaginary part of coherency\n(mic, mim) = spectral_connectivity_epochs(\n    epochs, method=['mic', 'mim'], indices=multivar_indices, fmin=5, fmax=30,\n    rank=None)\n\n# bivariate imaginary part of coherency (for comparison)\nbivar_indices = seed_target_indices(seeds, targets)\nimcoh = spectral_connectivity_epochs(\n    epochs, method='imcoh', indices=bivar_indices, fmin=5, fmax=30)"
      ]
    },
    {
      "cell_type": "markdown",
      "metadata": {},
      "source": [
        "By averaging across each connection between the seeds and targets, we can see\nthat the bivariate measure of the imaginary part of coherency estimates a\nstrong peak in connectivity between seeds and targets around 13-18 Hz, with a\nweaker peak around 27 Hz.\n\n"
      ]
    },
    {
      "cell_type": "code",
      "execution_count": null,
      "metadata": {
        "collapsed": false
      },
      "outputs": [],
      "source": [
        "fig, axis = plt.subplots(1, 1)\naxis.plot(imcoh.freqs, np.mean(np.abs(imcoh.get_data()), axis=0),\n          linewidth=2)\naxis.set_xlabel('Frequency (Hz)')\naxis.set_ylabel('Absolute connectivity (A.U.)')\nfig.suptitle('Imaginary part of coherency')"
      ]
    },
    {
      "cell_type": "markdown",
      "metadata": {},
      "source": [
        "## Maximised imaginary part of coherency (MIC)\n\nFor MIC, a set of spatial filters are found that will maximise the estimated\nconnectivity between the seed and target signals. These maximising filters\ncorrespond to the eigenvectors with the largest eigenvalue, derived from an\neigendecomposition of information from the cross-spectral density (Eq. 7 of\n:footcite:`EwaldEtAl2012`):\n\n$MIC=\\frac{\\boldsymbol{\\alpha}^T \\boldsymbol{E \\beta}}{\\parallel\n\\boldsymbol{\\alpha}\\parallel \\parallel\\boldsymbol{\\beta}\\parallel}$,\n\nwhere $\\boldsymbol{\\alpha}$ and $\\boldsymbol{\\beta}$ are the\nspatial filters for the seeds and targets, respectively, and\n$\\boldsymbol{E}$ is the imaginary part of the transformed\ncross-spectral density between the seeds and targets. All elements are\nfrequency-dependent, however this is omitted for readability. MIC is bound\nbetween $[-1, 1]$ where the absolute value reflects connectivity\nstrength and the sign reflects the phase angle difference between signals.\n\nMIC can also be computed between identical sets of seeds and targets,\nallowing connectivity within a single set of signals to be estimated. This is\npossible as a result of the exclusion of zero phase lag components from the\nconnectivity estimates, which would otherwise return a perfect correlation.\n\nIn this instance, we see MIC reveal that in addition to the 13-18 Hz peak, a\npreviously unobserved peak in connectivity around 9 Hz is present.\nFurthermore, the previous peak around 27 Hz is much less pronounced. This may\nindicate that the connectivity was the result of some distal interaction\nexacerbated by strong source mixing, which biased the bivariate connectivity\nestimate.\n\n"
      ]
    },
    {
      "cell_type": "code",
      "execution_count": null,
      "metadata": {
        "collapsed": false
      },
      "outputs": [],
      "source": [
        "fig, axis = plt.subplots(1, 1)\naxis.plot(mic.freqs, np.abs(mic.get_data()[0]), linewidth=2)\naxis.set_xlabel('Frequency (Hz)')\naxis.set_ylabel('Absolute connectivity (A.U.)')\nfig.suptitle('Maximised imaginary part of coherency')"
      ]
    },
    {
      "cell_type": "markdown",
      "metadata": {},
      "source": [
        "Furthermore, spatial patterns of connectivity can be constructed from the\nspatial filters to give a picture of the location of the sources involved in\nthe connectivity. This information is stored under ``attrs['patterns']`` of\nthe connectivity class, with one value per frequency for each channel in the\nseeds and targets. As with MIC, the absolute value of the patterns reflect\nthe strength, however the sign differences can be used to visualise the\norientation of the underlying dipole sources. The spatial patterns are\n**not** bound between $[-1, 1]$.\n\nHere, we average across the patterns in the 13-18 Hz range. Plotting the\npatterns shows that the greatest connectivity between the left and right\nhemispheres occurs at the posteromedial regions, based on the regions with\nthe largest absolute values. Using the signs of the values, we can infer the\nexistence of a dipole source in the central regions of the left hemisphere\nwhich may account for the connectivity contributions seen for the left\nposteromedial and frontolateral areas (represented on the plot as a green\nline).\n\n"
      ]
    },
    {
      "cell_type": "code",
      "execution_count": null,
      "metadata": {
        "collapsed": false
      },
      "outputs": [],
      "source": [
        "# compute average of patterns in desired frequency range\nfband = [13, 18]\nfband_idx = [mic.freqs.index(freq) for freq in fband]\n\n# patterns have shape [seeds/targets x cons x channels x freqs (x times)]\npatterns = np.array(mic.attrs[\"patterns\"])\nseed_pattern = patterns[0]\ntarget_pattern = patterns[1]\n# average across frequencies\nseed_pattern = np.mean(seed_pattern[0, :, fband_idx[0]:fband_idx[1] + 1],\n                       axis=1)\ntarget_pattern = np.mean(target_pattern[0, :, fband_idx[0]:fband_idx[1] + 1],\n                         axis=1)\n\n# store the patterns for plotting\nseed_info = epochs.copy().pick(seed_names).info\ntarget_info = epochs.copy().pick(target_names).info\nseed_pattern = EvokedArray(seed_pattern[:, np.newaxis], seed_info)\ntarget_pattern = EvokedArray(target_pattern[:, np.newaxis], target_info)\n\n# plot the patterns\nfig, axes = plt.subplots(1, 4)\nseed_pattern.plot_topomap(\n    times=0, sensors='m.', units=dict(mag='A.U.'), cbar_fmt='%.1E',\n    axes=axes[0:2], time_format='', show=False)\ntarget_pattern.plot_topomap(\n    times=0, sensors='m.', units=dict(mag='A.U.'), cbar_fmt='%.1E',\n    axes=axes[2:], time_format='', show=False)\naxes[0].set_position((0.1, 0.1, 0.35, 0.7))\naxes[1].set_position((0.4, 0.3, 0.02, 0.3))\naxes[2].set_position((0.5, 0.1, 0.35, 0.7))\naxes[3].set_position((0.9, 0.3, 0.02, 0.3))\naxes[0].set_title('Seed spatial pattern\\n13-18 Hz')\naxes[2].set_title('Target spatial pattern\\n13-18 Hz')\n\n# plot the left hemisphere dipole example\naxes[0].plot(\n    [-0.1, -0.05], [-0.075, -0.03], color='lime', linewidth=2,\n    path_effects=[pe.Stroke(linewidth=4, foreground='k'), pe.Normal()])\n\nplt.show()"
      ]
    },
    {
      "cell_type": "markdown",
      "metadata": {},
      "source": [
        "## Multivariate interaction measure (MIM)\n\nAlthough it can be useful to analyse the single, largest connectivity\ncomponent with MIC, multiple such components exist and can be examined with\nMIM. MIM can be thought of as an average of all connectivity components\nbetween the seeds and targets, and can be useful for an exploration of all\navailable components. It is unnecessary to use the spatial filters of each\ncomponent explicitly, and instead the desired result can be achieved from\n$E$ alone (Eq. 14 of :footcite:`EwaldEtAl2012`):\n\n$MIM=tr(\\boldsymbol{EE}^T)$,\n\nwhere again the frequency dependence is omitted. Unlike MIC, MIM is\npositive-valued and can be > 1. Without normalisation, MIM can be\nthought of as reflecting the total interaction between the seeds and targets.\nMIM can be normalised to lie in the range $[0, 1]$ by dividing the\nscores by the number of unique channels in the seeds and targets. Normalised\nMIM represents the interaction *per channel*, which can be biased by factors\nsuch as the presence of channels with little to no interaction. In line with\nthe preferences of the method's authors :footcite:`EwaldEtAl2012`, since\nnormalisation alters the interpretability of the results, **normalisation is\nnot performed by default**.\n\nHere we see MIM reveal the strongest connectivity component to be around 10\nHz, with the higher frequency 13-18 Hz connectivity no longer being so\nprominent. This suggests that, across all components in the data, there may\nbe more lower frequency connectivity sources than higher frequency sources.\nThus, when combining these different components in MIM, the peak around 10 Hz\nremains, but the 13-18 Hz connectivity is diminished relative to the single,\nlargest connectivity component of MIC.\n\nLooking at the values for normalised MIM, we see it has a maximum of ~0.1.\nThe relatively small connectivity values thus indicate that many of the\nchannels show little to no interaction.\n\n"
      ]
    },
    {
      "cell_type": "code",
      "execution_count": null,
      "metadata": {
        "collapsed": false
      },
      "outputs": [],
      "source": [
        "fig, axis = plt.subplots(1, 1)\naxis.plot(mim.freqs, mim.get_data()[0], linewidth=2)\naxis.set_xlabel('Frequency (Hz)')\naxis.set_ylabel('Absolute connectivity (A.U.)')\nfig.suptitle('Multivariate interaction measure')\n\nn_channels = len(np.unique([*multivar_indices[0], *multivar_indices[1]]))\nnormalised_mim = mim.get_data()[0] / n_channels\nprint(f'Normalised MIM has a maximum value of {normalised_mim.max():.2f}')"
      ]
    },
    {
      "cell_type": "markdown",
      "metadata": {},
      "source": [
        "Additionally, the instance where the seeds and targets are identical can be\nconsidered as a special case of MIM: the global interaction measure (GIM; Eq.\n15 of :footcite:`EwaldEtAl2012`). Again, this allows connectivity within a\nsingle set of signals to be estimated. Computing GIM follows from Eq. 14,\nhowever since each interaction is considered twice, correcting the\nconnectivity by a factor of $\\frac{1}{2}$ is necessary (**the\ncorrection is performed automatically in this implementation**). Like MIM,\nGIM can also be > 1, but it can again be normalised to lie in the range\n$[0, 1]$ by dividing by the number of unique channels in the seeds and\ntargets. However, since normalisation alters the interpretability of the\nresults (i.e. interaction per channel for normalised GIM vs. total\ninteraction for standard GIM), **GIM is not normalised by default**.\n\nWith GIM, we find a broad connectivity peak around 10 Hz, with an additional\npeak around 20 Hz. The differences observed with GIM highlight the presence\nof interactions within each hemisphere that are absent for MIC or MIM.\nFurthermore, the values for normalised GIM are higher than for MIM, with a\nmaximum of ~0.2, again indicating the presence of interactions across\nchannels within each hemisphere.\n\n"
      ]
    },
    {
      "cell_type": "code",
      "execution_count": null,
      "metadata": {
        "collapsed": false
      },
      "outputs": [],
      "source": [
        "indices = (np.array([*seeds, *targets]), np.array([*seeds, *targets]))\ngim = spectral_connectivity_epochs(\n    epochs, method='mim', indices=indices, fmin=5, fmax=30, rank=None,\n    verbose=False)\n\nfig, axis = plt.subplots(1, 1)\naxis.plot(gim.freqs, gim.get_data()[0], linewidth=2)\naxis.set_xlabel('Frequency (Hz)')\naxis.set_ylabel('Connectivity (A.U.)')\nfig.suptitle('Global interaction measure')\n\nn_channels = len(np.unique([*indices[0], *indices[1]]))\nnormalised_gim = gim.get_data()[0] / n_channels\nprint(f'Normalised GIM has a maximum value of {normalised_gim.max():.2f}')"
      ]
    },
    {
      "cell_type": "markdown",
      "metadata": {},
      "source": [
        "## Handling high-dimensional data\n\nAn important issue to consider when using these multivariate methods is\noverfitting, which risks biasing connectivity estimates to maximise noise in\nthe data. This risk can be reduced by performing a preliminary dimensionality\nreduction prior to estimating the connectivity with a singular value\ndecomposition (Eqs. 32 & 33 of :footcite:`EwaldEtAl2012`). The degree of this\ndimensionality reduction can be specified using the ``rank`` argument, which\nby default will not perform any dimensionality reduction (assuming your data\nis full rank; see below if not). Choosing an expected rank of the data\nrequires *a priori* knowledge about the number of components you expect to\nobserve in the data.\n\nWhen comparing MIC/MIM scores across recordings, **it is highly recommended\nto estimate connectivity from the same number of channels (or equally from\nthe same degree of rank subspace projection)** to avoid biases in\nconnectivity estimates. Bias can be avoided by specifying a consistent rank\nsubspace to project to using the ``rank`` argument, standardising your\nconnectivity estimates regardless of changes in e.g. the number of channels\nacross recordings. Note that this does not refer to the number of seeds and\ntargets *within* a connection being identical, rather to the number of seeds\nand targets *across* connections.\n\nHere, we will project our seed and target data to only the first 25\ncomponents of our rank subspace. Results for MIM show that the general\nspectral pattern of connectivity is retained in the rank subspace-projected\ndata, suggesting that a fair degree of redundant connectivity information is\ncontained in the remaining 50 components of the seed and target data. We also\nassert that the spatial patterns of MIC are returned in the original sensor\nspace despite this rank subspace projection, being reconstructed using the\nproducts of the singular value decomposition (Eqs. 46 & 47 of\n:footcite:`EwaldEtAl2012`).\n\n"
      ]
    },
    {
      "cell_type": "code",
      "execution_count": null,
      "metadata": {
        "collapsed": false
      },
      "outputs": [],
      "source": [
        "(mic_red, mim_red) = spectral_connectivity_epochs(\n    epochs, method=['mic', 'mim'], indices=multivar_indices, fmin=5, fmax=30,\n    rank=([25], [25]))\n\n# subtract mean of scores for comparison\nmim_red_meansub = mim_red.get_data()[0] - mim_red.get_data()[0].mean()\nmim_meansub = mim.get_data()[0] - mim.get_data()[0].mean()\n\n# compare standard and rank subspace-projected MIM\nfig, axis = plt.subplots(1, 1)\naxis.plot(mim_red.freqs, mim_red_meansub, linewidth=2,\n          label='rank subspace (25) MIM')\naxis.plot(mim.freqs, mim_meansub, linewidth=2, label='standard MIM')\naxis.set_xlabel('Frequency (Hz)')\naxis.set_ylabel('Mean-corrected connectivity (A.U.)')\naxis.legend()\nfig.suptitle('Multivariate interaction measure (non-normalised)')\n\n# no. channels equal with and without projecting to rank subspace for patterns\nassert (patterns[0, 0].shape[0] ==\n        np.array(mic_red.attrs[\"patterns\"])[0, 0].shape[0])\nassert (patterns[1, 0].shape[0] ==\n        np.array(mic_red.attrs[\"patterns\"])[1, 0].shape[0])"
      ]
    },
    {
      "cell_type": "markdown",
      "metadata": {},
      "source": [
        "In the case that your data is not full rank and ``rank`` is left as ``None``,\nan automatic rank computation is performed and an appropriate degree of\ndimensionality reduction will be enforced. The rank of the data is determined\nby computing the singular values of the data and finding those within a\nfactor of $1e^{-10}$ relative to the largest singular value.\n\nIn some circumstances, this threshold may be too lenient, in which case you\nshould inspect the singular values of your data to identify an appropriate\ndegree of dimensionality reduction to perform, which you can then specify\nmanually using the ``rank`` argument. The code below shows one possible\napproach for finding an appropriate rank of close-to-singular data with a\nmore conservative threshold of $1e^{-5}$.\n\n"
      ]
    },
    {
      "cell_type": "code",
      "execution_count": null,
      "metadata": {
        "collapsed": false
      },
      "outputs": [],
      "source": [
        "# gets the singular values of the data\ns = np.linalg.svd(raw.get_data(), compute_uv=False)\n# finds how many singular values are \"close\" to the largest singular value\nrank = np.count_nonzero(s >= s[0] * 1e-5)  # 1e-5 is the \"closeness\" criteria"
      ]
    },
    {
      "cell_type": "markdown",
      "metadata": {},
      "source": [
        "## Limitations\n\nThese multivariate methods offer many benefits in the form of dimensionality\nreduction, signal-to-noise ratio improvements, and invariance to\nestimate-biasing source mixing; however, no method is perfect. The immunity\nof the imaginary part of coherency to volume conduction comes from the fact\nthat these artefacts have zero phase lag, and hence a zero-valued imaginary\ncomponent. By projecting the complex-valued coherency to the imaginary axis,\nsignals of a given magnitude with phase lag differences close to 90\u00b0 or 270\u00b0\nsee their contributions to the connectivity estimate increased relative to\ncomparable signals with phase lag differences close to 0\u00b0 or 180\u00b0. Therefore,\nthe imaginary part of coherency is biased towards connectivity involving 90\u00b0\nand 270\u00b0 phase lag difference components.\n\nWhilst this is not a limitation specific to the multivariate extension of\nthis measure, these multivariate methods can introduce further bias: when\nmaximising the imaginary part of coherency, components with phase lag\ndifferences close to 90\u00b0 and 270\u00b0 will likely give higher connectivity\nestimates, and so may be prioritised by the spatial filters.\n\nSuch a limitation should be kept in mind when estimating connectivity using\nthese methods. Possible sanity checks can involve comparing the spectral\nprofiles of MIC/MIM to coherence and the imaginary part of coherency\ncomputed on the same data, as well as comparing to other multivariate\nmeasures, such as canonical coherence :footcite:`VidaurreEtAl2019`.\n\n"
      ]
    },
    {
      "cell_type": "markdown",
      "metadata": {},
      "source": [
        "## References\n.. footbibliography::\n\n"
      ]
    }
  ],
  "metadata": {
    "kernelspec": {
      "display_name": "Python 3",
      "language": "python",
      "name": "python3"
    },
    "language_info": {
      "codemirror_mode": {
        "name": "ipython",
        "version": 3
      },
      "file_extension": ".py",
      "mimetype": "text/x-python",
      "name": "python",
      "nbconvert_exporter": "python",
      "pygments_lexer": "ipython3",
      "version": "3.10.12"
    }
  },
  "nbformat": 4,
  "nbformat_minor": 0
}