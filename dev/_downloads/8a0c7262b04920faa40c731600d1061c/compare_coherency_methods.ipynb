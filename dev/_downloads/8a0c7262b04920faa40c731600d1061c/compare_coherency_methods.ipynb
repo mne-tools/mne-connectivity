{
  "cells": [
    {
      "cell_type": "markdown",
      "metadata": {},
      "source": [
        "\n\n# Comparison of coherency-based methods\n\nThis example demonstrates the distinct forms of information captured by\ncoherency-based connectivity methods, and highlights the scenarios in which\nthese different methods should be applied.\n"
      ]
    },
    {
      "cell_type": "code",
      "execution_count": null,
      "metadata": {
        "collapsed": false
      },
      "outputs": [],
      "source": [
        "# Authors: Thomas S. Binns <t.s.binns@outlook.com>\n#          Mohammad Orabe <orabe.mhd@gmail.com>\n# License: BSD (3-clause)"
      ]
    },
    {
      "cell_type": "code",
      "execution_count": null,
      "metadata": {
        "collapsed": false
      },
      "outputs": [],
      "source": [
        "import numpy as np\nfrom matplotlib import pyplot as plt\n\nfrom mne_connectivity import (\n    make_signals_in_freq_bands,\n    seed_target_indices,\n    spectral_connectivity_epochs,\n)"
      ]
    },
    {
      "cell_type": "markdown",
      "metadata": {},
      "source": [
        "## An introduction to coherency-based connectivity methods\n\nMNE-Connectivity supports several methods based on coherency. These are:\n\n- coherency (Cohy)\n- coherence (Coh; absolute coherency)\n- imaginary part of coherency (ImCoh)\n- canonical coherency (CaCoh)\n- maximised imaginary part of coherency (MIC)\n- multivariate interaction measure (MIM)\n\n|\n\nAll of these methods centre on Cohy, a complex-valued estimate of the\ncorrelation between signals in the frequency domain. It is an undirected\nmeasure of connectivity, being invariant to the direction of information flow\nbetween signals.\n\nThe common approach for handling these complex-valued coherency scores is to\neither take their absolute values (Coh) or their imaginary values (ImCoh\n:footcite:`NolteEtAl2004`).\n\nIn addition to these traditional bivariate connectivity measures (i.e.\nbetween two signals), advanced multivariate measures (i.e. between groups of\nsignals) have also been developed based on Cohy (CaCoh\n:footcite:`VidaurreEtAl2019`; can take the absolute value for a multivariate\nform of Coh; see :doc:`cacoh`) or ImCoh (MIC & MIM :footcite:`EwaldEtAl2012`;\nsee :doc:`mic_mim`).\n\nDespite their similarities, there are distinct scenarios in which these\ndifferent methods are most appropriate, as we will show in this example.\n\n"
      ]
    },
    {
      "cell_type": "markdown",
      "metadata": {},
      "source": [
        "## Zero and non-zero time-lag interactions\n\nThe key difference between Cohy/Coh and ImCoh is how information about zero\ntime-lag interactions is captured.\n\nWe generally assume that communication within the brain involves some delay\nin the flow of information (i.e. a non-zero time-lag). This reflects the time\ntaken for: the propagation of action potentials along axons; the release of\nneurotransmitters from presynaptic terminals and binding to receptors on\npostsynaptic terminals; etc...\n\nIn contrast, interactions with no delay (i.e. a zero time-lag) are often\nconsidered to reflect non-physiological activity, such as volume conduction\n- the propagation of electrical activity through the brain's conductive\ntissue from a single source to multiple electrodes simultaneously\n:footcite:`NolteEtAl2004`. Such interactions therefore do not reflect\ngenuine, physiological communication between brain regions. Naturally,\nhaving a method that can discard spurious zero time-lag connectivity\nestimates is very desirable.\n\n**Note:** Not all zero time-lag interactions are necessarily\nnon-physiological :footcite:`ViriyopaseEtAl2012`.\n\nTo demonstrate the differences in how Cohy/Coh and ImCoh handle zero time-lag\ninteractions, we simulate two sets of data with:\n\n1. A non-zero time-lag interaction at 10-12 Hz.\n2. A zero time-lag interaction at 23-25 Hz.\n\n"
      ]
    },
    {
      "cell_type": "code",
      "execution_count": null,
      "metadata": {
        "collapsed": false
      },
      "outputs": [],
      "source": [
        "# Generate simulated data\ndata_delay = make_signals_in_freq_bands(\n    n_seeds=3,\n    n_targets=3,\n    freq_band=(10, 12),  # 10-12 Hz interaction\n    connection_delay=2,  # samples; non-zero time-lag\n    rng_seed=42,\n)\n\ndata_no_delay = make_signals_in_freq_bands(\n    n_seeds=3,\n    n_targets=3,\n    freq_band=(23, 25),  # 23-25 Hz interaction\n    connection_delay=0,  # samples; zero time-lag\n    rng_seed=44,\n)\n\n# Combine data into a single object\ndata = data_delay.add_channels([data_no_delay])"
      ]
    },
    {
      "cell_type": "markdown",
      "metadata": {},
      "source": [
        "We compute the connectivity of these simulated signals using CaCoh (a\nmultivariate form of Cohy/Coh) and MIC (a multivariate form of ImCoh).\n\n"
      ]
    },
    {
      "cell_type": "code",
      "execution_count": null,
      "metadata": {
        "collapsed": false
      },
      "outputs": [],
      "source": [
        "# Generate connectivity indices\nseeds = [0, 1, 2, 6, 7, 8]\ntargets = [3, 4, 5, 9, 10, 11]\nbivar_indices = seed_target_indices(seeds, targets)\nmultivar_indices = ([seeds], [targets])\n\n# Compute CaCoh & MIC\n(cacoh, mic) = spectral_connectivity_epochs(\n    data, method=[\"cacoh\", \"mic\"], indices=multivar_indices, sfreq=100, fmin=3, fmax=35\n)"
      ]
    },
    {
      "cell_type": "markdown",
      "metadata": {},
      "source": [
        "As you can see, both CaCoh and MIC capture the non-zero time-lag interaction\nat 10-12 Hz, however only CaCoh captures the zero time-lag interaction at\n23-25 Hz.\n\n"
      ]
    },
    {
      "cell_type": "code",
      "execution_count": null,
      "metadata": {
        "collapsed": false
      },
      "outputs": [],
      "source": [
        "# Plot CaCoh & MIC\nfig, axis = plt.subplots(1, 1)\naxis.plot(cacoh.freqs, np.abs(cacoh.get_data()[0]), linewidth=2, label=\"CaCoh\")\naxis.plot(\n    mic.freqs, np.abs(mic.get_data()[0]), linewidth=2, label=\"MIC\", linestyle=\"--\"\n)\naxis.set_xlabel(\"Frequency (Hz)\")\naxis.set_ylabel(\"Connectivity (A.U.)\")\naxis.annotate(\"Non-zero\\ntime-lag\\ninteraction\", xy=(13.5, 0.85))\naxis.annotate(\"Zero\\ntime-lag\\ninteraction\", xy=(26.5, 0.85))\naxis.legend(loc=\"upper left\")\nfig.suptitle(\"CaCoh vs. MIC\\nNon-zero & zero time-lags\")"
      ]
    },
    {
      "cell_type": "code",
      "execution_count": null,
      "metadata": {
        "collapsed": false
      },
      "outputs": [],
      "source": [
        "def plot_connectivity_circle():\n    \"\"\"Plot a circle with radius 1, real and imag. axes, and angles marked.\"\"\"\n    fig, axis = plt.subplots(1, 1)\n    t = np.linspace(0, 2 * np.pi, 100)\n    axis.plot(np.cos(t), np.sin(t), color=\"k\", linewidth=0.1)\n    axis.plot([-1, 1], [0, 0], color=\"k\", linestyle=\"--\")\n    axis.plot([0, 0], [-1, 1], color=\"k\", linestyle=\"--\")\n    axis.axis(\"off\")\n\n    fontdict = {\"fontsize\": 10}\n    qpi = np.pi / 4\n    axis.text(1, 0, \" 0\u00b0\", ha=\"left\", va=\"center\", fontdict=fontdict)\n    axis.text(np.pi / 4, np.pi / 4, \"45\u00b0\", ha=\"center\", va=\"center\", fontdict=fontdict)\n    axis.text(0, 1, \"90\u00b0\", ha=\"center\", va=\"bottom\", fontdict=fontdict)\n    axis.text(-qpi, qpi, \"135\u00b0\", ha=\"center\", va=\"center\", fontdict=fontdict)\n    axis.text(-1, 0, \"180\u00b0\", ha=\"right\", va=\"center\", fontdict=fontdict)\n    axis.text(-qpi, -qpi, \"-135\u00b0\", ha=\"center\", va=\"center\", fontdict=fontdict)\n    axis.text(0, -1, \"-90\u00b0\", ha=\"center\", va=\"top\", fontdict=fontdict)\n    axis.text(qpi, -qpi, \"-45\u00b0\", ha=\"center\", va=\"center\", fontdict=fontdict)\n\n    fontdict = {\"fontsize\": 12}\n    axis.text(1.15, 0, \" Real\", ha=\"left\", va=\"center\", fontdict=fontdict)\n    axis.text(0, 1.15, \"Imaginary\", ha=\"center\", va=\"bottom\", fontdict=fontdict)\n    axis.text(0, 0, \"0 \", ha=\"right\", va=\"top\", fontdict=fontdict)\n    axis.text(-1, 0, \"-1\", ha=\"left\", va=\"top\", fontdict=fontdict)\n    axis.text(1, 0, \"+1\", ha=\"right\", va=\"top\", fontdict=fontdict)\n    axis.text(0, -1, \"-1 \", ha=\"right\", va=\"bottom\", fontdict=fontdict)\n    axis.text(0, 1, \"+1 \", ha=\"right\", va=\"top\", fontdict=fontdict)\n\n    axis.set_aspect(\"equal\")\n\n    return fig, axis"
      ]
    },
    {
      "cell_type": "markdown",
      "metadata": {},
      "source": [
        "The different interactions (not) captured by CaCoh and MIC can be understood\nby visualising the complex values of the interactions.\n\n"
      ]
    },
    {
      "cell_type": "code",
      "execution_count": null,
      "metadata": {
        "collapsed": false
      },
      "outputs": [],
      "source": [
        "# Get complex connectivity values at frequency bands\nfreqs = cacoh.freqs\ncacoh_10_12 = np.mean(cacoh.get_data()[0, freqs.index(10) : freqs.index(12) + 1])\ncacoh_23_25 = np.mean(cacoh.get_data()[0, freqs.index(23) : freqs.index(25) + 1])\n\n# Plot complex connectivity values\nfig, axis = plot_connectivity_circle()\naxis.quiver(\n    0,\n    0,\n    np.real(cacoh_10_12),\n    np.imag(cacoh_10_12),\n    units=\"xy\",\n    scale=1,\n    linewidth=2,\n    color=\"C2\",\n    label=\"10-12 Hz\",\n)\naxis.quiver(\n    0,\n    0,\n    np.real(cacoh_23_25),\n    np.imag(cacoh_23_25),\n    units=\"xy\",\n    scale=1,\n    linewidth=2,\n    color=\"C3\",\n    label=\"23-25 Hz\",\n    zorder=99,\n)\naxis.legend(loc=\"upper right\", bbox_to_anchor=[1.1, 1.1])"
      ]
    },
    {
      "cell_type": "markdown",
      "metadata": {},
      "source": [
        "Above, we plot the complex-valued CaCoh scores for the 10-12 Hz and 23-25 Hz\ninteractions as vectors with origin $(0, 0)$ bound within a circle of\nradius 1 (reflecting the fact that coherency scores span the set of complex\nvalues in the range $[-1, 1]$).\n\nThe circumference of the circle spans the range $(-\\pi, \\pi]$. The real\naxis corresponds to vectors with angles of 0\u00b0 ($0\\pi$; positive\nvalues) or 180\u00b0 ($\\pi$; negative values). The imaginary axis\ncorresponds to vectors with angles of 90\u00b0 ($\\frac{1}{2}\\pi$; positive\nvalues) or -90\u00b0 ($-\\frac{1}{2}\\pi$; negative values).\n\nZero time-lag interactions have angles of 0\u00b0 and 180\u00b0 (i.e. no phase\ndifference), corresponding to a non-zero real component, but a zero-valued\nimaginary component. We see this nicely for the 23-25 Hz interaction, which\nhas an angle of ~0\u00b0. Taking the absolute CaCoh value shows us the magnitude\nof this interaction to be ~0.9. However, first projecting this information to\nthe imaginary axis gives us a magnitude of ~0.\n\nIn contrast, non-zero time-lag interactions do not lie on the real axis (i.e.\na phase difference), corresponding to non-zero real and imaginary components.\nWe see this nicely for the 10-12 Hz interaction, which has an angle of ~-75\u00b0.\nTaking the absolute CaCoh value shows us the magnitude of this interaction to\nbe ~0.9, which is also seen when first projecting this information to the\nimaginary axis.\n\nThis distinction is why connectivity methods utilising information from both\nreal and imaginary components (Cohy, Coh, CaCoh) capture both zero and\nnon-zero time-lag interactions, whereas methods using only the imaginary\ncomponent (ImCoh, MIC, MIM) capture only non-zero time-lag interactions.\n\nThe ability to capture these different interactions is not a feature specific\nto multivariate connectivity methods, as shown below for the bivariate\nmethods Coh and ImCoh.\n\n"
      ]
    },
    {
      "cell_type": "code",
      "execution_count": null,
      "metadata": {
        "collapsed": false
      },
      "outputs": [],
      "source": [
        "# Compute Coh & ImCoh\n(coh, imcoh) = spectral_connectivity_epochs(\n    data, method=[\"coh\", \"imcoh\"], indices=bivar_indices, sfreq=100, fmin=3, fmax=35\n)\n\ncoh_mean = np.mean(coh.get_data(), axis=0)\nimcoh_mean = np.mean(np.abs(imcoh.get_data()), axis=0)\n\ncoh_mean_subbed = coh_mean - np.mean(coh_mean)\nimcoh_mean_subbed = imcoh_mean - np.mean(imcoh_mean)\n\n# Plot Coh & ImCoh\nfig, axis = plt.subplots(1, 1)\naxis.plot(coh.freqs, coh_mean_subbed, linewidth=2, label=\"Coh\")\naxis.plot(imcoh.freqs, imcoh_mean_subbed, linewidth=2, label=\"ImCoh\", linestyle=\"--\")\naxis.set_xlabel(\"Frequency (Hz)\")\naxis.set_ylabel(\"Mean-corrected connectivity (A.U.)\")\naxis.annotate(\"Non-zero\\ntime-lag\\ninteraction\", xy=(13, 0.25))\naxis.annotate(\"Zero\\ntime-lag\\ninteraction\", xy=(25, 0.25))\naxis.legend(loc=\"upper left\")\nfig.suptitle(\"Coh vs. ImCoh\\nNon-zero & zero time-lags\")"
      ]
    },
    {
      "cell_type": "markdown",
      "metadata": {},
      "source": [
        "## When different coherency-based methods are most appropriate\n\nWith this information, we can define situations under which these different\napproaches are most appropriate.\n\n|\n\n**In situations where non-physiological zero time-lag interactions are\nassumed, methods based on only the imaginary part of coherency (ImCoh, MIC,\nMIM) should be used.** Examples of situations include:\n\n- Connectivity between channels of a single modality.\n- Connectivity between channels of different modalities where the same\n  reference is used.\n\nNote that this applies not only to sensor-space signals, but also to\nsource-space signals where remnants of these non-physiological interactions\nmay remain even after source reconstruction.\n\n|\n\n**In situations where non-physiological zero time-lag interactions are not\nassumed, methods based on real and imaginary parts of coherency (Cohy, Coh,\nCaCoh) should be used.** An example includes:\n\n- Connectivity between channels of different modalities where different\n  references are used.\n\n|\n\nEqually, when there are no non-physiological zero time-lag interactions, one\nshould not use methods based on only the imaginary part of coherency. There\nare two key reasons:\n\n**1. Discarding physiological zero time-lag interactions**\n\nFirst, not all zero time-lag interactions are non-physiological\n:footcite:`ViriyopaseEtAl2012`. Accordingly, methods based on only the\nimaginary part of coherency may lead to information about genuine\nconnectivity being lost.\n\nIn situations where non-physiological zero time-lag interactions are present,\nthe potential loss of physiological information is generally acceptable to\navoid spurious connectivity estimates. However, unnecessarily discarding this\ninformation can of course be detrimental.\n\n**2. Biasing interactions based on the angle of interaction**\n\nDepending on their angles, two non-zero time-lag interactions may have the\nsame magnitude in the complex plane, but different magnitudes when projected\nto the imaginary axis.\n\nThis is demonstrated below, where we simulate 2 interactions with non-zero\ntime-lags at 10-12 Hz and 23-25 Hz. Computing the connectivity, we see how\nboth interactions have a similar magnitude (~0.9), but different angles\n(~-45\u00b0 for 10-12 Hz; ~-90\u00b0 for 23-25 Hz).\n\n"
      ]
    },
    {
      "cell_type": "code",
      "execution_count": null,
      "metadata": {
        "collapsed": false
      },
      "outputs": [],
      "source": [
        "# Generate simulated data\ndata_10_12 = make_signals_in_freq_bands(\n    n_seeds=3,\n    n_targets=3,\n    freq_band=(10, 12),  # 10-12 Hz interaction\n    connection_delay=1,  # samples\n    rng_seed=40,\n)\n\ndata_23_25 = make_signals_in_freq_bands(\n    n_seeds=3,\n    n_targets=3,\n    freq_band=(23, 25),  # 23-25 Hz interaction\n    connection_delay=1,  # samples\n    rng_seed=42,\n)\n\n# Combine data into a single array\ndata = data_10_12.add_channels([data_23_25])\n\n# Compute CaCoh & MIC\n(cacoh, mic) = spectral_connectivity_epochs(\n    data, method=[\"cacoh\", \"mic\"], indices=multivar_indices, sfreq=100, fmin=3, fmax=35\n)\n\n# Get complex connectivity values at frequency bands\nfreqs = cacoh.freqs\ncacoh_10_12 = np.mean(cacoh.get_data()[0, freqs.index(10) : freqs.index(12) + 1])\ncacoh_23_25 = np.mean(cacoh.get_data()[0, freqs.index(23) : freqs.index(25) + 1])\n\n# Plot complex connectivity values\nfig, axis = plot_connectivity_circle()\naxis.quiver(\n    0,\n    0,\n    np.real(cacoh_10_12),\n    np.imag(cacoh_10_12),\n    units=\"xy\",\n    scale=1,\n    linewidth=2,\n    color=\"C2\",\n    label=\"10-12 Hz\",\n)\naxis.quiver(\n    0,\n    0,\n    np.real(cacoh_23_25),\n    np.imag(cacoh_23_25),\n    units=\"xy\",\n    scale=1,\n    linewidth=2,\n    color=\"C3\",\n    label=\"23-25 Hz\",\n    zorder=99,\n)\naxis.legend(loc=\"upper right\", bbox_to_anchor=[1.1, 1.1])"
      ]
    },
    {
      "cell_type": "markdown",
      "metadata": {},
      "source": [
        "Plotting the connectivity values for CaCoh and MIC, we see how the 10-12 Hz\nand 23-25 Hz interactions have a similar magnitude for CaCoh, whereas the MIC\nscores for the 10-12 Hz interaction are lower than for the 23-25 Hz\ninteraction.\n\nThis difference reflects the fact that as the angle of interaction deviates\nfrom $\\pm$ 90\u00b0, less information will be represented in the imaginary\npart of coherency. Accordingly, considering only the imaginary part of\ncoherency can bias connectivity estimates based on the angle of interaction.\n\n"
      ]
    },
    {
      "cell_type": "code",
      "execution_count": null,
      "metadata": {
        "collapsed": false
      },
      "outputs": [],
      "source": [
        "# Plot CaCoh & MIC\nfig, axis = plt.subplots(1, 1)\naxis.plot(cacoh.freqs, np.abs(cacoh.get_data()[0]), linewidth=2, label=\"CaCoh\")\naxis.plot(\n    mic.freqs, np.abs(mic.get_data()[0]), linewidth=2, label=\"MIC\", linestyle=\"--\"\n)\naxis.set_xlabel(\"Frequency (Hz)\")\naxis.set_ylabel(\"Connectivity (A.U.)\")\naxis.annotate(\"$\\\\pm$45\u00b0\\ninteraction\", xy=(12.5, 0.9))\naxis.annotate(\"$\\\\pm$90\u00b0\\ninteraction\", xy=(26.5, 0.9))\naxis.legend(loc=\"upper left\")\nfig.suptitle(\"CaCoh vs. MIC\\n$\\\\pm$45\u00b0 & $\\\\pm$90\u00b0 interactions\")"
      ]
    },
    {
      "cell_type": "markdown",
      "metadata": {},
      "source": [
        "In situations where non-physiological zero time-lag interactions are present,\nthis phase angle-dependent bias is generally acceptable to avoid spurious\nconnectivity estimates. However in situations where non-physiological zero\ntime-lag interactions are not present, such a bias is clearly problematic.\n\n|\n\nAgain, these considerations are not specific to multivariate methods, as\nshown below with Coh and ImCoh.\n\n"
      ]
    },
    {
      "cell_type": "code",
      "execution_count": null,
      "metadata": {
        "collapsed": false
      },
      "outputs": [],
      "source": [
        "# Compute Coh & ImCoh\n(coh, imcoh) = spectral_connectivity_epochs(\n    data, method=[\"coh\", \"imcoh\"], indices=bivar_indices, sfreq=100, fmin=3, fmax=35\n)\n\ncoh_mean = np.mean(coh.get_data(), axis=0)\nimcoh_mean = np.mean(np.abs(imcoh.get_data()), axis=0)\n\ncoh_mean_subbed = coh_mean - np.mean(coh_mean)\nimcoh_mean_subbed = imcoh_mean - np.mean(imcoh_mean)\n\n# Plot Coh & ImCoh\nfig, axis = plt.subplots(1, 1)\naxis.plot(coh.freqs, coh_mean_subbed, linewidth=2, label=\"Coh\")\naxis.plot(imcoh.freqs, imcoh_mean_subbed, linewidth=2, label=\"ImCoh\", linestyle=\"--\")\naxis.set_xlabel(\"Frequency (Hz)\")\naxis.set_ylabel(\"Mean-corrected connectivity (A.U.)\")\naxis.annotate(\"$\\\\pm$45\u00b0\\ninteraction\", xy=(13, 0.25))\naxis.annotate(\"$\\\\pm$90\u00b0\\ninteraction\", xy=(26.5, 0.25))\naxis.legend(loc=\"upper left\")\nfig.suptitle(\"Coh vs. ImCoh\\n$\\\\pm$45\u00b0 & $\\\\pm$90\u00b0 interactions\")"
      ]
    },
    {
      "cell_type": "markdown",
      "metadata": {},
      "source": [
        "## Bivariate vs. multivariate coherency methods\n\nAs we have seen, coherency-based methods can be bivariate (Cohy, Coh, ImCoh)\nand multivariate (CaCoh, MIC, MIM). Whilst both forms capture the same\ninformation, there are several benefits to using multivariate methods when\ninvestigating connectivity between many signals.\n\nThe multivariate methods can be used to capture the most relevant\ninteractions between two groups of signals, representing this information in\nthe component, rather than signal space.\n\nThe dimensionality reduction associated with these methods offers: a much\neasier interpretation of the results; a higher signal-to-noise ratio compared\nto e.g. averaging bivariate connectivity estimates across multiple pairs of\nsignals; and even reduced bias in what information is captured\n:footcite:`EwaldEtAl2012`.\n\nFurthermore, despite the dimensionality reduction of multivariate methods it\nis still possible to investigate the topographies of connectivity, with\nspatial patterns of connectivity being returned alongside the connectivity\nvalues themselves :footcite:`HaufeEtAl2014`.\n\nMore information about the multivariate coherency-based methods can be found\nin the following examples:\n\n- CaCoh - :doc:`cacoh`\n- MIC & MIM - :doc:`mic_mim`\n\n"
      ]
    },
    {
      "cell_type": "markdown",
      "metadata": {},
      "source": [
        "## Alternative approaches to computing connectivity\n\nCoherency-based methods are only some of the many approaches available in\nMNE-Connectivity for studying interactions between signals. Other\nnon-directed measures include those based on the phase-lag index\n:footcite:`StamEtAl2007,VinckEtAl2011` (see also :doc:`dpli_wpli_pli`) and\nphase locking value :footcite:`LachauxEtAl1999,BrunaEtAl2018`.\n\nFurthermore, directed measures of connectivity which determine the direction\nof information flow are also available, including a variant of the phase-lag\nindex :footcite:`StamEtAl2012` (see also :doc:`dpli_wpli_pli`), the phase\nslope index :footcite:`NolteEtAl2008` (see also\n:func:`mne_connectivity.phase_slope_index`), and Granger causality\n:footcite:`BarnettSeth2015,WinklerEtAl2016` (see also\n:doc:`granger_causality`).\n\n"
      ]
    },
    {
      "cell_type": "markdown",
      "metadata": {},
      "source": [
        "## Conclusion\n\nAltogether, there are clear scenarios in which different coherency-based\nmethods are appropriate.\n\nMethods based on the imaginary part of coherency alone (ImCoh, MIC, MIM)\nshould be used when non-physiological zero time-lag interactions are present.\n\nIn contrast, methods based on the real and imaginary parts of coherency\n(Cohy, Coh, CaCoh) should be used when non-physiological zero time-lag\ninteractions are absent.\n\n"
      ]
    },
    {
      "cell_type": "markdown",
      "metadata": {},
      "source": [
        "## References\n.. footbibliography::\n\n"
      ]
    }
  ],
  "metadata": {
    "kernelspec": {
      "display_name": "Python 3",
      "language": "python",
      "name": "python3"
    },
    "language_info": {
      "codemirror_mode": {
        "name": "ipython",
        "version": 3
      },
      "file_extension": ".py",
      "mimetype": "text/x-python",
      "name": "python",
      "nbconvert_exporter": "python",
      "pygments_lexer": "ipython3",
      "version": "3.10.12"
    }
  },
  "nbformat": 4,
  "nbformat_minor": 0
}