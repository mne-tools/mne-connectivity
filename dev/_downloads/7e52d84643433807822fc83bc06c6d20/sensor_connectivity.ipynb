{
  "cells": [
    {
      "cell_type": "markdown",
      "metadata": {},
      "source": [
        "\n# Compute all-to-all connectivity in sensor space\n\nComputes the Phase Lag Index (PLI) between all gradiometers and shows the\nconnectivity in 3D using the helmet geometry. The left visual stimulation data\nare used which produces strong connectvitiy in the right occipital sensors.\n"
      ]
    },
    {
      "cell_type": "code",
      "execution_count": null,
      "metadata": {
        "collapsed": false
      },
      "outputs": [],
      "source": [
        "# Author: Martin Luessi <mluessi@nmr.mgh.harvard.edu>\n#\n# License: BSD (3-clause)"
      ]
    },
    {
      "cell_type": "code",
      "execution_count": null,
      "metadata": {
        "collapsed": false
      },
      "outputs": [],
      "source": [
        "import os.path as op\n\nimport mne\nfrom mne.datasets import sample\n\nfrom mne_connectivity import spectral_connectivity_epochs\nfrom mne_connectivity.viz import plot_sensors_connectivity\n\nprint(__doc__)"
      ]
    },
    {
      "cell_type": "code",
      "execution_count": null,
      "metadata": {
        "collapsed": false
      },
      "outputs": [],
      "source": [
        "# Set parameters\ndata_path = sample.data_path()\nraw_fname = op.join(data_path, \"MEG\", \"sample\", \"sample_audvis_filt-0-40_raw.fif\")\nevent_fname = op.join(data_path, \"MEG\", \"sample\", \"sample_audvis_filt-0-40_raw-eve.fif\")\n\n# Setup for reading the raw data\nraw = mne.io.read_raw_fif(raw_fname)\nevents = mne.read_events(event_fname)\n\n# Add a bad channel\nraw.info[\"bads\"] += [\"MEG 2443\"]\n\n# Pick MEG gradiometers\npicks = mne.pick_types(\n    raw.info, meg=\"grad\", eeg=False, stim=False, eog=True, exclude=\"bads\"\n)\n\n# Create epochs for the visual condition\nevent_id, tmin, tmax = 3, -0.2, 1.5  # want a long enough epoch for 5 cycles\nepochs = mne.Epochs(\n    raw,\n    events,\n    event_id,\n    tmin,\n    tmax,\n    picks=picks,\n    baseline=(None, 0),\n    reject=dict(grad=4000e-13, eog=150e-6),\n)\nepochs.load_data().pick(\"grad\")  # just keep MEG and no EOG now\n\n# Compute Fourier coefficients for the epochs (returns an EpochsSpectrum object)\n# (storing Fourier coefficients in EpochsSpectrum objects requires MNE >= 1.8)\ntmin = 0.0  # exclude the baseline period\nspectrum = epochs.compute_psd(method=\"multitaper\", tmin=tmin, output=\"complex\")\n\n# Compute connectivity for the frequency band containing the evoked response\n# (passing EpochsSpectrum objects as data requires MNE-Connectivity >= 0.8)\nfmin, fmax = 4.0, 9.0\ncon = spectral_connectivity_epochs(\n    data=spectrum, method=\"pli\", fmin=fmin, fmax=fmax, faverage=True, n_jobs=1\n)\n\n# Now, visualize the connectivity in 3D:\nplot_sensors_connectivity(epochs.info, con.get_data(output=\"dense\")[:, :, 0])"
      ]
    }
  ],
  "metadata": {
    "kernelspec": {
      "display_name": "Python 3",
      "language": "python",
      "name": "python3"
    },
    "language_info": {
      "codemirror_mode": {
        "name": "ipython",
        "version": 3
      },
      "file_extension": ".py",
      "mimetype": "text/x-python",
      "name": "python",
      "nbconvert_exporter": "python",
      "pygments_lexer": "ipython3",
      "version": "3.12.3"
    }
  },
  "nbformat": 4,
  "nbformat_minor": 0
}