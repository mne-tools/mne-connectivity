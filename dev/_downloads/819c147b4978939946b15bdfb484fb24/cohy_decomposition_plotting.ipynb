{
  "cells": [
    {
      "cell_type": "markdown",
      "metadata": {},
      "source": [
        "\n# Visualising spatial contributions to multivariate connectivity\n\nThis example demonstrates how the spatial filters and patterns of connectivity obtained\nfrom the decomposition tools in the decoding module can be visualised and interpreted.\n"
      ]
    },
    {
      "cell_type": "code",
      "execution_count": null,
      "metadata": {
        "collapsed": false
      },
      "outputs": [],
      "source": [
        "# Author: Thomas S. Binns <t.s.binns@outlook.com>\n# License: BSD (3-clause)"
      ]
    },
    {
      "cell_type": "code",
      "execution_count": null,
      "metadata": {
        "collapsed": false
      },
      "outputs": [],
      "source": [
        "import mne\nfrom mne import make_fixed_length_epochs\nfrom mne.datasets.fieldtrip_cmc import data_path\n\nfrom mne_connectivity import CoherencyDecomposition"
      ]
    },
    {
      "cell_type": "markdown",
      "metadata": {},
      "source": [
        "## Background\nMultivariate forms of signal analysis allow you to simultaneously consider the\nactivity of multiple signals. In the case of connectivity, the interaction between\nmultiple sensors can be analysed at once and the strongest components of this\ninteraction captured in a lower-dimensional set of connectivity spectra. This approach\nbrings not only practical benefits (e.g. easier interpretability of results from the\ndimensionality reduction), but can also offer methodological improvements (e.g.\nenhanced signal-to-noise ratio and reduced bias).\n\nCoherency-based methods are popular approaches for analysing connectivity, capturing\ncorrelations between signals in the frequency domain. Various coherency-based\nmultivariate methods exist, including: canonical coherency (CaCoh; multivariate\nmeasure of coherency/coherence) :footcite:`VidaurreEtAl2019`; and maximised imaginary\ncoherency (MIC; multivariate measure of the imaginary part of coherency)\n:footcite:`EwaldEtAl2012`.\n\nThese methods are described in detail in the following examples:\n - comparison of coherency-based methods - :doc:`../compare_coherency_methods`\n - CaCoh - :doc:`../cacoh`\n - MIC - :doc:`../mic_mim`\n\nThe CaCoh and MIC methods work by finding spatial filters that decompose the data into\ncomponents of connectivity, and applying them to the data. Connectivity can then be\ncomputed on this transformed data (see :doc:`cohy_decomposition` for more\ninformation).\n\nHowever, in addition to the connectivity scores, useful insights about the data can be\ngained by visualising the topographies of the spatial filters and their corresponding\nspatial patterns. These provide important information about the spatial distributions\nof connectivity information, and represent two complementary aspects:\n\n- The filters represent how the connectivity sources are extracted from the channel\n  data, akin to an inverse model.\n- The patterns represent how the channel data is formed by the connectivity sources,\n  akin to a forward model.\n\nThis distinction is discussed further in Haufe *et al.* (2014)\n:footcite:`HaufeEtAl2014`, but in short: **the patterns should be used to interpret\nthe contribution of distinct brain regions/sensors to a given component of\nconnectivity**. Accordingly, keep in mind that the filters and patterns are not a\nreplacement for source reconstruction, as without this the patterns will still only\ntell you about the spatial contributions of sensors, not underlying brain regions,\nto connectivity.\n\n"
      ]
    },
    {
      "cell_type": "markdown",
      "metadata": {},
      "source": [
        "## Generating the filters and patterns\nWe will first load some example MEG data collected during a hand movement task, which\nwe will generate the spatial filters and patterns for (see\n[here](https://www.fieldtriptoolbox.org/tutorial/coherence/) for more information on\nthe data). We divide the data into continuous epochs.\n\n"
      ]
    },
    {
      "cell_type": "code",
      "execution_count": null,
      "metadata": {
        "collapsed": false
      },
      "outputs": [],
      "source": [
        "# Load example MEG data\nraw = mne.io.read_raw_ctf(data_path() / \"SubjectCMC.ds\")\nraw.pick(\"mag\")\nraw.crop(50.0, 110.0).load_data()\nraw.notch_filter(50)\nraw.resample(100)\n\n# Create epochs\nepochs = make_fixed_length_epochs(raw, duration=2.0).load_data()"
      ]
    },
    {
      "cell_type": "markdown",
      "metadata": {},
      "source": [
        "We designate the left hemisphere sensors as the seeds and the right hemisphere sensors\nas the targets. Since this is sensor-space data, we will use the MIC method to analyse\nconnectivity, given its resilience to zero time-lag interactions (see\n:doc:`../compare_coherency_methods` for more information).\n\n"
      ]
    },
    {
      "cell_type": "code",
      "execution_count": null,
      "metadata": {
        "collapsed": false
      },
      "outputs": [],
      "source": [
        "# Left hemisphere sensors\nseeds = [idx for idx, ch_info in enumerate(epochs.info[\"chs\"]) if ch_info[\"loc\"][0] < 0]\n\n# Right hemisphere sensors\ntargets = [\n    idx for idx, ch_info in enumerate(epochs.info[\"chs\"]) if ch_info[\"loc\"][0] > 0\n]\n\n# Define indices\nindices = (seeds, targets)"
      ]
    },
    {
      "cell_type": "markdown",
      "metadata": {},
      "source": [
        "To fit the filters (and in turn compute the corresponding patterns), we instantiate\nthe :class:`~mne_connectivity.decoding.CoherencyDecomposition` object and call the\n:meth:`~mne_connectivity.decoding.CoherencyDecomposition.fit` method. We also define\nour connectivity frequency band of interest to be 20-30 Hz. See\n:doc:`cohy_decomposition` for more information.\n\n"
      ]
    },
    {
      "cell_type": "code",
      "execution_count": null,
      "metadata": {
        "collapsed": false
      },
      "outputs": [],
      "source": [
        "# Instantiate decomposition object\nmic = CoherencyDecomposition(\n    info=epochs.info,\n    method=\"mic\",\n    indices=indices,\n    mode=\"multitaper\",\n    fmin=20,\n    fmax=30,\n    rank=(3, 3),\n)\n\n# Fit filters & generate patterns\nmic.fit(epochs.get_data())"
      ]
    },
    {
      "cell_type": "markdown",
      "metadata": {},
      "source": [
        "## Visualising the patterns\nVisualising the patterns as topomaps can be done using the\n:meth:`~mne_connectivity.decoding.CoherencyDecomposition.plot_patterns` method.\n\nWhen interpreting patterns, note that the absolute value reflects the strength of the\ncontribution to connectivity, and that the sign differences can be used to visualise\nthe orientation of the underlying dipole sources. The spatial patterns are **not**\nbound between $[-1, 1]$.\n\nPlotting the patterns for 20-30 Hz connectivity below, we find the strongest\nconnectivity between the left and right hemispheres comes from centromedial left and\nfrontolateral right sensors, based on the areas with the largest absolute values. As\nthese patterns come from decomposition on sensor-space data, we make no assumptions\nabout the underlying brain regions involved in this connectivity.\n\n"
      ]
    },
    {
      "cell_type": "code",
      "execution_count": null,
      "metadata": {
        "collapsed": false
      },
      "outputs": [],
      "source": [
        "# Plot patterns\nmic.plot_patterns(info=epochs.info, sensors=\"m.\", size=2)"
      ]
    },
    {
      "cell_type": "markdown",
      "metadata": {},
      "source": [
        "## Visualising the filters\nWe can also visualise the filters as topomaps using the\n:meth:`~mne_connectivity.decoding.CoherencyDecomposition.plot_filters` method.\n\nHere we see that the filters show a similar topography to the patterns. However, this\nis not always the case, and you should never confuse the information represented by\nthe filters (i.e. an inverse model) and patterns (i.e. a forward model), which can\nlead to very incorrect interpretations of the data :footcite:`HaufeEtAl2014`.\n\n"
      ]
    },
    {
      "cell_type": "code",
      "execution_count": null,
      "metadata": {
        "collapsed": false
      },
      "outputs": [],
      "source": [
        "# Plot filters\nmic.plot_filters(info=epochs.info, sensors=\"m.\", size=2)"
      ]
    },
    {
      "cell_type": "markdown",
      "metadata": {},
      "source": [
        "## References\n.. footbibliography::\n\n"
      ]
    }
  ],
  "metadata": {
    "kernelspec": {
      "display_name": "Python 3",
      "language": "python",
      "name": "python3"
    },
    "language_info": {
      "codemirror_mode": {
        "name": "ipython",
        "version": 3
      },
      "file_extension": ".py",
      "mimetype": "text/x-python",
      "name": "python",
      "nbconvert_exporter": "python",
      "pygments_lexer": "ipython3",
      "version": "3.10.12"
    }
  },
  "nbformat": 4,
  "nbformat_minor": 0
}