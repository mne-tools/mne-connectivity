{
  "cells": [
    {
      "cell_type": "markdown",
      "metadata": {},
      "source": [
        "\n# Compute Phase Slope Index (PSI) in source space for a visual stimulus\n\nThis example demonstrates how the phase slope index (PSI)\n:footcite:`NolteEtAl2008` can be computed\nin source space based on single trial dSPM source estimates. In addition,\nthe example shows advanced usage of the connectivity estimation routines\nby first extracting a label time course for each epoch and then combining\nthe label time course with the single trial source estimates to compute the\nconnectivity.\n\nThe result clearly shows how the activity in the visual label precedes more\nwidespread activity (as a postivive PSI means the label time course is\nleading).\n"
      ]
    },
    {
      "cell_type": "code",
      "execution_count": null,
      "metadata": {
        "collapsed": false
      },
      "outputs": [],
      "source": [
        "# Author: Martin Luessi <mluessi@nmr.mgh.harvard.edu>\n#\n# License: BSD (3-clause)\n\nimport mne\nimport numpy as np\nfrom mne.datasets import sample\nfrom mne.minimum_norm import apply_inverse_epochs, read_inverse_operator\n\nfrom mne_connectivity import phase_slope_index, seed_target_indices\n\nprint(__doc__)\n\ndata_path = sample.data_path()\nsubjects_dir = data_path / \"subjects\"\nfname_inv = data_path / \"MEG/sample/sample_audvis-meg-oct-6-meg-inv.fif\"\nfname_raw = data_path / \"MEG/sample/sample_audvis_filt-0-40_raw.fif\"\nfname_event = data_path / \"MEG/sample/sample_audvis_filt-0-40_raw-eve.fif\"\nfname_label = data_path / \"MEG/sample/labels/Vis-lh.label\"\n\nevent_id, tmin, tmax = 4, -0.2, 0.5\nmethod = \"dSPM\"  # use dSPM method (could also be MNE or sLORETA)\n\n# Load data\ninverse_operator = read_inverse_operator(fname_inv)\nraw = mne.io.read_raw_fif(fname_raw, preload=True)\nevents = mne.read_events(fname_event)\n\n# pick MEG channels\npicks = mne.pick_types(\n    raw.info, meg=True, eeg=False, stim=False, eog=True, exclude=\"bads\"\n)\n\n# Read epochs\nepochs = mne.Epochs(\n    raw,\n    events,\n    event_id,\n    tmin,\n    tmax,\n    picks=picks,\n    baseline=(None, 0),\n    reject=dict(mag=4e-12, grad=4000e-13, eog=150e-6),\n)\n\n# Compute inverse solution and for each epoch. Note that since we are passing\n# the output to both extract_label_time_course and the phase_slope_index\n# functions, we have to use \"return_generator=False\", since it is only possible\n# to iterate over generators once.\nsnr = 1.0  # use lower SNR for single epochs\nlambda2 = 1.0 / snr**2\nstcs = apply_inverse_epochs(\n    epochs, inverse_operator, lambda2, method, pick_ori=\"normal\", return_generator=True\n)\n\n# Now, we generate seed time series by averaging the activity in the left\n# visual corex\nlabel = mne.read_label(fname_label)\nsrc = inverse_operator[\"src\"]  # the source space used\nseed_ts = mne.extract_label_time_course(\n    stcs, label, src, mode=\"mean_flip\", verbose=\"error\"\n)\n\n# Combine the seed time course with the source estimates. There will be a total\n# of 7500 signals:\n# index 0: time course extracted from label\n# index 1..7499: dSPM source space time courses\nstcs = apply_inverse_epochs(\n    epochs, inverse_operator, lambda2, method, pick_ori=\"normal\", return_generator=True\n)\ncomb_ts = list(zip(seed_ts, stcs))\n\n# Construct indices to estimate connectivity between the label time course\n# and all source space time courses\nvertices = [src[i][\"vertno\"] for i in range(2)]\nn_signals_tot = 1 + len(vertices[0]) + len(vertices[1])\n\nindices = seed_target_indices([0], np.arange(1, n_signals_tot))\n\n# Compute the PSI in the frequency range 10Hz-20Hz. We exclude the baseline\n# period from the connectivity estimation.\nfmin = 10.0\nfmax = 20.0\ntmin_con = 0.0\nsfreq = epochs.info[\"sfreq\"]  # the sampling frequency\n\npsi = phase_slope_index(\n    comb_ts,\n    mode=\"multitaper\",\n    indices=indices,\n    sfreq=sfreq,\n    fmin=fmin,\n    fmax=fmax,\n    tmin=tmin_con,\n)\n\n# Generate a SourceEstimate with the PSI. This is simple since we used a single\n# seed (inspect the indices variable to see how the PSI scores are arranged in\n# the output)\npsi_stc = mne.SourceEstimate(\n    psi.get_data(), vertices=vertices, tmin=0, tstep=1, subject=\"sample\"\n)\n\n# Now we can visualize the PSI using the :meth:`~mne.SourceEstimate.plot`\n# method. We use a custom colormap to show signed values\nv_max = np.max(np.abs(psi.get_data()))\nbrain = psi_stc.plot(\n    surface=\"inflated\",\n    hemi=\"lh\",\n    time_label=\"Phase Slope Index (PSI)\",\n    subjects_dir=subjects_dir,\n    clim=dict(kind=\"percent\", pos_lims=(95, 97.5, 100)),\n)\nbrain.show_view(\"medial\")\nbrain.add_label(str(fname_label), color=\"green\", alpha=0.7)"
      ]
    },
    {
      "cell_type": "markdown",
      "metadata": {},
      "source": [
        "## References\n.. footbibliography::\n\n"
      ]
    }
  ],
  "metadata": {
    "kernelspec": {
      "display_name": "Python 3",
      "language": "python",
      "name": "python3"
    },
    "language_info": {
      "codemirror_mode": {
        "name": "ipython",
        "version": 3
      },
      "file_extension": ".py",
      "mimetype": "text/x-python",
      "name": "python",
      "nbconvert_exporter": "python",
      "pygments_lexer": "ipython3",
      "version": "3.10.12"
    }
  },
  "nbformat": 4,
  "nbformat_minor": 0
}