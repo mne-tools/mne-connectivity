{
  "cells": [
    {
      "cell_type": "markdown",
      "metadata": {},
      "source": [
        "\n\n# Compute envelope correlations in source space\n\nCompute envelope correlations of orthogonalized activity\n:footcite:`HippEtAl2012,KhanEtAl2018` using pairwise and symmetric\northogonalization :footcite:`ColcloughEtAl2015` in source space using\nresting state CTF data.\n\nNote that the original procedure for symmetric orthogonalization in\n:footcite:`ColcloughEtAl2015` is:\n\n1. Extract inverse label data from raw\n2. Symmetric orthogonalization\n3. Band-pass filter\n4. Hilbert transform and absolute value\n5. Low-pass (1 Hz)\n\nHere we follow the procedure:\n\n1. Epoch data, then for each\n2. Extract inverse label data for each epoch\n3. Symmetric orthogonalization for each epoch\n4. Band-pass filter each epoch\n5. Hilbert transform and absolute value (inside envelope_correlation)\n\nThe differences between these two should hopefully be fairly minimal given\nthe pairwise orthogonalization used in :footcite:`KhanEtAl2018` used a similar\npipeline.\n"
      ]
    },
    {
      "cell_type": "code",
      "execution_count": null,
      "metadata": {
        "collapsed": false
      },
      "outputs": [],
      "source": [
        "# Authors: Eric Larson <larson.eric.d@gmail.com>\n#          Sheraz Khan <sheraz@khansheraz.com>\n#          Denis Engemann <denis.engemann@gmail.com>\n#\n# License: BSD (3-clause)\n\nimport os.path as op\n\nimport matplotlib.pyplot as plt\nimport mne\nimport numpy as np\nfrom mne.minimum_norm import apply_inverse_epochs, make_inverse_operator\nfrom mne.preprocessing import compute_proj_ecg, compute_proj_eog\n\nimport mne_connectivity\nfrom mne_connectivity import envelope_correlation\n\ndata_path = mne.datasets.brainstorm.bst_resting.data_path()\nsubjects_dir = op.join(data_path, \"subjects\")\nsubject = \"bst_resting\"\ntrans = op.join(data_path, \"MEG\", \"bst_resting\", \"bst_resting-trans.fif\")\nsrc = op.join(subjects_dir, subject, \"bem\", subject + \"-oct-6-src.fif\")\nbem = op.join(subjects_dir, subject, \"bem\", subject + \"-5120-bem-sol.fif\")\nraw_fname = op.join(\n    data_path, \"MEG\", \"bst_resting\", \"subj002_spontaneous_20111102_01_AUX.ds\"\n)"
      ]
    },
    {
      "cell_type": "markdown",
      "metadata": {},
      "source": [
        "Here we do some things in the name of speed, such as crop (which will\nhurt SNR) and downsample. Then we compute SSP projectors and apply them.\n\n"
      ]
    },
    {
      "cell_type": "code",
      "execution_count": null,
      "metadata": {
        "collapsed": false
      },
      "outputs": [],
      "source": [
        "raw = mne.io.read_raw_ctf(raw_fname, verbose=\"error\")\nraw.crop(0, 60).pick_types(meg=True, eeg=False).load_data().resample(80)\nraw.apply_gradient_compensation(3)\nprojs_ecg, _ = compute_proj_ecg(raw, n_grad=1, n_mag=2)\nprojs_eog, _ = compute_proj_eog(raw, n_grad=1, n_mag=2, ch_name=\"MLT31-4407\")\nraw.add_proj(projs_ecg + projs_eog)\nraw.apply_proj()\nraw.filter(0.1, None)  # this helps with symmetric orthogonalization later\ncov = mne.compute_raw_covariance(raw)  # compute before band-pass of interest"
      ]
    },
    {
      "cell_type": "markdown",
      "metadata": {},
      "source": [
        "## Compute the forward and inverse\n\n"
      ]
    },
    {
      "cell_type": "code",
      "execution_count": null,
      "metadata": {
        "collapsed": false
      },
      "outputs": [],
      "source": [
        "src = mne.read_source_spaces(src)\nfwd = mne.make_forward_solution(raw.info, trans, src, bem, verbose=True)\ndel src\ninv = make_inverse_operator(raw.info, fwd, cov)\ndel fwd"
      ]
    },
    {
      "cell_type": "markdown",
      "metadata": {},
      "source": [
        "Now we create epochs and prepare to band-pass filter them.\n\n"
      ]
    },
    {
      "cell_type": "code",
      "execution_count": null,
      "metadata": {
        "collapsed": false
      },
      "outputs": [],
      "source": [
        "duration = 10.0\nevents = mne.make_fixed_length_events(raw, duration=duration)\ntmax = duration - 1.0 / raw.info[\"sfreq\"]\nepochs = mne.Epochs(\n    raw, events=events, tmin=0, tmax=tmax, baseline=None, reject=dict(mag=20e-13)\n)\nsfreq = epochs.info[\"sfreq\"]\ndel raw, projs_ecg, projs_eog"
      ]
    },
    {
      "cell_type": "markdown",
      "metadata": {},
      "source": [
        "## Do pairwise-orthogonalized envelope correlation\n\n"
      ]
    },
    {
      "cell_type": "code",
      "execution_count": null,
      "metadata": {
        "collapsed": false
      },
      "outputs": [],
      "source": [
        "# sphinx_gallery_thumbnail_number = 2\n\nlabels = mne.read_labels_from_annot(subject, \"aparc_sub\", subjects_dir=subjects_dir)\nstcs = apply_inverse_epochs(\n    epochs, inv, lambda2=1.0 / 9.0, pick_ori=\"normal\", return_generator=True\n)\nlabel_ts = mne.extract_label_time_course(\n    stcs, labels, inv[\"src\"], return_generator=False\n)\ndel stcs\n\n\ndef bp_gen(label_ts):\n    \"\"\"Make a generator that band-passes on the fly.\"\"\"\n    for ts in label_ts:\n        yield mne.filter.filter_data(ts, sfreq, 14, 30)\n\n\ncorr_obj = envelope_correlation(bp_gen(label_ts), orthogonalize=\"pairwise\")\ncorr = corr_obj.combine()\ncorr = corr.get_data(output=\"dense\")[:, :, 0]\n\n\ndef plot_corr(corr, title):\n    fig, ax = plt.subplots(figsize=(4, 4), constrained_layout=True)\n    ax.imshow(corr, cmap=\"viridis\", clim=np.percentile(corr, [5, 95]))\n    fig.suptitle(title)\n\n\nplot_corr(corr, \"Pairwise\")\n\n\ndef plot_degree(corr, title):\n    threshold_prop = 0.15  # percentage of strongest edges to keep in the graph\n    degree = mne_connectivity.degree(corr, threshold_prop=threshold_prop)\n    stc = mne.labels_to_stc(labels, degree)\n    stc = stc.in_label(\n        mne.Label(inv[\"src\"][0][\"vertno\"], hemi=\"lh\")\n        + mne.Label(inv[\"src\"][1][\"vertno\"], hemi=\"rh\")\n    )\n    return stc.plot(\n        clim=dict(kind=\"percent\", lims=[75, 85, 95]),\n        colormap=\"gnuplot\",\n        subjects_dir=subjects_dir,\n        views=\"dorsal\",\n        hemi=\"both\",\n        smoothing_steps=25,\n        time_label=title,\n    )\n\n\nbrain = plot_degree(corr, \"Beta (pairwise, aparc_sub)\")"
      ]
    },
    {
      "cell_type": "markdown",
      "metadata": {},
      "source": [
        "## Do symmetric-orthogonalized envelope correlation\nHere we need the number of labels to be less than the rank of the data\n(here around 200), because all label time courses are orthogonalized\nrelative to one another. ``'aparc_sub'`` has over 400 labels, so here we\nuse ``'aparc.a2009s'``, which has fewer than 200.\n\n"
      ]
    },
    {
      "cell_type": "code",
      "execution_count": null,
      "metadata": {
        "collapsed": false
      },
      "outputs": [],
      "source": [
        "labels = mne.read_labels_from_annot(subject, \"aparc.a2009s\", subjects_dir=subjects_dir)\nstcs = apply_inverse_epochs(\n    epochs, inv, lambda2=1.0 / 9.0, pick_ori=\"normal\", return_generator=True\n)\nlabel_ts = mne.extract_label_time_course(\n    stcs, labels, inv[\"src\"], return_generator=True\n)\ndel stcs, epochs\n\nlabel_ts_orth = mne_connectivity.envelope.symmetric_orth(label_ts)\ncorr_obj = envelope_correlation(  # already orthogonalized earlier\n    bp_gen(label_ts_orth), orthogonalize=False\n)\n\n# average over epochs, take absolute value, and plot\ncorr = corr_obj.combine()\ncorr = corr.get_data(output=\"dense\")[:, :, 0]\ncorr.flat[:: corr.shape[0] + 1] = 0  # zero out the diagonal\ncorr = np.abs(corr)\n\nplot_corr(corr, \"Symmetric\")\nplot_degree(corr, \"Beta (symmetric, aparc.a2009s)\")"
      ]
    },
    {
      "cell_type": "markdown",
      "metadata": {},
      "source": [
        "## References\n.. footbibliography::\n\n"
      ]
    }
  ],
  "metadata": {
    "kernelspec": {
      "display_name": "Python 3",
      "language": "python",
      "name": "python3"
    },
    "language_info": {
      "codemirror_mode": {
        "name": "ipython",
        "version": 3
      },
      "file_extension": ".py",
      "mimetype": "text/x-python",
      "name": "python",
      "nbconvert_exporter": "python",
      "pygments_lexer": "ipython3",
      "version": "3.10.12"
    }
  },
  "nbformat": 4,
  "nbformat_minor": 0
}